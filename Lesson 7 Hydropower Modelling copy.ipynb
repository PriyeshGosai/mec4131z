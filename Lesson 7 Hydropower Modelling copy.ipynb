{
 "cells": [
  {
   "cell_type": "markdown",
   "metadata": {},
   "source": [
    "### 📘 Lesson 7: Hydropower Plant Modelling"
   ]
  },
  {
   "cell_type": "markdown",
   "metadata": {},
   "source": [
    "<div style=\"display: flex; align-items: center; justify-content: space-between;\">\n",
    "  <div>\n",
    "    <h3>Course presenters</h3>\n",
    "    <ul>\n",
    "      <li><strong>Priyesh Gosai</strong> - Energy Systems Modeler and Training Coordinator</li>\n",
    "      <li><strong>Dr. Fabian Hofmann</strong> - Senior Optimization and Energy System Modelling Expert</li>\n",
    "    </ul>\n",
    "  </div>\n",
    "  <div>\n",
    "    <a href=\"https://openenergytransition.org/index.html\">\n",
    "      <img src=\"https://openenergytransition.org/assets/img/oet-logo-red-n-subtitle.png\" height=\"60\" alt=\"OET\">\n",
    "    </a>\n",
    "  </div>\n",
    "</div>\n"
   ]
  },
  {
   "cell_type": "markdown",
   "metadata": {},
   "source": [
    "#### 🎯 Learning Objectives  \n",
    "\n"
   ]
  },
  {
   "cell_type": "markdown",
   "metadata": {},
   "source": [
    "* Run a demonstration model using real data. \n",
    "* Solve the Day ahead and intra day model. \n",
    "* Analyse the results.\n",
    "\n",
    "---"
   ]
  },
  {
   "cell_type": "markdown",
   "metadata": {},
   "source": [
    "#### 📈 Market Model"
   ]
  },
  {
   "cell_type": "code",
   "execution_count": null,
   "metadata": {},
   "outputs": [],
   "source": [
    "# Google Colab users\n",
    "# Remove the comments in the rows below to set up your notebook.\n",
    "\n",
    "# from google.colab import drive\n",
    "# import os\n",
    "\n",
    "# drive.mount('/content/drive')\n",
    "# os.chdir('/content/drive/MyDrive/psfo_2025/mec4131z/')"
   ]
  },
  {
   "cell_type": "code",
   "execution_count": null,
   "metadata": {},
   "outputs": [],
   "source": [
    "# from colab_scripts import install_colab_dependencies\n",
    "# install_colab_dependencies()"
   ]
  },
  {
   "cell_type": "code",
   "execution_count": null,
   "metadata": {},
   "outputs": [],
   "source": []
  },
  {
   "cell_type": "code",
   "execution_count": null,
   "metadata": {},
   "outputs": [],
   "source": [
    "import pypsa\n",
    "import pandas as pd\n",
    "import numpy as np\n",
    "from training_scripts import *\n"
   ]
  },
  {
   "cell_type": "code",
   "execution_count": null,
   "metadata": {},
   "outputs": [],
   "source": [
    "input_file_name = 'data/Lesson5_model.xlsx'\n",
    "path = convert_selected_sheets_to_csv(input_file_name, 'lesson5_csv_folder')"
   ]
  },
  {
   "cell_type": "code",
   "execution_count": null,
   "metadata": {},
   "outputs": [],
   "source": [
    "network = pypsa.Network()\n",
    "network.import_from_csv_folder(path)"
   ]
  },
  {
   "cell_type": "markdown",
   "metadata": {},
   "source": [
    "💧 **Setting Water Availability for Hydropower Plants**\n"
   ]
  },
  {
   "cell_type": "markdown",
   "metadata": {},
   "source": [
    "⚡ **Modeling Demand Side Management (DSM)**  \n",
    "\n",
    "\n",
    "\n"
   ]
  },
  {
   "cell_type": "code",
   "execution_count": null,
   "metadata": {},
   "outputs": [],
   "source": [
    "network.optimize(solver_name='highs')"
   ]
  },
  {
   "cell_type": "code",
   "execution_count": null,
   "metadata": {},
   "outputs": [],
   "source": [
    "del network.model\n",
    "\n",
    "network_id = network.copy()\n"
   ]
  },
  {
   "cell_type": "markdown",
   "metadata": {},
   "source": [
    "```\n",
    "\n",
    "\n",
    "```"
   ]
  },
  {
   "cell_type": "code",
   "execution_count": null,
   "metadata": {},
   "outputs": [],
   "source": [
    "# Define the carriers that should be committable\n",
    "committable_carriers = [\"coal\", \"gas\", \"biomass\"]\n",
    "\n",
    "# Step 1: Identify generators that produced power during the simulation\n",
    "active_generators = network.generators_t.p.sum() > 0  # Sum over time and check if nonzero\n",
    "\n",
    "# Step 2: Filter generators that belong to the selected carriers and were active\n",
    "active_and_committable = network.generators.index[network.generators[\"carrier\"].isin(committable_carriers) & active_generators]\n",
    "\n",
    "# Step 3: Set 'committable' = True only for those generators\n",
    "network.generators.loc[active_and_committable, \"committable\"] = True"
   ]
  },
  {
   "cell_type": "markdown",
   "metadata": {},
   "source": []
  },
  {
   "cell_type": "markdown",
   "metadata": {},
   "source": [
    "###\n",
    "---"
   ]
  }
 ],
 "metadata": {
  "kernelspec": {
   "display_name": "flex_training_env",
   "language": "python",
   "name": "python3"
  },
  "language_info": {
   "codemirror_mode": {
    "name": "ipython",
    "version": 3
   },
   "file_extension": ".py",
   "mimetype": "text/x-python",
   "name": "python",
   "nbconvert_exporter": "python",
   "pygments_lexer": "ipython3",
   "version": "3.10.16"
  }
 },
 "nbformat": 4,
 "nbformat_minor": 2
}
