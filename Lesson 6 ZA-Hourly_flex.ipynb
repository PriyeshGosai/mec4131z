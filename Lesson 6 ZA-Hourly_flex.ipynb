{
 "cells": [
  {
   "cell_type": "markdown",
   "metadata": {},
   "source": [
    "### 📘 Lesson 6: CFPP Flexibility"
   ]
  },
  {
   "cell_type": "markdown",
   "metadata": {},
   "source": [
    "<div style=\"display: flex; align-items: center; justify-content: space-between;\">\n",
    "  <div>\n",
    "    <h3>Course presenters</h3>\n",
    "    <ul>\n",
    "      <li><strong>Priyesh Gosai</strong> - Energy Systems Modeler and Training Coordinator</li>\n",
    "      <li><strong>Dr. Graeme Chown</strong> - Chown and Associates</li>\n",
    "    </ul>\n",
    "  </div>\n",
    "  <div>\n",
    "    <a href=\"https://openenergytransition.org/index.html\">\n",
    "      <img src=\"https://openenergytransition.org/assets/img/oet-logo-red-n-subtitle.png\" height=\"60\" alt=\"OET\">\n",
    "    </a>\n",
    "  </div>\n",
    "</div>\n"
   ]
  },
  {
   "cell_type": "markdown",
   "metadata": {},
   "source": [
    "##### 🎯 Learning Objectives  \n"
   ]
  },
  {
   "cell_type": "markdown",
   "metadata": {},
   "source": [
    "\n",
    "* Introduce participants to the PyPSA toolbox.  \n",
    "* Provide details of relevant components.  \n",
    "* Build and solve a simple PyPSA model.  \n",
    "* Review the data structures for static and time-series data.  \n",
    "* Analyze the results.  \n",
    "\n",
    "The content also includes references to other toolboxes such as `numpy`, `pandas`, `matplotlib`, and `plotly`, but only covers functions relevant to a PyPSA workflow.  \n",
    "\n",
    "📌 Participants unfamiliar with these toolboxes are encouraged to explore online videos or courses for deeper learning. 🎥📚  \n",
    "\n",
    "---"
   ]
  },
  {
   "cell_type": "code",
   "execution_count": null,
   "metadata": {},
   "outputs": [],
   "source": [
    "# Google Colab users\n",
    "# Remove the comments in the rows below to set up your notebook.\n",
    "\n",
    "# from google.colab import drive\n",
    "# import os\n",
    "\n",
    "# drive.mount('/content/drive')\n",
    "# os.chdir('/content/drive/MyDrive/psfo_2025/mec4131z/')"
   ]
  },
  {
   "cell_type": "code",
   "execution_count": null,
   "metadata": {},
   "outputs": [],
   "source": [
    "# from colab_scripts import install_colab_dependencies\n",
    "# install_colab_dependencies()"
   ]
  },
  {
   "cell_type": "code",
   "execution_count": null,
   "metadata": {},
   "outputs": [],
   "source": [
    "import pypsa\n",
    "import pandas as pd\n",
    "import numpy as np\n",
    "from training_scripts import *\n"
   ]
  },
  {
   "cell_type": "code",
   "execution_count": null,
   "metadata": {},
   "outputs": [],
   "source": [
    "input_file_name = 'data/Lesson4_solution.xlsx'\n",
    "path = convert_selected_sheets_to_csv(input_file_name, 'lesson4_csv_folder')\n",
    "network = pypsa.Network(path)"
   ]
  },
  {
   "cell_type": "code",
   "execution_count": null,
   "metadata": {},
   "outputs": [],
   "source": []
  },
  {
   "cell_type": "markdown",
   "metadata": {},
   "source": [
    "### \n",
    "---"
   ]
  }
 ],
 "metadata": {
  "kernelspec": {
   "display_name": "base",
   "language": "python",
   "name": "python3"
  },
  "language_info": {
   "codemirror_mode": {
    "name": "ipython",
    "version": 3
   },
   "file_extension": ".py",
   "mimetype": "text/x-python",
   "name": "python",
   "nbconvert_exporter": "python",
   "pygments_lexer": "ipython3",
   "version": "3.11.5"
  }
 },
 "nbformat": 4,
 "nbformat_minor": 2
}
