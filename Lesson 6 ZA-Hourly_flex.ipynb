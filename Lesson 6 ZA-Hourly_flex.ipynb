{
 "cells": [
  {
   "cell_type": "markdown",
   "metadata": {},
   "source": [
    "### 📘 Lesson 5: South Africa Flexibility"
   ]
  },
  {
   "cell_type": "markdown",
   "metadata": {},
   "source": [
    "<div style=\"display: flex; align-items: center; justify-content: space-between;\">\n",
    "  <div>\n",
    "    <h3>Course presenters</h3>\n",
    "    <ul>\n",
    "      <li><strong>Priyesh Gosai</strong> - Energy Systems Modeler and Training Coordinator</li>\n",
    "      <li><strong>Dr. Fabian Hofmann</strong> - Senior Optimization and Energy System Modelling Expert</li>\n",
    "    </ul>\n",
    "  </div>\n",
    "  <div>\n",
    "    <a href=\"https://openenergytransition.org/index.html\">\n",
    "      <img src=\"https://openenergytransition.org/assets/img/oet-logo-red-n-subtitle.png\" height=\"60\" alt=\"OET\">\n",
    "    </a>\n",
    "  </div>\n",
    "</div>\n"
   ]
  },
  {
   "cell_type": "markdown",
   "metadata": {},
   "source": [
    "##### 🎯 Learning Objectives  \n"
   ]
  },
  {
   "cell_type": "markdown",
   "metadata": {},
   "source": [
    "\n",
    "* Introduce participants to the PyPSA toolbox.  \n",
    "* Provide details of relevant components.  \n",
    "* Build and solve a simple PyPSA model.  \n",
    "* Review the data structures for static and time-series data.  \n",
    "* Analyze the results.  \n",
    "\n",
    "The content also includes references to other toolboxes such as `numpy`, `pandas`, `matplotlib`, and `plotly`, but only covers functions relevant to a PyPSA workflow.  \n",
    "\n",
    "📌 Participants unfamiliar with these toolboxes are encouraged to explore online videos or courses for deeper learning. 🎥📚  \n",
    "\n",
    "---"
   ]
  },
  {
   "cell_type": "markdown",
   "metadata": {},
   "source": [
    "Modelling reserves\n",
    "\n",
    "\n",
    "- Lesson 5 - SA Network - Hourly\n",
    "- Lesson 6 - SA Network - 4 second (battery and gas engine)\n",
    "- Lesson 7 - Hydro\n",
    "- Lesson 8 - Market modelling (EU)\n",
    "\n",
    "\n"
   ]
  },
  {
   "cell_type": "markdown",
   "metadata": {},
   "source": [
    "### 📥 **Importing Essential Libraries**  \n"
   ]
  },
  {
   "cell_type": "code",
   "execution_count": 1,
   "metadata": {},
   "outputs": [],
   "source": [
    "import pypsa\n",
    "import pandas as pd\n",
    "import numpy as np\n",
    "from training_scripts import *"
   ]
  },
  {
   "cell_type": "markdown",
   "metadata": {},
   "source": [
    "#### **🔧⚡ Create a PyPSA Network Object**"
   ]
  },
  {
   "cell_type": "markdown",
   "metadata": {},
   "source": []
  },
  {
   "cell_type": "markdown",
   "metadata": {},
   "source": [
    "#### **Importing Networks in PyPSA**\n",
    "\n",
    "PyPSA allows importing networks using three primary formats: **CSV**, **HDF5**, and **NetCDF**. Each format has its corresponding function.\n",
    "\n",
    "\n",
    "**1️⃣ Importing a Network from CSV**\n",
    "\n",
    "PyPSA can load networks stored in a directory containing CSV files. This is useful for human-readable and editable data.\n",
    "\n",
    "```python\n",
    "network.import_from_csv_folder(\"path_to_csv_directory\")\n",
    "```\n",
    "**2️⃣ Importing a Network from HDF5**\n",
    "\n",
    "HDF5 is a binary format that allows for fast loading and saving of networks.\n",
    "\n",
    "```python\n",
    "network = pypsa.Network(\"path_to_hdf5_file.h5\")\n",
    "```\n",
    "\n",
    "**3️⃣ Importing a Network from NetCDF**\n",
    "\n",
    "NetCDF is another binary format commonly used for scientific computing.\n",
    "\n",
    "```python\n",
    "network = pypsa.Network(\"path_to_netcdf_file.nc\")\n",
    "```\n"
   ]
  },
  {
   "cell_type": "markdown",
   "metadata": {},
   "source": [
    "#### **📝 Setting up a data import using a spreadsheet.**\n",
    "\n",
    "In this example, a **simplified workflow** is demonstrated using an Excel spreadsheet. The **actual model** will implement a more **formal data processing** workflow, similar to the approach used in PyPSA-EUR.\n",
    "\n",
    "* A spreadsheet has been developed that contains some of the main input data sources for a PyPSA model. \n",
    "* The spreadsheet is in `.xlsx` format can be opened in Microsoft Excel or Google Sheets. \n",
    "* A custom function is applied to convert the excel spreadsheet into a folder of csv files that can be uploaded into the PyPSA network. \n",
    "\n",
    "\n",
    "---\n",
    "\n",
    "\n"
   ]
  },
  {
   "cell_type": "markdown",
   "metadata": {},
   "source": [
    "**⚡ Generators**"
   ]
  },
  {
   "cell_type": "markdown",
   "metadata": {},
   "source": [
    "\n",
    "\n",
    "\n",
    "Generators attach to a single bus, converting energy from their `carrier` to the bus `carrier`.  \n",
    "\n",
    "* Their power output is constrained by `p_nom * p_max_pu` and `p_nom * p_min_pu`.  \n",
    "\n",
    "* Static limits define dispatchable generators, while time-varying limits model renewables.  \n",
    "\n",
    "* Time series `p_max_pu` and `p_min_pu` determine availability per snapshot.  \n",
    "\n",
    "* For unit commitment constraints, refer to the PyPSA documentation. \n",
    "\n",
    "Some key variables relevant to this model are given below. \n",
    "\n",
    "\n",
    "| Attribute              | Type            | Unit           | Default | Description | Constraint |\n",
    "|------------------------|----------------|---------------|---------|-------------|------------------|\n",
    "| `name`              | string         | n/a           | n/a     | Unique name |  |\n",
    "| `bus`               | string         | n/a           | n/a     | Name of bus to which generator is attached |  |\n",
    "| `p_nom`            | float          | MW            | 0       | Nominal power for limits in optimization. |  |\n",
    "| `p_nom_extendable` | boolean        |           | False   | Switch to allow capacity p_nom to be extended in optimization. | |\n",
    "| `p_min_pu`        | static/series  | per unit      | n/a     | Minimum output per unit of p_nom. | $p_t \\geq p_{nom}\\times p_{min,pu,t}$ |\n",
    "| `p_max_pu`        | static/series  | per unit      | 1       | Maximum output per unit of p_nom. | $p_t \\leq p_{nom}\\times p_{max,pu,t}$ |\n",
    "| `p_set`           | static/series  | MW            | n/a     | Active power set point (for PF). | $p_t = p_{set}$  |\n",
    "| `e_sum_min`       | float          | MWh           | -inf    | Minimum total energy produced during optimization horizon. | $\\sum p_t \\cdot \\delta t \\leq e_{\\max}$\n",
    "| `e_sum_max`       | float          | MWh           | inf     | Maximum total energy produced during optimization horizon. | $\\sum p_t \\cdot \\delta t \\leq e_{\\max}$\n",
    "| `marginal_cost`   | static/series  | currency/MWh  | n/a     | Marginal cost of production of 1 MWh. | |\n",
    "\n"
   ]
  },
  {
   "cell_type": "markdown",
   "metadata": {},
   "source": [
    "**⏳ Set `snapshots`** "
   ]
  },
  {
   "cell_type": "markdown",
   "metadata": {},
   "source": []
  },
  {
   "cell_type": "markdown",
   "metadata": {},
   "source": [
    "**Buses**"
   ]
  },
  {
   "cell_type": "markdown",
   "metadata": {},
   "source": [
    "**Carriers**"
   ]
  },
  {
   "cell_type": "markdown",
   "metadata": {},
   "source": [
    "🌞 **Applying `p_max_pu` Constraint on VRE Generators**  \n",
    "\n",
    "* Variable Renewable Energy (VRE) generators, such as solar and wind, have time-dependent availability limits.  \n",
    "* The `p_max_pu` constraint, imported as a time-series dataset, determines the maximum power output at each snapshot on a per unit basis.  \n",
    "\n",
    "\n"
   ]
  },
  {
   "cell_type": "markdown",
   "metadata": {},
   "source": [
    "---\n",
    "🔗 **Links**"
   ]
  },
  {
   "cell_type": "markdown",
   "metadata": {},
   "source": [
    "\n",
    "\n",
    "* Links enable controllable, directed power flow between two buses (`bus0 → bus1`).  \n",
    "* They can have efficiency losses and marginal costs, restricting default flow to one direction.  \n",
    "* For bidirectional, lossless operation, set `efficiency = 1`, `marginal_cost = 0`, and `p_min_pu = -1`.  \n",
    "* Links model HVDC interconnections, converters, heat pumps, electrolysers, and other controllable power flows.  \n",
    "* ⚠️ In the actual model, lines will be used instead of links for passive AC/DC transmission.  \n"
   ]
  },
  {
   "cell_type": "markdown",
   "metadata": {},
   "source": [
    "---\n",
    "🔌 **Loads**"
   ]
  },
  {
   "cell_type": "markdown",
   "metadata": {},
   "source": [
    " \n",
    "\n",
    "* A load connects to a single bus and consumes power as a PQ load.  \n",
    "* It can represent electricity demand or other types of loads like hydrogen or heat.  \n",
    "* If active power is consumed, the load draws from the bus.  \n",
    "* If reactive power is consumed, the load behaves like an inductor.  \n",
    "* Loads are essential for demand modeling in power system simulations. ⚡🏠  \n"
   ]
  },
  {
   "cell_type": "markdown",
   "metadata": {},
   "source": [
    "---\n",
    "🔋 **Storage: `store` vs. `storage_unit`**  "
   ]
  },
  {
   "cell_type": "markdown",
   "metadata": {},
   "source": [
    "\n",
    "\n",
    "There are two components for energy storage in PyPSA: Storage Units and Stores.  \n",
    "\n",
    "* ⚡ Storage Unit  \n",
    "   * Attaches to a single bus and is used for inter-temporal power shifting with a time-varying state of charge.  \n",
    "   * The energy capacity is defined as `max_hours * nominal power (MW)`, and it includes charging/discharging efficiencies.  \n",
    "\n",
    "* 🏭 Store  \n",
    "   * Connects to a single bus and acts as a fundamental energy storage component without energy conversion.  \n",
    "   * Controls and optimizes energy capacity size, but power output must be controlled using Link components.  \n",
    "\n",
    "🔄 Key Differences  \n",
    "| Feature           | Storage Unit | Store |\n",
    "|------------------|-------------|-------|\n",
    "| Power Control | Directly defined | Requires Links |\n",
    "| Energy Capacity | Fixed as `max_hours * MW` | Optimized independently |\n",
    "| Marginal Cost | Applies only to discharging | Applies to both charging & discharging |\n",
    "| Energy Carrier Conversion| Possible | Not possible (inherits from bus) |\n",
    "\n",
    "Stores are more flexible but require Links for power control, while Storage Units offer a simpler implementation for direct energy storage modeling. ⚙️🔄  \n"
   ]
  },
  {
   "cell_type": "markdown",
   "metadata": {},
   "source": [
    "⚡ **Storage Unit**\n",
    "\n",
    "\n",
    "| Attribute              | Type            | Unit           | Default | Description |\n",
    "|------------------------|----------------|---------------|---------|-------------|\n",
    "| `name`              | string         | n/a           | n/a     | Unique name | \n",
    "| `bus`               | string         | n/a           | n/a     | Name of bus to which generator is attached |\n",
    "| `p_nom`            | float          | MW            | 0       | Nominal power for limits in optimization. | \n",
    "| `marginal_cost`   | static/series  | currency/MWh  | n/a     | Marginal cost of production of 1 MWh. | \n",
    "| `max_hours` | float | h | 1 | Maximum state of charge capacity in terms of hours at full output capacity `p_nom` |  \n",
    "|`state_of_charge_initial`| float | MWh | 0  | State of charge before the snapshots in the OPF. | \n",
    "|`efficiency_store`  | static/series | per unit | 1 | Efficiency of storage on the way into the storage. | \n",
    "|`efficiency_dispatch`| static/series | per unit | 1 | Efficiency of storage on the way out of the storage. | \n",
    "| `standing_loss`| static/series | per unit | 0 | Losses per hour to state of charge. | \n",
    "| `inflow`| static/series | MW | 0 | Inflow to the state of charge, e.g. due to river inflow in hydro reservoir. |\n",
    "\n",
    "\n",
    "\n",
    "\n",
    "\n",
    "\n"
   ]
  },
  {
   "cell_type": "markdown",
   "metadata": {},
   "source": [
    "---\n",
    "### 🏗️ Working with the `network` object"
   ]
  },
  {
   "cell_type": "markdown",
   "metadata": {},
   "source": [
    "The network contains functions, such as: \n",
    "\n",
    "- 📥 Adding data: `network.add()` or `network.import_from_csv()` - As described before.\n",
    "- 🔍 Optimization: `network.optimize()` – Runs the optimization process.  \n",
    "   * Supports multiple solvers including GLPK, Gurobi, CPLEX, and HiGHS. \n",
    "- 📊 Statistics: `network.statistics()` – Generates system-wide statistics.  \n",
    "- 🗺️ Visualization: `network.plot()` – Plots the network layout.  \n"
   ]
  },
  {
   "cell_type": "markdown",
   "metadata": {},
   "source": [
    "**Import Network**"
   ]
  },
  {
   "cell_type": "code",
   "execution_count": 17,
   "metadata": {},
   "outputs": [
    {
     "name": "stdout",
     "output_type": "stream",
     "text": [
      "Collecting openpyxl\n",
      "  Using cached openpyxl-3.1.5-py2.py3-none-any.whl.metadata (2.5 kB)\n",
      "Collecting et-xmlfile (from openpyxl)\n",
      "  Using cached et_xmlfile-2.0.0-py3-none-any.whl.metadata (2.7 kB)\n",
      "Using cached openpyxl-3.1.5-py2.py3-none-any.whl (250 kB)\n",
      "Using cached et_xmlfile-2.0.0-py3-none-any.whl (18 kB)\n",
      "Installing collected packages: et-xmlfile, openpyxl\n",
      "Successfully installed et-xmlfile-2.0.0 openpyxl-3.1.5\n"
     ]
    }
   ],
   "source": [
    "!pip install openpyxl"
   ]
  },
  {
   "cell_type": "code",
   "execution_count": 21,
   "metadata": {},
   "outputs": [
    {
     "name": "stderr",
     "output_type": "stream",
     "text": [
      "INFO:root:Converted snapshots to CSV.\n",
      "INFO:root:Converted generators-p_max_pu to CSV.\n",
      "INFO:root:Converted loads-p_set to CSV.\n",
      "INFO:root:Converted storage_units-inflow to CSV.\n",
      "INFO:root:Conversion complete. CSV files are saved in 'lesson4_csv_folder'\n",
      "INFO:root:Excel file closed successfully.\n"
     ]
    }
   ],
   "source": [
    "input_file_name = 'data/Lesson4_solution.xlsx'\n",
    "path = convert_selected_sheets_to_csv(input_file_name, 'lesson4_csv_folder')"
   ]
  },
  {
   "cell_type": "markdown",
   "metadata": {},
   "source": [
    "**Review Input Data**"
   ]
  },
  {
   "cell_type": "code",
   "execution_count": 19,
   "metadata": {},
   "outputs": [
    {
     "data": {
      "text/plain": [
       "'lesson4_csv_folder'"
      ]
     },
     "execution_count": 19,
     "metadata": {},
     "output_type": "execute_result"
    }
   ],
   "source": [
    "path"
   ]
  },
  {
   "cell_type": "code",
   "execution_count": 20,
   "metadata": {},
   "outputs": [
    {
     "name": "stderr",
     "output_type": "stream",
     "text": [
      "WARNING:pypsa.io:Importing network from PyPSA version v? while current version is v0.33.0. Read the release notes at https://pypsa.readthedocs.io/en/latest/release_notes.html to prepare your network for import.\n",
      "ERROR:pypsa.io:Error, no buses found\n"
     ]
    }
   ],
   "source": [
    "network.import_from_csv_folder(path)\n"
   ]
  },
  {
   "cell_type": "code",
   "execution_count": null,
   "metadata": {},
   "outputs": [],
   "source": [
    "network.generators_t.p_max_pu.head()"
   ]
  },
  {
   "cell_type": "code",
   "execution_count": null,
   "metadata": {},
   "outputs": [],
   "source": [
    "network.loads_t.p_set.head()"
   ]
  },
  {
   "cell_type": "code",
   "execution_count": null,
   "metadata": {},
   "outputs": [],
   "source": [
    "network.loads"
   ]
  },
  {
   "cell_type": "code",
   "execution_count": null,
   "metadata": {},
   "outputs": [],
   "source": [
    "network.links.head()"
   ]
  },
  {
   "cell_type": "markdown",
   "metadata": {},
   "source": [
    "**Solve Model**"
   ]
  },
  {
   "cell_type": "code",
   "execution_count": null,
   "metadata": {},
   "outputs": [],
   "source": [
    "network.optimize(solver_name='highs')"
   ]
  },
  {
   "cell_type": "markdown",
   "metadata": {},
   "source": [
    "**Results**"
   ]
  },
  {
   "cell_type": "code",
   "execution_count": null,
   "metadata": {},
   "outputs": [],
   "source": [
    "network.generators_t.p.head()"
   ]
  },
  {
   "cell_type": "code",
   "execution_count": null,
   "metadata": {},
   "outputs": [],
   "source": [
    "network.storage_units_t.p.head()"
   ]
  },
  {
   "cell_type": "code",
   "execution_count": null,
   "metadata": {},
   "outputs": [],
   "source": []
  },
  {
   "cell_type": "code",
   "execution_count": null,
   "metadata": {},
   "outputs": [],
   "source": []
  },
  {
   "cell_type": "code",
   "execution_count": null,
   "metadata": {},
   "outputs": [],
   "source": []
  },
  {
   "cell_type": "code",
   "execution_count": null,
   "metadata": {},
   "outputs": [],
   "source": []
  },
  {
   "cell_type": "code",
   "execution_count": null,
   "metadata": {},
   "outputs": [],
   "source": []
  },
  {
   "cell_type": "code",
   "execution_count": null,
   "metadata": {},
   "outputs": [],
   "source": [
    "bus_to_view = \"NO\"\n",
    "\n",
    "# Get generators and storage units connected to the selected bus\n",
    "clustered_generators = network.generators.query(\"bus == @bus_to_view\").index\n",
    "clustered_storage_units = network.storage_units.query(\"bus == @bus_to_view\").index\n",
    "\n",
    "# Extract time-series data for the selected generators and storage units\n",
    "gen_p = network.generators_t.p[clustered_generators]\n",
    "storage_p = network.storage_units_t.p[clustered_storage_units]\n",
    "\n",
    "# Combine both data frames (handle cases where one may be empty)\n",
    "combined_df = gen_p.join(storage_p, how=\"outer\").fillna(0)\n",
    "\n",
    "combined_df.plot()\n"
   ]
  },
  {
   "cell_type": "code",
   "execution_count": null,
   "metadata": {},
   "outputs": [],
   "source": [
    "# Get all buses in the network\n",
    "buses = network.buses.index\n",
    "\n",
    "# generator and storage unit mapping to buses\n",
    "gen_bus_map = network.generators[\"bus\"]\n",
    "store_bus_map = network.storage_units[\"bus\"]\n",
    "\n",
    "# Initialize a DataFrame to store marginal prices per bus\n",
    "marginal_price_per_bus = pd.DataFrame(index=network.snapshots, columns=buses)\n",
    "\n",
    "# Loop through each timestep\n",
    "for t in network.snapshots:\n",
    "    # Initialize dictionary to store marginal prices for this timestep\n",
    "    marginal_prices_t = {}\n",
    "\n",
    "    # Get operational generators and storage units for this timestep\n",
    "    operational_gens = network.generators_t.p.loc[t]\n",
    "    operational_stores = network.storage_units_t.p.loc[t]\n",
    "\n",
    "    # Loop through each bus\n",
    "    for bus in buses:\n",
    "        # Get generators and storage units connected to this bus\n",
    "        gen_at_bus = gen_bus_map[gen_bus_map == bus].index\n",
    "        store_at_bus = store_bus_map[store_bus_map == bus].index\n",
    "\n",
    "        # Filter only active (p > 0) units\n",
    "        active_gens = operational_gens[gen_at_bus][operational_gens[gen_at_bus] > 0].index\n",
    "        active_stores = operational_stores[store_at_bus][operational_stores[store_at_bus] > 0].index\n",
    "\n",
    "        # Get marginal costs of active generators and storage units\n",
    "        costs_gens = network.generators.loc[active_gens, \"marginal_cost\"] if not active_gens.empty else pd.Series(dtype=float)\n",
    "        costs_stores = network.storage_units.loc[active_stores, \"marginal_cost\"] if not active_stores.empty else pd.Series(dtype=float)\n",
    "\n",
    "        # Find the highest marginal cost at this bus\n",
    "        all_costs = pd.concat([costs_gens, costs_stores])\n",
    "        marginal_prices_t[bus] = all_costs.max() if not all_costs.empty else 0\n",
    "\n",
    "    # Store results in the DataFrame\n",
    "    marginal_price_per_bus.loc[t] = marginal_prices_t\n",
    "\n",
    "marginal_price_per_bus.head()"
   ]
  },
  {
   "cell_type": "code",
   "execution_count": null,
   "metadata": {},
   "outputs": [],
   "source": [
    "marginal_price_per_bus.plot()"
   ]
  },
  {
   "cell_type": "markdown",
   "metadata": {},
   "source": [
    "### \n",
    "---"
   ]
  }
 ],
 "metadata": {
  "kernelspec": {
   "display_name": "base",
   "language": "python",
   "name": "python3"
  },
  "language_info": {
   "codemirror_mode": {
    "name": "ipython",
    "version": 3
   },
   "file_extension": ".py",
   "mimetype": "text/x-python",
   "name": "python",
   "nbconvert_exporter": "python",
   "pygments_lexer": "ipython3",
   "version": "3.11.5"
  }
 },
 "nbformat": 4,
 "nbformat_minor": 2
}
