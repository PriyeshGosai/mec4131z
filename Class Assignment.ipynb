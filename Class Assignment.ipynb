{
 "cells": [
  {
   "cell_type": "markdown",
   "metadata": {},
   "source": [
    "2 groups per topic. \n",
    "\n",
    "1. South Africa - DA model (4s resolution)\n",
    "2. South Africa - 2030 Plan\n",
    "3. South Africa - 2040 Plan\n"
   ]
  },
  {
   "cell_type": "code",
   "execution_count": null,
   "metadata": {},
   "outputs": [],
   "source": []
  }
 ],
 "metadata": {
  "language_info": {
   "name": "python"
  }
 },
 "nbformat": 4,
 "nbformat_minor": 2
}
