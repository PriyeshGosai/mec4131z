{
 "cells": [
  {
   "cell_type": "markdown",
   "metadata": {},
   "source": [
    "### 📘 Lesson 5: Modelling reserves on 4 second resolution data"
   ]
  },
  {
   "cell_type": "markdown",
   "metadata": {},
   "source": [
    "<div style=\"display: flex; align-items: center; justify-content: space-between;\">\n",
    "  <div>\n",
    "    <h3>Course presenters</h3>\n",
    "    <ul>\n",
    "      <li><strong>Priyesh Gosai</strong> - Energy Systems Modeler and Training Coordinator</li>\n",
    "      <li><strong>Dr. Fabian Hofmann</strong> - Senior Optimization and Energy System Modelling Expert</li>\n",
    "    </ul>\n",
    "  </div>\n",
    "  <div>\n",
    "    <a href=\"https://openenergytransition.org/index.html\">\n",
    "      <img src=\"https://openenergytransition.org/assets/img/oet-logo-red-n-subtitle.png\" height=\"60\" alt=\"OET\">\n",
    "    </a>\n",
    "  </div>\n",
    "</div>\n"
   ]
  },
  {
   "cell_type": "markdown",
   "metadata": {},
   "source": [
    "##### 🎯 Learning Objectives  \n"
   ]
  },
  {
   "cell_type": "markdown",
   "metadata": {},
   "source": [
    "\n",
    "* Import a network. \n",
    "* Evaluate input data.\n",
    "* Add reserve generators. \n",
    "* Inspect the results. \n",
    "\n",
    "---"
   ]
  },
  {
   "cell_type": "markdown",
   "metadata": {},
   "source": [
    "#### 📥 **Importing Networks in PyPSA** "
   ]
  },
  {
   "cell_type": "markdown",
   "metadata": {},
   "source": [
    "\n",
    "\n",
    "PyPSA allows importing networks using three primary formats: **CSV**, **HDF5**, and **NetCDF**. Each format has its corresponding function.\n",
    "\n",
    "\n",
    "**1️⃣ Importing a Network from CSV**\n",
    "\n",
    "PyPSA can load networks stored in a directory containing CSV files. This is useful for human-readable and editable data.\n",
    "\n",
    "```python\n",
    "network.import_from_csv_folder(\"path_to_csv_directory\")\n",
    "```\n",
    "**2️⃣ Importing a Network from HDF5**\n",
    "\n",
    "HDF5 is a binary format that allows for fast loading and saving of networks.\n",
    "\n",
    "```python\n",
    "network = pypsa.Network(\"path_to_hdf5_file.h5\")\n",
    "```\n",
    "\n",
    "**3️⃣ Importing a Network from NetCDF**\n",
    "\n",
    "NetCDF is another binary format commonly used for scientific computing.\n",
    "\n",
    "```python\n",
    "network = pypsa.Network(\"path_to_netcdf_file.nc\")\n",
    "```\n"
   ]
  },
  {
   "cell_type": "markdown",
   "metadata": {},
   "source": [
    "⤴️ **Shortcut**\n",
    "\n",
    "Instead of using the `network.import_from_...(\"file_path/file_name.xxx\")` function to import a network, you can simply add the path and file location in the Network function and PyPSA will select the appropriate method.\n",
    "\n",
    "\n",
    "`network = pypsa.Network(\"file_path/file_name.xxx\")`"
   ]
  },
  {
   "cell_type": "markdown",
   "metadata": {},
   "source": [
    "#### **📝 Setting up a data import using a spreadsheet.**\n",
    "\n",
    "In this example, a **simplified workflow** is demonstrated using an Excel spreadsheet. The **actual model** will implement a more **formal data processing** workflow, similar to the approach used in PyPSA-EUR/Earth.\n",
    "\n",
    "* A spreadsheet has been developed that contains some of the main input data sources for a PyPSA model. \n",
    "* The spreadsheet is in `.xlsx` format can be opened in Microsoft Excel or Google Sheets. \n",
    "* A custom function is applied to convert the excel spreadsheet into a folder of csv files that can be uploaded into the PyPSA network. \n",
    "    * The function will create a folder containing the csv files that are imported into the network. \n",
    "    * This function will become obselete in the next version of PyPSA where an import function to import directly from Excel will be added to the default PyPSA functionality. See [PR #1159](https://github.com/PyPSA/PyPSA/pull/1159). \n",
    "    * The Excel file structure should work with the new update. \n",
    "\n",
    "\n",
    "---\n",
    "\n",
    "\n"
   ]
  },
  {
   "cell_type": "code",
   "execution_count": null,
   "metadata": {},
   "outputs": [],
   "source": [
    "import pypsa\n",
    "import pandas as pd\n",
    "import numpy as np\n",
    "from training_scripts import *\n",
    "# install_colab_dependencies() # For Google Colab users"
   ]
  },
  {
   "cell_type": "code",
   "execution_count": null,
   "metadata": {},
   "outputs": [],
   "source": [
    "input_file_name = 'data/Lesson5_Reserves.xlsx'\n",
    "path = convert_selected_sheets_to_csv(input_file_name, 'lesson5_csv_folder')\n",
    "network = pypsa.Network(path)"
   ]
  },
  {
   "cell_type": "markdown",
   "metadata": {},
   "source": [
    "Now analyse the model that has been set up without any reserves. \n",
    "\n",
    "* Add in reserves.\n",
    "* Observe the effects of adding reserves. \n",
    "* How does, `ramp_limit_up/down` and `marginal_cost` affect the solution? "
   ]
  },
  {
   "cell_type": "code",
   "execution_count": null,
   "metadata": {},
   "outputs": [],
   "source": [
    "import pandas as pd\n",
    "\n",
    "# Define your start and end times\n",
    "start_time = pd.Timestamp(\"2023/09/18  00:00:00\")\n",
    "end_time = pd.Timestamp(\"2023/09/19  00:00:00\")\n",
    "\n",
    "# Update the snapshots attribute with the new time window\n",
    "network.snapshots = network.snapshots[(network.snapshots >= start_time) & (network.snapshots <= end_time)]\n",
    "\n"
   ]
  },
  {
   "cell_type": "code",
   "execution_count": null,
   "metadata": {},
   "outputs": [],
   "source": [
    "network.links"
   ]
  },
  {
   "cell_type": "code",
   "execution_count": null,
   "metadata": {},
   "outputs": [],
   "source": [
    "network.optimize()"
   ]
  },
  {
   "cell_type": "code",
   "execution_count": null,
   "metadata": {},
   "outputs": [],
   "source": [
    "network.generators_t.p.plot(kind = 'area')"
   ]
  },
  {
   "cell_type": "code",
   "execution_count": null,
   "metadata": {},
   "outputs": [],
   "source": [
    "network.generators_t.p.sum()"
   ]
  },
  {
   "cell_type": "code",
   "execution_count": null,
   "metadata": {},
   "outputs": [],
   "source": [
    "network.loads_t.p_set.plot()"
   ]
  },
  {
   "cell_type": "code",
   "execution_count": null,
   "metadata": {},
   "outputs": [],
   "source": [
    "network.links_t.p0.plot()"
   ]
  },
  {
   "cell_type": "code",
   "execution_count": null,
   "metadata": {},
   "outputs": [],
   "source": [
    "(network.storage_units_t.state_of_charge/(60*60/4)).plot()"
   ]
  },
  {
   "cell_type": "code",
   "execution_count": null,
   "metadata": {},
   "outputs": [],
   "source": []
  },
  {
   "cell_type": "code",
   "execution_count": null,
   "metadata": {},
   "outputs": [],
   "source": []
  },
  {
   "cell_type": "code",
   "execution_count": null,
   "metadata": {},
   "outputs": [],
   "source": []
  },
  {
   "cell_type": "code",
   "execution_count": null,
   "metadata": {},
   "outputs": [],
   "source": []
  },
  {
   "cell_type": "code",
   "execution_count": null,
   "metadata": {},
   "outputs": [],
   "source": []
  },
  {
   "cell_type": "code",
   "execution_count": null,
   "metadata": {},
   "outputs": [],
   "source": []
  },
  {
   "cell_type": "code",
   "execution_count": null,
   "metadata": {},
   "outputs": [],
   "source": []
  },
  {
   "cell_type": "markdown",
   "metadata": {},
   "source": [
    "### \n",
    "---"
   ]
  }
 ],
 "metadata": {
  "kernelspec": {
   "display_name": "flex_training_env",
   "language": "python",
   "name": "python3"
  },
  "language_info": {
   "codemirror_mode": {
    "name": "ipython",
    "version": 3
   },
   "file_extension": ".py",
   "mimetype": "text/x-python",
   "name": "python",
   "nbconvert_exporter": "python",
   "pygments_lexer": "ipython3",
   "version": "3.10.16"
  }
 },
 "nbformat": 4,
 "nbformat_minor": 2
}
