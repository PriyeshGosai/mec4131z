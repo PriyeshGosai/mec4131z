{
 "cells": [
  {
   "cell_type": "markdown",
   "metadata": {},
   "source": [
    "### 📘 Lesson 4: Building a PyPSA Model"
   ]
  },
  {
   "cell_type": "markdown",
   "metadata": {},
   "source": [
    "<div style=\"display: flex; align-items: center; justify-content: space-between;\">\n",
    "  <div>\n",
    "    <h3>Course presenters</h3>\n",
    "    <ul>\n",
    "      <li><strong>Priyesh Gosai</strong> - Energy Systems Modeler and Training Coordinator</li>\n",
    "      <li><strong>Dr. Fabian Hofmann</strong> - Senior Optimization and Energy System Modelling Expert</li>\n",
    "    </ul>\n",
    "  </div>\n",
    "  <div>\n",
    "    <a href=\"https://openenergytransition.org/index.html\">\n",
    "      <img src=\"https://openenergytransition.org/assets/img/oet-logo-red-n-subtitle.png\" height=\"60\" alt=\"OET\">\n",
    "    </a>\n",
    "  </div>\n",
    "</div>\n"
   ]
  },
  {
   "cell_type": "markdown",
   "metadata": {},
   "source": [
    "##### 🎯 Learning Objectives  \n"
   ]
  },
  {
   "cell_type": "markdown",
   "metadata": {},
   "source": [
    "\n",
    "* Introduce participants to the PyPSA toolbox.  \n",
    "* Provide details of relevant components.  \n",
    "* Build and solve a simple PyPSA model.  \n",
    "* Review the data structures for static and time-series data.  \n",
    "* Analyze the results.  \n",
    "\n",
    "The content also includes references to other toolboxes such as `numpy`, `pandas`, `matplotlib`, and `plotly`, but only covers functions relevant to a PyPSA workflow.  \n",
    "\n",
    "📌 Participants unfamiliar with these toolboxes are encouraged to explore online videos or courses for deeper learning. 🎥📚  \n",
    "\n",
    "---"
   ]
  },
  {
   "cell_type": "markdown",
   "metadata": {},
   "source": [
    "### 📄 **Case Study**"
   ]
  },
  {
   "cell_type": "markdown",
   "metadata": {},
   "source": [
    "We want to model the interaction between South Africa and Lesotho. \n",
    "\n",
    "South Africa's generation capacity has been aggregated into six generation technologies (coal,solar,wind, OCGT, hydro and battery) and a single load,and lesotho only has a load. "
   ]
  },
  {
   "cell_type": "markdown",
   "metadata": {},
   "source": [
    "### 📥 **Importing Essential Libraries**  \n"
   ]
  },
  {
   "cell_type": "code",
   "execution_count": null,
   "metadata": {},
   "outputs": [],
   "source": [
    "# install_colab_dependencies() # For Google Colab users\n",
    "# from google.colab import drive\n",
    "# drive.mount('/content/drive')\n",
    "\n",
    "import pypsa\n",
    "import pandas as pd\n",
    "import numpy as np\n",
    "from training_scripts import *\n"
   ]
  },
  {
   "cell_type": "markdown",
   "metadata": {},
   "source": [
    "### **🔧⚡ Create a PyPSA Network Object**"
   ]
  },
  {
   "cell_type": "code",
   "execution_count": null,
   "metadata": {},
   "outputs": [],
   "source": [
    "network = pypsa.Network()"
   ]
  },
  {
   "cell_type": "markdown",
   "metadata": {},
   "source": [
    "Look at what is in the network."
   ]
  },
  {
   "cell_type": "code",
   "execution_count": null,
   "metadata": {},
   "outputs": [],
   "source": [
    "network.all_components"
   ]
  },
  {
   "cell_type": "markdown",
   "metadata": {},
   "source": [
    "Look at the component attributes."
   ]
  },
  {
   "cell_type": "code",
   "execution_count": null,
   "metadata": {},
   "outputs": [],
   "source": [
    "network.component_attrs['Bus']"
   ]
  },
  {
   "cell_type": "code",
   "execution_count": null,
   "metadata": {},
   "outputs": [],
   "source": [
    "network.component_attrs['Generator']"
   ]
  },
  {
   "cell_type": "markdown",
   "metadata": {},
   "source": [
    "Each component is also given a label `list_name` which is the label used to access the dataset. "
   ]
  },
  {
   "cell_type": "code",
   "execution_count": null,
   "metadata": {},
   "outputs": [],
   "source": [
    "network.components"
   ]
  },
  {
   "cell_type": "code",
   "execution_count": null,
   "metadata": {},
   "outputs": [],
   "source": [
    "for key in network.component_attrs:\n",
    "    print(f'{key.ljust(20)} {network.components[key][\"list_name\"]}')\n"
   ]
  },
  {
   "cell_type": "markdown",
   "metadata": {},
   "source": [
    "To access the dataset: "
   ]
  },
  {
   "cell_type": "code",
   "execution_count": null,
   "metadata": {},
   "outputs": [],
   "source": [
    "network.buses"
   ]
  },
  {
   "cell_type": "code",
   "execution_count": null,
   "metadata": {},
   "outputs": [],
   "source": [
    "network.generators"
   ]
  },
  {
   "cell_type": "code",
   "execution_count": null,
   "metadata": {},
   "outputs": [],
   "source": [
    "network.links"
   ]
  },
  {
   "cell_type": "code",
   "execution_count": null,
   "metadata": {},
   "outputs": [],
   "source": [
    "network.loads"
   ]
  },
  {
   "cell_type": "markdown",
   "metadata": {},
   "source": [
    "#### 📂 Data Structure Guidelines  "
   ]
  },
  {
   "cell_type": "markdown",
   "metadata": {},
   "source": [
    "\n",
    "\n",
    "✅ **Static Data:**  \n",
    "- The Excel file should be configured using the `list_name` as the `sheet name`.  \n",
    "- Use ``variables`` in the header.  \n",
    "\n",
    "✅ **Time-Series Data:**  \n",
    "- Follow the naming convention:  `[list]-[variable name]`\n",
    "- Example: `loads-p_set` for the set loads.\n",
    "\n",
    "---\n"
   ]
  },
  {
   "cell_type": "code",
   "execution_count": null,
   "metadata": {},
   "outputs": [],
   "source": [
    "network.generators_t.p_max_pu"
   ]
  },
  {
   "cell_type": "code",
   "execution_count": null,
   "metadata": {},
   "outputs": [],
   "source": []
  },
  {
   "cell_type": "code",
   "execution_count": null,
   "metadata": {},
   "outputs": [],
   "source": []
  },
  {
   "cell_type": "markdown",
   "metadata": {},
   "source": []
  },
  {
   "cell_type": "markdown",
   "metadata": {},
   "source": [
    "---\n",
    "### 🐍 Add data to the network"
   ]
  },
  {
   "cell_type": "markdown",
   "metadata": {},
   "source": [
    "#### ⏳ **Set up the simulation timeseries**\n"
   ]
  },
  {
   "cell_type": "markdown",
   "metadata": {},
   "source": [
    "A `snapshot` represents a specific point in time for which the network is simulated.  \n",
    "- Snapshots can be single timestamps (e.g., `2025-01-01 00:00`) or time series covering hours, days, weeks, or years.  \n",
    "- They allow modeling of dynamic power system behavior over different time periods.  \n",
    "\n",
    "📆 **Selecting the Simulation Period**\n",
    "\n",
    "To define the simulation period, we assign snapshots to the network using a `start_time` and `end time`."
   ]
  },
  {
   "cell_type": "code",
   "execution_count": 42,
   "metadata": {},
   "outputs": [],
   "source": [
    "# Define your start and end date\n",
    "start_date = '2025-01-01 00:00'\n",
    "end_date = '2025-01-01 23:00'  # inclusive\n",
    "\n",
    "# Generate hourly snapshots and set the snapshots\n",
    "snapshots = pd.date_range(start=start_date, end=end_date, freq='4h')\n",
    "network.set_snapshots(snapshots)\n"
   ]
  },
  {
   "cell_type": "code",
   "execution_count": 43,
   "metadata": {},
   "outputs": [
    {
     "data": {
      "text/plain": [
       "DatetimeIndex(['2025-01-01 00:00:00', '2025-01-01 04:00:00',\n",
       "               '2025-01-01 08:00:00', '2025-01-01 12:00:00',\n",
       "               '2025-01-01 16:00:00', '2025-01-01 20:00:00'],\n",
       "              dtype='datetime64[ns]', name='snapshot', freq='4h')"
      ]
     },
     "execution_count": 43,
     "metadata": {},
     "output_type": "execute_result"
    }
   ],
   "source": [
    "network.snapshots"
   ]
  },
  {
   "cell_type": "markdown",
   "metadata": {},
   "source": [
    "#### **🛠️🏗️ Adding Components to a PyPSA Network**\n",
    "\n",
    "In PyPSA, the `network.add()` method is used to add components (such as buses, generators, lines, etc.) to the network. The general syntax follows:\n",
    "\n",
    "```python\n",
    "network.add(component, **attributes)\n",
    "```\n",
    "\n",
    "**Parameters**\n",
    "- `component` *(str)*: The type of component to add (e.g., `\"Bus\"`, `\"Generator\"`, `\"Load\"`, `\"Line\"`, `\"Link\"`, etc.).\n",
    "- `attributes` *(dict)*: A set of keyword arguments specifying the properties of the component.\n",
    "\n"
   ]
  },
  {
   "cell_type": "markdown",
   "metadata": {},
   "source": [
    "**Adding a Carrier**\n",
    "To add carriers to the network. \n",
    "\n",
    "```python\n",
    "network.add(\"Carrier\", name=['carrier x','carrier y','carrier z'])  \n",
    "```\n",
    "\n",
    "_Exercise: Add the following carriers_\n",
    "* _AC_\n",
    "* _coal_\n",
    "* _gas_\n",
    "* _solar_\n",
    "* _wind_"
   ]
  },
  {
   "cell_type": "code",
   "execution_count": null,
   "metadata": {},
   "outputs": [],
   "source": []
  },
  {
   "cell_type": "code",
   "execution_count": null,
   "metadata": {},
   "outputs": [],
   "source": [
    "network.carriers"
   ]
  },
  {
   "cell_type": "markdown",
   "metadata": {},
   "source": [
    "**Adding a Bus**\n",
    "To add a new bus to the network:\n",
    "\n",
    "```python\n",
    "network.add(\"Bus\", name=\"bus1\")  # Adding a bus named 'bus1'\n",
    "```\n",
    "\n",
    "_Exercise: Add the following bus_\n",
    "* _ZA_"
   ]
  },
  {
   "cell_type": "code",
   "execution_count": null,
   "metadata": {},
   "outputs": [],
   "source": [
    "# Add bus\n",
    "\n"
   ]
  },
  {
   "cell_type": "markdown",
   "metadata": {},
   "source": [
    "**⚡ Generators**\n",
    "\n",
    "Generators attach to a single bus, converting energy from their `carrier` to the bus `carrier`.  \n",
    "\n",
    "* Their power output is constrained by `p_nom * p_max_pu` and `p_nom * p_min_pu`.  \n",
    "\n",
    "* Static limits define dispatchable generators, while time-varying limits model renewables.  \n",
    "\n",
    "* Time series `p_max_pu` and `p_min_pu` determine availability per snapshot.  \n",
    "\n",
    "* For unit commitment constraints, refer to the PyPSA documentation. \n",
    "\n",
    "Some key variables relevant to this model are given below. \n",
    "\n",
    "\n",
    "| Attribute              | Type            | Unit           | Default | Description | Constraint |\n",
    "|------------------------|----------------|---------------|---------|-------------|------------------|\n",
    "| `name`              | string         | n/a           | n/a     | Unique name |  |\n",
    "| `bus`               | string         | n/a           | n/a     | Name of bus to which generator is attached |  |\n",
    "| `p_nom`            | float          | MW            | 0       | Nominal power for limits in optimization. |  |\n",
    "| `p_nom_extendable` | boolean        |           | False   | Switch to allow capacity p_nom to be extended in optimization. | |\n",
    "| `p_min_pu`        | static/series  | per unit      | n/a     | Minimum output per unit of p_nom. | $p_t \\geq p_{nom}\\times p_{min,pu,t}$ |\n",
    "| `p_max_pu`        | static/series  | per unit      | 1       | Maximum output per unit of p_nom. | $p_t \\leq p_{nom}\\times p_{max,pu,t}$ |\n",
    "| `p_set`           | static/series  | MW            | n/a     | Active power set point (for PF). | $p_t = p_{set}$  |\n",
    "| `e_sum_min`       | float          | MWh           | -inf    | Minimum total energy produced during optimization horizon. | $\\sum p_t \\cdot \\delta t \\leq e_{\\max}$\n",
    "| `e_sum_max`       | float          | MWh           | inf     | Maximum total energy produced during optimization horizon. | $\\sum p_t \\cdot \\delta t \\leq e_{\\max}$\n",
    "| `marginal_cost`   | static/series  | currency/MWh  | n/a     | Marginal cost of production of 1 MWh. | |\n",
    "\n"
   ]
  },
  {
   "cell_type": "markdown",
   "metadata": {},
   "source": [
    "**Adding Generators**\n",
    "\n",
    "To add a generator connected to a bus:\n",
    "\n",
    "```python\n",
    "network.add(\"Generator\", name=\"gen1\", bus=\"bus1\", p_nom=100, marginal_cost=50)\n",
    "```\n",
    "Here:\n",
    "- `bus=\"bus1\"` specifies the bus the generator is connected to.\n",
    "- `p_nom=100` sets the nominal power capacity in MW.\n",
    "- `marginal_cost=50` sets the generation cost per MWh.\n",
    "\n",
    "_Exercise: Add the following generator_\n",
    "* _name = \"CFPP\"_\n",
    "* _bus =\"ZA\"_\n",
    "* _p_nom =27000_ # MW\n",
    "* _marginal_cost =500_ #R/MWh\n",
    "* _carrier = \"coal\"_\n"
   ]
  },
  {
   "cell_type": "code",
   "execution_count": null,
   "metadata": {},
   "outputs": [],
   "source": [
    "# Add Generator"
   ]
  },
  {
   "cell_type": "markdown",
   "metadata": {},
   "source": [
    "_Exercise: Add the following generators using lists as inputs._\n",
    "* _name = [\"OCGT\", \"Solar PV\", \"Onshore Wind\"]_\n",
    "* _bus = [\"ZA\", \"ZA\", \"ZA\"]_\n",
    "* _p_nom = [8000, 5000, 4000]_ # MW\n",
    "* _marginal_cost = [1200, 0, 0]_ #R/MWh"
   ]
  },
  {
   "cell_type": "code",
   "execution_count": null,
   "metadata": {},
   "outputs": [],
   "source": [
    "\n",
    "\n"
   ]
  },
  {
   "cell_type": "markdown",
   "metadata": {},
   "source": [
    "**_Slack Generator_**\n",
    "\n",
    "A slack generator in PyPSA acts as a last-resort mechanism to ensure supply and demand balance when available generation cannot meet demand. Instead of representing actual generation, it simulates unserved demand, effectively quantifying how much load is shed to maintain system feasibility. \n",
    "\n",
    "By assigning a very high marginal cost, the model is strongly discouraged from using it unless absolutely necessary, making it a useful proxy for system reliability and flexibility shortfalls.\n",
    "\n",
    "A slack generator is useful in modelling because it ensures the optimization always finds a feasible solution, even under extreme conditions where supply cannot meet demand. This allows the model to continue running rather than failing due to infeasibility, providing valuable insights into when, where, and how often shortfalls occur. By tracking the amount and cost of unserved energy, planners and system operators can identify weak points in generation capacity, flexibility, or transmission infrastructure, helping to guide investment decisions and resilience planning in future system development.\n",
    "\n",
    "We will name the slack generator as `Loadshedding Generator`.\n",
    "\n",
    "_Exercise: Add a slack generator._\n",
    "\n",
    "_Exercise: Add the following generator_\n",
    "* _name = \"Loadshedding Generator\"_\n",
    "* _bus =\"ZA\"_\n",
    "* _p_nom = 1_ # MW\n",
    "* _marginal_cost =500_ #R/MWh\n",
    "* _carrier = \"loadshedding\"_\n",
    "* _p_nom_extendable_ = True_"
   ]
  },
  {
   "cell_type": "markdown",
   "metadata": {},
   "source": [
    "🌞 **Applying `p_max_pu` Constraint on VRE Generators**  \n",
    "\n",
    "* Variable Renewable Energy (VRE) generators, such as solar and wind, have time-dependent availability limits.  \n",
    "* The `p_max_pu` constraint, imported as a time-series dataset, determines the maximum power output at each snapshot on a per unit basis.  \n",
    "\n",
    "\n",
    "Check the number of snapshots using the `len` function.\n",
    "```\n",
    "len(network.snapshots)\n",
    "```"
   ]
  },
  {
   "cell_type": "code",
   "execution_count": 44,
   "metadata": {},
   "outputs": [
    {
     "data": {
      "text/plain": [
       "6"
      ]
     },
     "execution_count": 44,
     "metadata": {},
     "output_type": "execute_result"
    }
   ],
   "source": [
    "len(network.snapshots)"
   ]
  },
  {
   "cell_type": "markdown",
   "metadata": {},
   "source": [
    "Create a set of timeseries data into a dictionary and add it into a dataframe. \n",
    "\n",
    "```\n",
    "solar_p_max_pu = [0.0, 0.0, 0.2, 0.6, 0.3, 0] \n",
    "wind_p_max_pu = [0.6, 0.4, 0.2, 0.3, 0.1, 0.15]\n",
    "\n",
    "p_max_pu_dict = {\"Solar PV\": solar_p_max_pu, \"Onshore Wind\": wind_p_max_pu}\n",
    "\n",
    "# Combine into DataFrame\n",
    "p_max_pu_df = pd.DataFrame(p_max_pu_dict, index=snapshots)\n",
    "\n",
    "network.generators_t.p_max_pu = p_max_pu_df\n",
    "```"
   ]
  },
  {
   "cell_type": "code",
   "execution_count": null,
   "metadata": {},
   "outputs": [],
   "source": []
  },
  {
   "cell_type": "markdown",
   "metadata": {},
   "source": [
    " 🔌 **Loads**\n",
    "\n",
    "* A load connects to a single bus and consumes power.  \n",
    "* It can represent electricity demand or other types of loads like hydrogen or heat.  \n",
    "* If active power is consumed, the load draws from the bus.  \n",
    "* If reactive power is consumed, the load behaves like an inductor.  \n",
    "* Loads are essential for demand modeling in power system simulations. ⚡🏠  \n",
    "\n",
    "\n",
    "To add a load connected to a bus:\n",
    "\n",
    "```python\n",
    "network.add(\"Load\", name=\"Load 1\", bus=\"bus1\", p_set=100)\n",
    "```\n",
    "Here:\n",
    "- `bus=\"bus1\"` specifies the bus the generator is connected to.\n",
    "- `p_set=100` sets the nominal power capacity in MW sets a constant load for all snapshots\n"
   ]
  },
  {
   "cell_type": "code",
   "execution_count": null,
   "metadata": {},
   "outputs": [],
   "source": []
  },
  {
   "cell_type": "markdown",
   "metadata": {},
   "source": [
    "**Check if the network is working**\n",
    "\n",
    "`network.optimize(solver_name = highs)`"
   ]
  },
  {
   "cell_type": "code",
   "execution_count": null,
   "metadata": {},
   "outputs": [],
   "source": []
  },
  {
   "cell_type": "markdown",
   "metadata": {},
   "source": [
    "\n",
    "**Adding a Battery as a `storage_unit`**\n",
    "```python\n",
    "network.add(\"StoageUnit\", name=\"StorageUnit1\", bus0=\"bus1\",  p_nom=100 , ...)\n",
    "```\n",
    "Here:\n",
    "- `bus0=\"bus1\"` and `bus1=\"bus2\"` define the buses the line connects.\n",
    "- `p_nom=100` sets the nominal power in MW."
   ]
  },
  {
   "cell_type": "code",
   "execution_count": null,
   "metadata": {},
   "outputs": [],
   "source": []
  },
  {
   "cell_type": "markdown",
   "metadata": {},
   "source": [
    "**🔋Batteries**\n",
    "\n",
    "There are two components for energy storage in PyPSA: Storage Units and Stores.  \n",
    "\n",
    "* ⚡ Storage Unit  \n",
    "   * Attaches to a single bus and is used for inter-temporal power shifting with a time-varying state of charge.  \n",
    "   * The energy capacity is defined as `max_hours * nominal power (MW)`, and it includes charging/discharging efficiencies.  \n",
    "\n",
    "* 🏭 Store  \n",
    "   * Connects to a single bus and acts as a fundamental energy storage component without energy conversion.  \n",
    "   * Controls and optimizes energy capacity size, but power output must be controlled using Link components.  \n",
    "\n",
    "🔄 Key Differences  \n",
    "| Feature           | Storage Unit | Store |\n",
    "|------------------|-------------|-------|\n",
    "| Power Control | Directly defined | Requires Links |\n",
    "| Energy Capacity | Fixed as `max_hours * MW` | Optimized independently |\n",
    "| Marginal Cost | Applies only to discharging | Applies to both charging & discharging |\n",
    "| Energy Carrier Conversion| Possible | Not possible (inherits from bus) |\n",
    "\n",
    "Stores are more flexible but require Links for power control, while Storage Units offer a simpler implementation for direct energy storage modeling. ⚙️🔄  \n",
    "\n",
    "⚡ **Storage Unit**\n",
    "\n",
    "\n",
    "| Attribute              | Type            | Unit           | Default | Description |\n",
    "|------------------------|----------------|---------------|---------|-------------|\n",
    "| `name`              | string         | n/a           | n/a     | Unique name | \n",
    "| `bus`               | string         | n/a           | n/a     | Name of bus to which generator is attached |\n",
    "| `p_nom`            | float          | MW            | 0       | Nominal power for limits in optimization. | \n",
    "| `marginal_cost`   | static/series  | currency/MWh  | n/a     | Marginal cost of production of 1 MWh. | \n",
    "| `max_hours` | float | h | 1 | Maximum state of charge capacity in terms of hours at full output capacity `p_nom` |  \n",
    "|`state_of_charge_initial`| float | MWh | 0  | State of charge before the snapshots in the OPF. | \n",
    "|`efficiency_store`  | static/series | per unit | 1 | Efficiency of storage on the way into the storage. | \n",
    "|`efficiency_dispatch`| static/series | per unit | 1 | Efficiency of storage on the way out of the storage. | \n",
    "| `standing_loss`| static/series | per unit | 0 | Losses per hour to state of charge. | \n",
    "| `inflow`| static/series | MW | 0 | Inflow to the state of charge, e.g. due to river inflow in hydro reservoir. |\n"
   ]
  },
  {
   "cell_type": "markdown",
   "metadata": {},
   "source": [
    "```python\n",
    "network.add(\"StoageUnit\", name=\"StorageUnit1\", bus=\"bus1\",  p_nom=100 , ...)\n",
    "```\n",
    "\n",
    "_Exercise_\n",
    "* _name = \"BESS\"_\n",
    "*  _bus = \"ZA\"_\n",
    "* _p_nom = 1000_\n",
    "* _marginal_cost = 100_\n",
    "* _state_of_charge_initial = 3000_\n",
    "* _max_hours = 5_\n",
    "\n"
   ]
  },
  {
   "cell_type": "code",
   "execution_count": null,
   "metadata": {},
   "outputs": [],
   "source": []
  },
  {
   "cell_type": "markdown",
   "metadata": {},
   "source": [
    "🔗 **Links**\n",
    "\n",
    "* Links enable controllable, directed power flow between two buses (`bus0 → bus1`).  \n",
    "* They can have efficiency losses and marginal costs, restricting default flow to one direction.  \n",
    "* For bidirectional, lossless operation, set `efficiency = 1`, `marginal_cost = 0`, and `p_min_pu = -1`.  \n",
    "* Links model HVDC interconnections, converters, heat pumps, electrolysers, and other controllable power flows.  \n",
    "* ⚠️ In the actual model, lines will be used instead of links for passive AC/DC transmission.  \n",
    "\n",
    "**Adding a Transmission Line as a `link`**\n",
    "```python\n",
    "network.add(\"Link\", name=\"link1\", bus0=\"bus1\", bus1=\"bus2\", p_nom=100)\n",
    "```\n",
    "Here:\n",
    "- `bus0=\"bus1\"` and `bus1=\"bus2\"` define the buses the line connects.\n",
    "- `p_nom=100` sets the nominal power in MW.\n",
    "\n",
    "_Exercise: Set up a bus in Lesotho (LS) with a constant load of 80 MW and connect Lesotho to South Africa (ZA) a 100MW link wit_\n",
    "\n"
   ]
  },
  {
   "cell_type": "code",
   "execution_count": null,
   "metadata": {},
   "outputs": [],
   "source": []
  },
  {
   "cell_type": "markdown",
   "metadata": {},
   "source": [
    "---\n",
    "### 🌐 Working with the `network` object"
   ]
  },
  {
   "cell_type": "markdown",
   "metadata": {},
   "source": [
    "The network contains functions, such as: \n",
    "\n",
    "- 📥 Adding data: `network.add()` or `network.import_from_csv()` - As described before.\n",
    "- :tick `network.consistency_check()` to check network consistency\n",
    "- 🔍 Optimization: `network.optimize()` – Runs the optimization process.  \n",
    "   * Supports multiple solvers including GLPK, Gurobi, CPLEX, and HiGHS. \n",
    "- 📊 Statistics: `network.statistics()` – Generates system-wide statistics.  \n",
    "- 🗺️ Visualization: `network.plot()` – Plots the network layout.  \n"
   ]
  },
  {
   "cell_type": "markdown",
   "metadata": {},
   "source": [
    "**Review Input Data**"
   ]
  },
  {
   "cell_type": "code",
   "execution_count": null,
   "metadata": {},
   "outputs": [],
   "source": [
    "network.generators_t.p_max_pu.head()"
   ]
  },
  {
   "cell_type": "code",
   "execution_count": null,
   "metadata": {},
   "outputs": [],
   "source": [
    "network.loads_t.p_set.head()"
   ]
  },
  {
   "cell_type": "code",
   "execution_count": null,
   "metadata": {},
   "outputs": [],
   "source": [
    "network.loads"
   ]
  },
  {
   "cell_type": "code",
   "execution_count": null,
   "metadata": {},
   "outputs": [],
   "source": [
    "network.links.head()"
   ]
  },
  {
   "cell_type": "code",
   "execution_count": null,
   "metadata": {},
   "outputs": [],
   "source": [
    "network.consistency_check()"
   ]
  },
  {
   "cell_type": "markdown",
   "metadata": {},
   "source": [
    "**Solve Model**"
   ]
  },
  {
   "cell_type": "code",
   "execution_count": null,
   "metadata": {},
   "outputs": [],
   "source": [
    "network.optimize(solver_name='highs')"
   ]
  },
  {
   "cell_type": "markdown",
   "metadata": {},
   "source": [
    "**Results**"
   ]
  },
  {
   "cell_type": "code",
   "execution_count": null,
   "metadata": {},
   "outputs": [],
   "source": [
    "network.generators_t.p.head() # or .plot()"
   ]
  },
  {
   "cell_type": "code",
   "execution_count": null,
   "metadata": {},
   "outputs": [],
   "source": [
    "network.storage_units_t.p.head() # or .plot()"
   ]
  },
  {
   "cell_type": "code",
   "execution_count": null,
   "metadata": {},
   "outputs": [],
   "source": []
  },
  {
   "cell_type": "code",
   "execution_count": null,
   "metadata": {},
   "outputs": [],
   "source": []
  },
  {
   "cell_type": "code",
   "execution_count": null,
   "metadata": {},
   "outputs": [],
   "source": []
  },
  {
   "cell_type": "code",
   "execution_count": null,
   "metadata": {},
   "outputs": [],
   "source": []
  },
  {
   "cell_type": "code",
   "execution_count": null,
   "metadata": {},
   "outputs": [],
   "source": []
  },
  {
   "cell_type": "code",
   "execution_count": null,
   "metadata": {},
   "outputs": [],
   "source": [
    "\n"
   ]
  },
  {
   "cell_type": "code",
   "execution_count": null,
   "metadata": {},
   "outputs": [],
   "source": []
  },
  {
   "cell_type": "code",
   "execution_count": null,
   "metadata": {},
   "outputs": [],
   "source": []
  },
  {
   "cell_type": "markdown",
   "metadata": {},
   "source": [
    "### \n",
    "---"
   ]
  }
 ],
 "metadata": {
  "kernelspec": {
   "display_name": "flex_training_env",
   "language": "python",
   "name": "python3"
  },
  "language_info": {
   "codemirror_mode": {
    "name": "ipython",
    "version": 3
   },
   "file_extension": ".py",
   "mimetype": "text/x-python",
   "name": "python",
   "nbconvert_exporter": "python",
   "pygments_lexer": "ipython3",
   "version": "3.10.16"
  }
 },
 "nbformat": 4,
 "nbformat_minor": 2
}
