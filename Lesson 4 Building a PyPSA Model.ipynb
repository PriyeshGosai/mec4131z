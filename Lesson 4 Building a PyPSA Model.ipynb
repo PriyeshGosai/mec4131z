{
 "cells": [
  {
   "cell_type": "markdown",
   "metadata": {},
   "source": [
    "### 📘 Lesson 4: Building a PyPSA Model"
   ]
  },
  {
   "cell_type": "markdown",
   "metadata": {},
   "source": [
    "<div style=\"display: flex; align-items: center; justify-content: space-between;\">\n",
    "  <div>\n",
    "    <h3>Course presenters</h3>\n",
    "    <ul>\n",
    "      <li><strong>Priyesh Gosai</strong> - Energy Systems Modeler and Training Coordinator</li>\n",
    "      <li><strong>Dr. Fabian Hofmann</strong> - Senior Optimization and Energy System Modelling Expert</li>\n",
    "    </ul>\n",
    "  </div>\n",
    "  <div>\n",
    "    <a href=\"https://openenergytransition.org/index.html\">\n",
    "      <img src=\"https://openenergytransition.org/assets/img/oet-logo-red-n-subtitle.png\" height=\"60\" alt=\"OET\">\n",
    "    </a>\n",
    "  </div>\n",
    "</div>\n"
   ]
  },
  {
   "cell_type": "markdown",
   "metadata": {},
   "source": [
    "##### 🎯 Learning Objectives  \n"
   ]
  },
  {
   "cell_type": "markdown",
   "metadata": {},
   "source": [
    "\n",
    "* Introduce participants to the PyPSA toolbox.  \n",
    "* Provide details of relevant components.  \n",
    "* Build and solve a simple PyPSA model.  \n",
    "* Review the data structures for static and time-series data.  \n",
    "* Analyze the results.  \n",
    "\n",
    "The content also includes references to other toolboxes such as `numpy`, `pandas`, `matplotlib`, and `plotly`, but only covers functions relevant to a PyPSA workflow.  \n",
    "\n",
    "📌 Participants unfamiliar with these toolboxes are encouraged to explore online videos or courses for deeper learning. 🎥📚  \n",
    "\n",
    "---"
   ]
  },
  {
   "cell_type": "markdown",
   "metadata": {},
   "source": [
    "### 📄 **Case Study**"
   ]
  },
  {
   "cell_type": "markdown",
   "metadata": {},
   "source": [
    "We want to model the interaction between South Africa and Lesotho. \n",
    "\n",
    "South Africa's generation capacity has been aggregated into six generation technologies (coal,solar,wind, OCGT, hydro and battery) and a single load,and lesotho only has a load. "
   ]
  },
  {
   "cell_type": "markdown",
   "metadata": {},
   "source": [
    "### 📥 **Importing Essential Libraries**  \n"
   ]
  },
  {
   "cell_type": "code",
   "execution_count": 55,
   "metadata": {},
   "outputs": [],
   "source": [
    "# Google Colab users\n",
    "# Remove the comments in the rows below to set up your notebook.\n",
    "\n",
    "# from google.colab import drive\n",
    "# import os\n",
    "\n",
    "# drive.mount('/content/drive')\n",
    "# os.chdir('/content/drive/MyDrive/psfo_2025/mec4131z/')"
   ]
  },
  {
   "cell_type": "code",
   "execution_count": 56,
   "metadata": {},
   "outputs": [],
   "source": [
    "import pypsa\n",
    "import pandas as pd\n",
    "import numpy as np\n",
    "from training_scripts import *\n"
   ]
  },
  {
   "cell_type": "markdown",
   "metadata": {},
   "source": [
    "### **🔧⚡ Create a PyPSA Network Object**"
   ]
  },
  {
   "cell_type": "code",
   "execution_count": 57,
   "metadata": {},
   "outputs": [],
   "source": [
    "network = pypsa.Network()"
   ]
  },
  {
   "cell_type": "markdown",
   "metadata": {},
   "source": [
    "Look at what is in the network."
   ]
  },
  {
   "cell_type": "code",
   "execution_count": 58,
   "metadata": {},
   "outputs": [
    {
     "data": {
      "text/plain": [
       "{'Bus',\n",
       " 'Carrier',\n",
       " 'Generator',\n",
       " 'GlobalConstraint',\n",
       " 'Line',\n",
       " 'LineType',\n",
       " 'Link',\n",
       " 'Load',\n",
       " 'Shape',\n",
       " 'ShuntImpedance',\n",
       " 'StorageUnit',\n",
       " 'Store',\n",
       " 'SubNetwork',\n",
       " 'Transformer',\n",
       " 'TransformerType'}"
      ]
     },
     "execution_count": 58,
     "metadata": {},
     "output_type": "execute_result"
    }
   ],
   "source": [
    "network.all_components"
   ]
  },
  {
   "cell_type": "markdown",
   "metadata": {},
   "source": [
    "Look at the component attributes."
   ]
  },
  {
   "cell_type": "code",
   "execution_count": 59,
   "metadata": {},
   "outputs": [
    {
     "data": {
      "text/html": [
       "<div>\n",
       "<style scoped>\n",
       "    .dataframe tbody tr th:only-of-type {\n",
       "        vertical-align: middle;\n",
       "    }\n",
       "\n",
       "    .dataframe tbody tr th {\n",
       "        vertical-align: top;\n",
       "    }\n",
       "\n",
       "    .dataframe thead th {\n",
       "        text-align: right;\n",
       "    }\n",
       "</style>\n",
       "<table border=\"1\" class=\"dataframe\">\n",
       "  <thead>\n",
       "    <tr style=\"text-align: right;\">\n",
       "      <th></th>\n",
       "      <th>type</th>\n",
       "      <th>unit</th>\n",
       "      <th>default</th>\n",
       "      <th>description</th>\n",
       "      <th>status</th>\n",
       "      <th>static</th>\n",
       "      <th>varying</th>\n",
       "      <th>typ</th>\n",
       "      <th>dtype</th>\n",
       "    </tr>\n",
       "    <tr>\n",
       "      <th>attribute</th>\n",
       "      <th></th>\n",
       "      <th></th>\n",
       "      <th></th>\n",
       "      <th></th>\n",
       "      <th></th>\n",
       "      <th></th>\n",
       "      <th></th>\n",
       "      <th></th>\n",
       "      <th></th>\n",
       "    </tr>\n",
       "  </thead>\n",
       "  <tbody>\n",
       "    <tr>\n",
       "      <th>name</th>\n",
       "      <td>string</td>\n",
       "      <td>NaN</td>\n",
       "      <td></td>\n",
       "      <td>Unique name</td>\n",
       "      <td>Input (required)</td>\n",
       "      <td>True</td>\n",
       "      <td>False</td>\n",
       "      <td>&lt;class 'str'&gt;</td>\n",
       "      <td>object</td>\n",
       "    </tr>\n",
       "    <tr>\n",
       "      <th>bus</th>\n",
       "      <td>string</td>\n",
       "      <td>NaN</td>\n",
       "      <td></td>\n",
       "      <td>name of bus to which generator is attached</td>\n",
       "      <td>Input (required)</td>\n",
       "      <td>True</td>\n",
       "      <td>False</td>\n",
       "      <td>&lt;class 'str'&gt;</td>\n",
       "      <td>object</td>\n",
       "    </tr>\n",
       "    <tr>\n",
       "      <th>control</th>\n",
       "      <td>string</td>\n",
       "      <td>NaN</td>\n",
       "      <td>PQ</td>\n",
       "      <td>P,Q,V control strategy for PF, must be \"PQ\", \"...</td>\n",
       "      <td>Input (optional)</td>\n",
       "      <td>True</td>\n",
       "      <td>False</td>\n",
       "      <td>&lt;class 'str'&gt;</td>\n",
       "      <td>object</td>\n",
       "    </tr>\n",
       "    <tr>\n",
       "      <th>type</th>\n",
       "      <td>string</td>\n",
       "      <td>NaN</td>\n",
       "      <td></td>\n",
       "      <td>Placeholder for generator type. Not yet implem...</td>\n",
       "      <td>Input (optional)</td>\n",
       "      <td>True</td>\n",
       "      <td>False</td>\n",
       "      <td>&lt;class 'str'&gt;</td>\n",
       "      <td>object</td>\n",
       "    </tr>\n",
       "    <tr>\n",
       "      <th>p_nom</th>\n",
       "      <td>float</td>\n",
       "      <td>MW</td>\n",
       "      <td>0.0</td>\n",
       "      <td>Nominal power for limits in optimization.</td>\n",
       "      <td>Input (optional)</td>\n",
       "      <td>True</td>\n",
       "      <td>False</td>\n",
       "      <td>&lt;class 'float'&gt;</td>\n",
       "      <td>float64</td>\n",
       "    </tr>\n",
       "    <tr>\n",
       "      <th>p_nom_mod</th>\n",
       "      <td>float</td>\n",
       "      <td>MW</td>\n",
       "      <td>0.0</td>\n",
       "      <td>Nominal power of the generator module.</td>\n",
       "      <td>Input (optional)</td>\n",
       "      <td>True</td>\n",
       "      <td>False</td>\n",
       "      <td>&lt;class 'float'&gt;</td>\n",
       "      <td>float64</td>\n",
       "    </tr>\n",
       "    <tr>\n",
       "      <th>p_nom_extendable</th>\n",
       "      <td>boolean</td>\n",
       "      <td>NaN</td>\n",
       "      <td>False</td>\n",
       "      <td>Switch to allow capacity p_nom to be extended ...</td>\n",
       "      <td>Input (optional)</td>\n",
       "      <td>True</td>\n",
       "      <td>False</td>\n",
       "      <td>&lt;class 'bool'&gt;</td>\n",
       "      <td>bool</td>\n",
       "    </tr>\n",
       "    <tr>\n",
       "      <th>p_nom_min</th>\n",
       "      <td>float</td>\n",
       "      <td>MW</td>\n",
       "      <td>0.0</td>\n",
       "      <td>If p_nom is extendable in optimization, set it...</td>\n",
       "      <td>Input (optional)</td>\n",
       "      <td>True</td>\n",
       "      <td>False</td>\n",
       "      <td>&lt;class 'float'&gt;</td>\n",
       "      <td>float64</td>\n",
       "    </tr>\n",
       "    <tr>\n",
       "      <th>p_nom_max</th>\n",
       "      <td>float</td>\n",
       "      <td>MW</td>\n",
       "      <td>inf</td>\n",
       "      <td>If p_nom is extendable in optimization, set it...</td>\n",
       "      <td>Input (optional)</td>\n",
       "      <td>True</td>\n",
       "      <td>False</td>\n",
       "      <td>&lt;class 'float'&gt;</td>\n",
       "      <td>float64</td>\n",
       "    </tr>\n",
       "    <tr>\n",
       "      <th>p_min_pu</th>\n",
       "      <td>static or series</td>\n",
       "      <td>per unit</td>\n",
       "      <td>0.0</td>\n",
       "      <td>The minimum output for each snapshot per unit ...</td>\n",
       "      <td>Input (optional)</td>\n",
       "      <td>True</td>\n",
       "      <td>True</td>\n",
       "      <td>&lt;class 'float'&gt;</td>\n",
       "      <td>float64</td>\n",
       "    </tr>\n",
       "    <tr>\n",
       "      <th>p_max_pu</th>\n",
       "      <td>static or series</td>\n",
       "      <td>per unit</td>\n",
       "      <td>1.0</td>\n",
       "      <td>The maximum output for each snapshot per unit ...</td>\n",
       "      <td>Input (optional)</td>\n",
       "      <td>True</td>\n",
       "      <td>True</td>\n",
       "      <td>&lt;class 'float'&gt;</td>\n",
       "      <td>float64</td>\n",
       "    </tr>\n",
       "    <tr>\n",
       "      <th>p_set</th>\n",
       "      <td>static or series</td>\n",
       "      <td>MW</td>\n",
       "      <td>0.0</td>\n",
       "      <td>active power set point (for PF)</td>\n",
       "      <td>Input (optional)</td>\n",
       "      <td>True</td>\n",
       "      <td>True</td>\n",
       "      <td>&lt;class 'float'&gt;</td>\n",
       "      <td>float64</td>\n",
       "    </tr>\n",
       "    <tr>\n",
       "      <th>e_sum_min</th>\n",
       "      <td>float</td>\n",
       "      <td>MWh</td>\n",
       "      <td>-inf</td>\n",
       "      <td>The minimum total energy produced during a sin...</td>\n",
       "      <td>Input (optional)</td>\n",
       "      <td>True</td>\n",
       "      <td>False</td>\n",
       "      <td>&lt;class 'float'&gt;</td>\n",
       "      <td>float64</td>\n",
       "    </tr>\n",
       "    <tr>\n",
       "      <th>e_sum_max</th>\n",
       "      <td>float</td>\n",
       "      <td>MWh</td>\n",
       "      <td>inf</td>\n",
       "      <td>The maximum total energy produced during a sin...</td>\n",
       "      <td>Input (optional)</td>\n",
       "      <td>True</td>\n",
       "      <td>False</td>\n",
       "      <td>&lt;class 'float'&gt;</td>\n",
       "      <td>float64</td>\n",
       "    </tr>\n",
       "    <tr>\n",
       "      <th>q_set</th>\n",
       "      <td>static or series</td>\n",
       "      <td>MVar</td>\n",
       "      <td>0.0</td>\n",
       "      <td>reactive power set point (for PF)</td>\n",
       "      <td>Input (optional)</td>\n",
       "      <td>True</td>\n",
       "      <td>True</td>\n",
       "      <td>&lt;class 'float'&gt;</td>\n",
       "      <td>float64</td>\n",
       "    </tr>\n",
       "    <tr>\n",
       "      <th>sign</th>\n",
       "      <td>float</td>\n",
       "      <td>NaN</td>\n",
       "      <td>1.0</td>\n",
       "      <td>power sign</td>\n",
       "      <td>Input (optional)</td>\n",
       "      <td>True</td>\n",
       "      <td>False</td>\n",
       "      <td>&lt;class 'float'&gt;</td>\n",
       "      <td>float64</td>\n",
       "    </tr>\n",
       "    <tr>\n",
       "      <th>carrier</th>\n",
       "      <td>string</td>\n",
       "      <td>NaN</td>\n",
       "      <td></td>\n",
       "      <td>Prime mover energy carrier (e.g. coal, gas, wi...</td>\n",
       "      <td>Input (optional)</td>\n",
       "      <td>True</td>\n",
       "      <td>False</td>\n",
       "      <td>&lt;class 'str'&gt;</td>\n",
       "      <td>object</td>\n",
       "    </tr>\n",
       "    <tr>\n",
       "      <th>marginal_cost</th>\n",
       "      <td>static or series</td>\n",
       "      <td>currency/MWh</td>\n",
       "      <td>0.0</td>\n",
       "      <td>Marginal cost of production of 1 MWh.</td>\n",
       "      <td>Input (optional)</td>\n",
       "      <td>True</td>\n",
       "      <td>True</td>\n",
       "      <td>&lt;class 'float'&gt;</td>\n",
       "      <td>float64</td>\n",
       "    </tr>\n",
       "    <tr>\n",
       "      <th>marginal_cost_quadratic</th>\n",
       "      <td>static or series</td>\n",
       "      <td>currency/MWh</td>\n",
       "      <td>0.0</td>\n",
       "      <td>Quadratic marginal cost of production of 1 MWh.</td>\n",
       "      <td>Input (optional)</td>\n",
       "      <td>True</td>\n",
       "      <td>True</td>\n",
       "      <td>&lt;class 'float'&gt;</td>\n",
       "      <td>float64</td>\n",
       "    </tr>\n",
       "    <tr>\n",
       "      <th>active</th>\n",
       "      <td>boolean</td>\n",
       "      <td>NaN</td>\n",
       "      <td>True</td>\n",
       "      <td>Whether to consider the component in basic fun...</td>\n",
       "      <td>Input (optional)</td>\n",
       "      <td>True</td>\n",
       "      <td>False</td>\n",
       "      <td>&lt;class 'bool'&gt;</td>\n",
       "      <td>bool</td>\n",
       "    </tr>\n",
       "    <tr>\n",
       "      <th>build_year</th>\n",
       "      <td>int</td>\n",
       "      <td>year</td>\n",
       "      <td>0</td>\n",
       "      <td>build year</td>\n",
       "      <td>Input (optional)</td>\n",
       "      <td>True</td>\n",
       "      <td>False</td>\n",
       "      <td>&lt;class 'int'&gt;</td>\n",
       "      <td>int32</td>\n",
       "    </tr>\n",
       "    <tr>\n",
       "      <th>lifetime</th>\n",
       "      <td>float</td>\n",
       "      <td>years</td>\n",
       "      <td>inf</td>\n",
       "      <td>lifetime</td>\n",
       "      <td>Input (optional)</td>\n",
       "      <td>True</td>\n",
       "      <td>False</td>\n",
       "      <td>&lt;class 'float'&gt;</td>\n",
       "      <td>float64</td>\n",
       "    </tr>\n",
       "    <tr>\n",
       "      <th>capital_cost</th>\n",
       "      <td>float</td>\n",
       "      <td>currency/MW</td>\n",
       "      <td>0.0</td>\n",
       "      <td>Fixed period costs of extending p_nom by 1 MW,...</td>\n",
       "      <td>Input (optional)</td>\n",
       "      <td>True</td>\n",
       "      <td>False</td>\n",
       "      <td>&lt;class 'float'&gt;</td>\n",
       "      <td>float64</td>\n",
       "    </tr>\n",
       "    <tr>\n",
       "      <th>efficiency</th>\n",
       "      <td>static or series</td>\n",
       "      <td>per unit</td>\n",
       "      <td>1.0</td>\n",
       "      <td>Ratio between primary energy and electrical en...</td>\n",
       "      <td>Input (optional)</td>\n",
       "      <td>True</td>\n",
       "      <td>True</td>\n",
       "      <td>&lt;class 'float'&gt;</td>\n",
       "      <td>float64</td>\n",
       "    </tr>\n",
       "    <tr>\n",
       "      <th>committable</th>\n",
       "      <td>boolean</td>\n",
       "      <td>NaN</td>\n",
       "      <td>False</td>\n",
       "      <td>Use unit commitment (only possible if p_nom is...</td>\n",
       "      <td>Input (optional)</td>\n",
       "      <td>True</td>\n",
       "      <td>False</td>\n",
       "      <td>&lt;class 'bool'&gt;</td>\n",
       "      <td>bool</td>\n",
       "    </tr>\n",
       "    <tr>\n",
       "      <th>start_up_cost</th>\n",
       "      <td>float</td>\n",
       "      <td>currency</td>\n",
       "      <td>0.0</td>\n",
       "      <td>Cost to start up the generator. Only read if c...</td>\n",
       "      <td>Input (optional)</td>\n",
       "      <td>True</td>\n",
       "      <td>False</td>\n",
       "      <td>&lt;class 'float'&gt;</td>\n",
       "      <td>float64</td>\n",
       "    </tr>\n",
       "    <tr>\n",
       "      <th>shut_down_cost</th>\n",
       "      <td>float</td>\n",
       "      <td>currency</td>\n",
       "      <td>0.0</td>\n",
       "      <td>Cost to shut down the generator. Only read if ...</td>\n",
       "      <td>Input (optional)</td>\n",
       "      <td>True</td>\n",
       "      <td>False</td>\n",
       "      <td>&lt;class 'float'&gt;</td>\n",
       "      <td>float64</td>\n",
       "    </tr>\n",
       "    <tr>\n",
       "      <th>stand_by_cost</th>\n",
       "      <td>static or series</td>\n",
       "      <td>currency/h</td>\n",
       "      <td>0.0</td>\n",
       "      <td>Stand-by cost for operating the generator at n...</td>\n",
       "      <td>Input (optional)</td>\n",
       "      <td>True</td>\n",
       "      <td>True</td>\n",
       "      <td>&lt;class 'float'&gt;</td>\n",
       "      <td>float64</td>\n",
       "    </tr>\n",
       "    <tr>\n",
       "      <th>min_up_time</th>\n",
       "      <td>int</td>\n",
       "      <td>snapshots</td>\n",
       "      <td>0</td>\n",
       "      <td>Minimum number of snapshots for status to be 1...</td>\n",
       "      <td>Input (optional)</td>\n",
       "      <td>True</td>\n",
       "      <td>False</td>\n",
       "      <td>&lt;class 'int'&gt;</td>\n",
       "      <td>int32</td>\n",
       "    </tr>\n",
       "    <tr>\n",
       "      <th>min_down_time</th>\n",
       "      <td>int</td>\n",
       "      <td>snapshots</td>\n",
       "      <td>0</td>\n",
       "      <td>Minimum number of snapshots for status to be 0...</td>\n",
       "      <td>Input (optional)</td>\n",
       "      <td>True</td>\n",
       "      <td>False</td>\n",
       "      <td>&lt;class 'int'&gt;</td>\n",
       "      <td>int32</td>\n",
       "    </tr>\n",
       "    <tr>\n",
       "      <th>up_time_before</th>\n",
       "      <td>int</td>\n",
       "      <td>snapshots</td>\n",
       "      <td>1</td>\n",
       "      <td>Number of snapshots that the generator was onl...</td>\n",
       "      <td>Input (optional)</td>\n",
       "      <td>True</td>\n",
       "      <td>False</td>\n",
       "      <td>&lt;class 'int'&gt;</td>\n",
       "      <td>int32</td>\n",
       "    </tr>\n",
       "    <tr>\n",
       "      <th>down_time_before</th>\n",
       "      <td>int</td>\n",
       "      <td>snapshots</td>\n",
       "      <td>0</td>\n",
       "      <td>Number of snapshots that the generator was off...</td>\n",
       "      <td>Input (optional)</td>\n",
       "      <td>True</td>\n",
       "      <td>False</td>\n",
       "      <td>&lt;class 'int'&gt;</td>\n",
       "      <td>int32</td>\n",
       "    </tr>\n",
       "    <tr>\n",
       "      <th>ramp_limit_up</th>\n",
       "      <td>static or series</td>\n",
       "      <td>per unit</td>\n",
       "      <td>NaN</td>\n",
       "      <td>Maximum active power increase from one snapsho...</td>\n",
       "      <td>Input (optional)</td>\n",
       "      <td>True</td>\n",
       "      <td>True</td>\n",
       "      <td>&lt;class 'float'&gt;</td>\n",
       "      <td>float64</td>\n",
       "    </tr>\n",
       "    <tr>\n",
       "      <th>ramp_limit_down</th>\n",
       "      <td>static or series</td>\n",
       "      <td>per unit</td>\n",
       "      <td>NaN</td>\n",
       "      <td>Maximum active power decrease from one snapsho...</td>\n",
       "      <td>Input (optional)</td>\n",
       "      <td>True</td>\n",
       "      <td>True</td>\n",
       "      <td>&lt;class 'float'&gt;</td>\n",
       "      <td>float64</td>\n",
       "    </tr>\n",
       "    <tr>\n",
       "      <th>ramp_limit_start_up</th>\n",
       "      <td>float</td>\n",
       "      <td>per unit</td>\n",
       "      <td>1.0</td>\n",
       "      <td>Maximum active power increase at start up, per...</td>\n",
       "      <td>Input (optional)</td>\n",
       "      <td>True</td>\n",
       "      <td>False</td>\n",
       "      <td>&lt;class 'float'&gt;</td>\n",
       "      <td>float64</td>\n",
       "    </tr>\n",
       "    <tr>\n",
       "      <th>ramp_limit_shut_down</th>\n",
       "      <td>float</td>\n",
       "      <td>per unit</td>\n",
       "      <td>1.0</td>\n",
       "      <td>Maximum active power decrease at shut down, pe...</td>\n",
       "      <td>Input (optional)</td>\n",
       "      <td>True</td>\n",
       "      <td>False</td>\n",
       "      <td>&lt;class 'float'&gt;</td>\n",
       "      <td>float64</td>\n",
       "    </tr>\n",
       "    <tr>\n",
       "      <th>weight</th>\n",
       "      <td>float</td>\n",
       "      <td>NaN</td>\n",
       "      <td>1.0</td>\n",
       "      <td>Weighting of a generator. Only used for networ...</td>\n",
       "      <td>Input (optional)</td>\n",
       "      <td>True</td>\n",
       "      <td>False</td>\n",
       "      <td>&lt;class 'float'&gt;</td>\n",
       "      <td>float64</td>\n",
       "    </tr>\n",
       "    <tr>\n",
       "      <th>p</th>\n",
       "      <td>series</td>\n",
       "      <td>MW</td>\n",
       "      <td>0.0</td>\n",
       "      <td>active power at bus (positive if net generation)</td>\n",
       "      <td>Output</td>\n",
       "      <td>False</td>\n",
       "      <td>True</td>\n",
       "      <td>&lt;class 'float'&gt;</td>\n",
       "      <td>float64</td>\n",
       "    </tr>\n",
       "    <tr>\n",
       "      <th>q</th>\n",
       "      <td>series</td>\n",
       "      <td>MVar</td>\n",
       "      <td>0.0</td>\n",
       "      <td>reactive power (positive if net generation)</td>\n",
       "      <td>Output</td>\n",
       "      <td>False</td>\n",
       "      <td>True</td>\n",
       "      <td>&lt;class 'float'&gt;</td>\n",
       "      <td>float64</td>\n",
       "    </tr>\n",
       "    <tr>\n",
       "      <th>p_nom_opt</th>\n",
       "      <td>float</td>\n",
       "      <td>MW</td>\n",
       "      <td>0.0</td>\n",
       "      <td>Optimised nominal power.</td>\n",
       "      <td>Output</td>\n",
       "      <td>True</td>\n",
       "      <td>False</td>\n",
       "      <td>&lt;class 'float'&gt;</td>\n",
       "      <td>float64</td>\n",
       "    </tr>\n",
       "    <tr>\n",
       "      <th>status</th>\n",
       "      <td>series</td>\n",
       "      <td>NaN</td>\n",
       "      <td>1.0</td>\n",
       "      <td>Status (1 is on, 0 is off). Only outputted if ...</td>\n",
       "      <td>Output</td>\n",
       "      <td>False</td>\n",
       "      <td>True</td>\n",
       "      <td>&lt;class 'float'&gt;</td>\n",
       "      <td>float64</td>\n",
       "    </tr>\n",
       "    <tr>\n",
       "      <th>mu_upper</th>\n",
       "      <td>series</td>\n",
       "      <td>currency/MWh</td>\n",
       "      <td>0.0</td>\n",
       "      <td>Shadow price of upper p_nom limit</td>\n",
       "      <td>Output</td>\n",
       "      <td>False</td>\n",
       "      <td>True</td>\n",
       "      <td>&lt;class 'float'&gt;</td>\n",
       "      <td>float64</td>\n",
       "    </tr>\n",
       "    <tr>\n",
       "      <th>mu_lower</th>\n",
       "      <td>series</td>\n",
       "      <td>currency/MWh</td>\n",
       "      <td>0.0</td>\n",
       "      <td>Shadow price of lower p_nom limit</td>\n",
       "      <td>Output</td>\n",
       "      <td>False</td>\n",
       "      <td>True</td>\n",
       "      <td>&lt;class 'float'&gt;</td>\n",
       "      <td>float64</td>\n",
       "    </tr>\n",
       "    <tr>\n",
       "      <th>mu_p_set</th>\n",
       "      <td>series</td>\n",
       "      <td>currency/MWh</td>\n",
       "      <td>0.0</td>\n",
       "      <td>Shadow price of fixed power generation p_set</td>\n",
       "      <td>Output</td>\n",
       "      <td>False</td>\n",
       "      <td>True</td>\n",
       "      <td>&lt;class 'float'&gt;</td>\n",
       "      <td>float64</td>\n",
       "    </tr>\n",
       "    <tr>\n",
       "      <th>mu_ramp_limit_up</th>\n",
       "      <td>series</td>\n",
       "      <td>currency/MWh</td>\n",
       "      <td>0.0</td>\n",
       "      <td>Shadow price of upper ramp up limit</td>\n",
       "      <td>Output</td>\n",
       "      <td>False</td>\n",
       "      <td>True</td>\n",
       "      <td>&lt;class 'float'&gt;</td>\n",
       "      <td>float64</td>\n",
       "    </tr>\n",
       "    <tr>\n",
       "      <th>mu_ramp_limit_down</th>\n",
       "      <td>series</td>\n",
       "      <td>currency/MWh</td>\n",
       "      <td>0.0</td>\n",
       "      <td>Shadow price of lower ramp down limit</td>\n",
       "      <td>Output</td>\n",
       "      <td>False</td>\n",
       "      <td>True</td>\n",
       "      <td>&lt;class 'float'&gt;</td>\n",
       "      <td>float64</td>\n",
       "    </tr>\n",
       "  </tbody>\n",
       "</table>\n",
       "</div>"
      ],
      "text/plain": [
       "                                     type          unit default  \\\n",
       "attribute                                                         \n",
       "name                               string           NaN           \n",
       "bus                                string           NaN           \n",
       "control                            string           NaN      PQ   \n",
       "type                               string           NaN           \n",
       "p_nom                               float            MW     0.0   \n",
       "p_nom_mod                           float            MW     0.0   \n",
       "p_nom_extendable                  boolean           NaN   False   \n",
       "p_nom_min                           float            MW     0.0   \n",
       "p_nom_max                           float            MW     inf   \n",
       "p_min_pu                 static or series      per unit     0.0   \n",
       "p_max_pu                 static or series      per unit     1.0   \n",
       "p_set                    static or series            MW     0.0   \n",
       "e_sum_min                           float           MWh    -inf   \n",
       "e_sum_max                           float           MWh     inf   \n",
       "q_set                    static or series          MVar     0.0   \n",
       "sign                                float           NaN     1.0   \n",
       "carrier                            string           NaN           \n",
       "marginal_cost            static or series  currency/MWh     0.0   \n",
       "marginal_cost_quadratic  static or series  currency/MWh     0.0   \n",
       "active                            boolean           NaN    True   \n",
       "build_year                            int          year       0   \n",
       "lifetime                            float         years     inf   \n",
       "capital_cost                        float   currency/MW     0.0   \n",
       "efficiency               static or series      per unit     1.0   \n",
       "committable                       boolean           NaN   False   \n",
       "start_up_cost                       float      currency     0.0   \n",
       "shut_down_cost                      float      currency     0.0   \n",
       "stand_by_cost            static or series    currency/h     0.0   \n",
       "min_up_time                           int     snapshots       0   \n",
       "min_down_time                         int     snapshots       0   \n",
       "up_time_before                        int     snapshots       1   \n",
       "down_time_before                      int     snapshots       0   \n",
       "ramp_limit_up            static or series      per unit     NaN   \n",
       "ramp_limit_down          static or series      per unit     NaN   \n",
       "ramp_limit_start_up                 float      per unit     1.0   \n",
       "ramp_limit_shut_down                float      per unit     1.0   \n",
       "weight                              float           NaN     1.0   \n",
       "p                                  series            MW     0.0   \n",
       "q                                  series          MVar     0.0   \n",
       "p_nom_opt                           float            MW     0.0   \n",
       "status                             series           NaN     1.0   \n",
       "mu_upper                           series  currency/MWh     0.0   \n",
       "mu_lower                           series  currency/MWh     0.0   \n",
       "mu_p_set                           series  currency/MWh     0.0   \n",
       "mu_ramp_limit_up                   series  currency/MWh     0.0   \n",
       "mu_ramp_limit_down                 series  currency/MWh     0.0   \n",
       "\n",
       "                                                               description  \\\n",
       "attribute                                                                    \n",
       "name                                                           Unique name   \n",
       "bus                             name of bus to which generator is attached   \n",
       "control                  P,Q,V control strategy for PF, must be \"PQ\", \"...   \n",
       "type                     Placeholder for generator type. Not yet implem...   \n",
       "p_nom                            Nominal power for limits in optimization.   \n",
       "p_nom_mod                           Nominal power of the generator module.   \n",
       "p_nom_extendable         Switch to allow capacity p_nom to be extended ...   \n",
       "p_nom_min                If p_nom is extendable in optimization, set it...   \n",
       "p_nom_max                If p_nom is extendable in optimization, set it...   \n",
       "p_min_pu                 The minimum output for each snapshot per unit ...   \n",
       "p_max_pu                 The maximum output for each snapshot per unit ...   \n",
       "p_set                                      active power set point (for PF)   \n",
       "e_sum_min                The minimum total energy produced during a sin...   \n",
       "e_sum_max                The maximum total energy produced during a sin...   \n",
       "q_set                                    reactive power set point (for PF)   \n",
       "sign                                                            power sign   \n",
       "carrier                  Prime mover energy carrier (e.g. coal, gas, wi...   \n",
       "marginal_cost                        Marginal cost of production of 1 MWh.   \n",
       "marginal_cost_quadratic    Quadratic marginal cost of production of 1 MWh.   \n",
       "active                   Whether to consider the component in basic fun...   \n",
       "build_year                                                      build year   \n",
       "lifetime                                                          lifetime   \n",
       "capital_cost             Fixed period costs of extending p_nom by 1 MW,...   \n",
       "efficiency               Ratio between primary energy and electrical en...   \n",
       "committable              Use unit commitment (only possible if p_nom is...   \n",
       "start_up_cost            Cost to start up the generator. Only read if c...   \n",
       "shut_down_cost           Cost to shut down the generator. Only read if ...   \n",
       "stand_by_cost            Stand-by cost for operating the generator at n...   \n",
       "min_up_time              Minimum number of snapshots for status to be 1...   \n",
       "min_down_time            Minimum number of snapshots for status to be 0...   \n",
       "up_time_before           Number of snapshots that the generator was onl...   \n",
       "down_time_before         Number of snapshots that the generator was off...   \n",
       "ramp_limit_up            Maximum active power increase from one snapsho...   \n",
       "ramp_limit_down          Maximum active power decrease from one snapsho...   \n",
       "ramp_limit_start_up      Maximum active power increase at start up, per...   \n",
       "ramp_limit_shut_down     Maximum active power decrease at shut down, pe...   \n",
       "weight                   Weighting of a generator. Only used for networ...   \n",
       "p                         active power at bus (positive if net generation)   \n",
       "q                              reactive power (positive if net generation)   \n",
       "p_nom_opt                                         Optimised nominal power.   \n",
       "status                   Status (1 is on, 0 is off). Only outputted if ...   \n",
       "mu_upper                                 Shadow price of upper p_nom limit   \n",
       "mu_lower                                 Shadow price of lower p_nom limit   \n",
       "mu_p_set                      Shadow price of fixed power generation p_set   \n",
       "mu_ramp_limit_up                       Shadow price of upper ramp up limit   \n",
       "mu_ramp_limit_down                   Shadow price of lower ramp down limit   \n",
       "\n",
       "                                   status  static  varying              typ  \\\n",
       "attribute                                                                     \n",
       "name                     Input (required)    True    False    <class 'str'>   \n",
       "bus                      Input (required)    True    False    <class 'str'>   \n",
       "control                  Input (optional)    True    False    <class 'str'>   \n",
       "type                     Input (optional)    True    False    <class 'str'>   \n",
       "p_nom                    Input (optional)    True    False  <class 'float'>   \n",
       "p_nom_mod                Input (optional)    True    False  <class 'float'>   \n",
       "p_nom_extendable         Input (optional)    True    False   <class 'bool'>   \n",
       "p_nom_min                Input (optional)    True    False  <class 'float'>   \n",
       "p_nom_max                Input (optional)    True    False  <class 'float'>   \n",
       "p_min_pu                 Input (optional)    True     True  <class 'float'>   \n",
       "p_max_pu                 Input (optional)    True     True  <class 'float'>   \n",
       "p_set                    Input (optional)    True     True  <class 'float'>   \n",
       "e_sum_min                Input (optional)    True    False  <class 'float'>   \n",
       "e_sum_max                Input (optional)    True    False  <class 'float'>   \n",
       "q_set                    Input (optional)    True     True  <class 'float'>   \n",
       "sign                     Input (optional)    True    False  <class 'float'>   \n",
       "carrier                  Input (optional)    True    False    <class 'str'>   \n",
       "marginal_cost            Input (optional)    True     True  <class 'float'>   \n",
       "marginal_cost_quadratic  Input (optional)    True     True  <class 'float'>   \n",
       "active                   Input (optional)    True    False   <class 'bool'>   \n",
       "build_year               Input (optional)    True    False    <class 'int'>   \n",
       "lifetime                 Input (optional)    True    False  <class 'float'>   \n",
       "capital_cost             Input (optional)    True    False  <class 'float'>   \n",
       "efficiency               Input (optional)    True     True  <class 'float'>   \n",
       "committable              Input (optional)    True    False   <class 'bool'>   \n",
       "start_up_cost            Input (optional)    True    False  <class 'float'>   \n",
       "shut_down_cost           Input (optional)    True    False  <class 'float'>   \n",
       "stand_by_cost            Input (optional)    True     True  <class 'float'>   \n",
       "min_up_time              Input (optional)    True    False    <class 'int'>   \n",
       "min_down_time            Input (optional)    True    False    <class 'int'>   \n",
       "up_time_before           Input (optional)    True    False    <class 'int'>   \n",
       "down_time_before         Input (optional)    True    False    <class 'int'>   \n",
       "ramp_limit_up            Input (optional)    True     True  <class 'float'>   \n",
       "ramp_limit_down          Input (optional)    True     True  <class 'float'>   \n",
       "ramp_limit_start_up      Input (optional)    True    False  <class 'float'>   \n",
       "ramp_limit_shut_down     Input (optional)    True    False  <class 'float'>   \n",
       "weight                   Input (optional)    True    False  <class 'float'>   \n",
       "p                                  Output   False     True  <class 'float'>   \n",
       "q                                  Output   False     True  <class 'float'>   \n",
       "p_nom_opt                          Output    True    False  <class 'float'>   \n",
       "status                             Output   False     True  <class 'float'>   \n",
       "mu_upper                           Output   False     True  <class 'float'>   \n",
       "mu_lower                           Output   False     True  <class 'float'>   \n",
       "mu_p_set                           Output   False     True  <class 'float'>   \n",
       "mu_ramp_limit_up                   Output   False     True  <class 'float'>   \n",
       "mu_ramp_limit_down                 Output   False     True  <class 'float'>   \n",
       "\n",
       "                           dtype  \n",
       "attribute                         \n",
       "name                      object  \n",
       "bus                       object  \n",
       "control                   object  \n",
       "type                      object  \n",
       "p_nom                    float64  \n",
       "p_nom_mod                float64  \n",
       "p_nom_extendable            bool  \n",
       "p_nom_min                float64  \n",
       "p_nom_max                float64  \n",
       "p_min_pu                 float64  \n",
       "p_max_pu                 float64  \n",
       "p_set                    float64  \n",
       "e_sum_min                float64  \n",
       "e_sum_max                float64  \n",
       "q_set                    float64  \n",
       "sign                     float64  \n",
       "carrier                   object  \n",
       "marginal_cost            float64  \n",
       "marginal_cost_quadratic  float64  \n",
       "active                      bool  \n",
       "build_year                 int32  \n",
       "lifetime                 float64  \n",
       "capital_cost             float64  \n",
       "efficiency               float64  \n",
       "committable                 bool  \n",
       "start_up_cost            float64  \n",
       "shut_down_cost           float64  \n",
       "stand_by_cost            float64  \n",
       "min_up_time                int32  \n",
       "min_down_time              int32  \n",
       "up_time_before             int32  \n",
       "down_time_before           int32  \n",
       "ramp_limit_up            float64  \n",
       "ramp_limit_down          float64  \n",
       "ramp_limit_start_up      float64  \n",
       "ramp_limit_shut_down     float64  \n",
       "weight                   float64  \n",
       "p                        float64  \n",
       "q                        float64  \n",
       "p_nom_opt                float64  \n",
       "status                   float64  \n",
       "mu_upper                 float64  \n",
       "mu_lower                 float64  \n",
       "mu_p_set                 float64  \n",
       "mu_ramp_limit_up         float64  \n",
       "mu_ramp_limit_down       float64  "
      ]
     },
     "execution_count": 59,
     "metadata": {},
     "output_type": "execute_result"
    }
   ],
   "source": [
    "network.component_attrs['Generator']"
   ]
  },
  {
   "cell_type": "code",
   "execution_count": 60,
   "metadata": {},
   "outputs": [
    {
     "data": {
      "text/html": [
       "<div>\n",
       "<style scoped>\n",
       "    .dataframe tbody tr th:only-of-type {\n",
       "        vertical-align: middle;\n",
       "    }\n",
       "\n",
       "    .dataframe tbody tr th {\n",
       "        vertical-align: top;\n",
       "    }\n",
       "\n",
       "    .dataframe thead th {\n",
       "        text-align: right;\n",
       "    }\n",
       "</style>\n",
       "<table border=\"1\" class=\"dataframe\">\n",
       "  <thead>\n",
       "    <tr style=\"text-align: right;\">\n",
       "      <th></th>\n",
       "      <th>type</th>\n",
       "      <th>unit</th>\n",
       "      <th>default</th>\n",
       "      <th>description</th>\n",
       "      <th>status</th>\n",
       "      <th>static</th>\n",
       "      <th>varying</th>\n",
       "      <th>typ</th>\n",
       "      <th>dtype</th>\n",
       "    </tr>\n",
       "    <tr>\n",
       "      <th>attribute</th>\n",
       "      <th></th>\n",
       "      <th></th>\n",
       "      <th></th>\n",
       "      <th></th>\n",
       "      <th></th>\n",
       "      <th></th>\n",
       "      <th></th>\n",
       "      <th></th>\n",
       "      <th></th>\n",
       "    </tr>\n",
       "  </thead>\n",
       "  <tbody>\n",
       "    <tr>\n",
       "      <th>name</th>\n",
       "      <td>string</td>\n",
       "      <td>NaN</td>\n",
       "      <td></td>\n",
       "      <td>Unique name</td>\n",
       "      <td>Input (required)</td>\n",
       "      <td>True</td>\n",
       "      <td>False</td>\n",
       "      <td>&lt;class 'str'&gt;</td>\n",
       "      <td>object</td>\n",
       "    </tr>\n",
       "    <tr>\n",
       "      <th>bus</th>\n",
       "      <td>string</td>\n",
       "      <td>NaN</td>\n",
       "      <td></td>\n",
       "      <td>name of bus to which generator is attached</td>\n",
       "      <td>Input (required)</td>\n",
       "      <td>True</td>\n",
       "      <td>False</td>\n",
       "      <td>&lt;class 'str'&gt;</td>\n",
       "      <td>object</td>\n",
       "    </tr>\n",
       "    <tr>\n",
       "      <th>control</th>\n",
       "      <td>string</td>\n",
       "      <td>NaN</td>\n",
       "      <td>PQ</td>\n",
       "      <td>P,Q,V control strategy for PF, must be \"PQ\", \"...</td>\n",
       "      <td>Input (optional)</td>\n",
       "      <td>True</td>\n",
       "      <td>False</td>\n",
       "      <td>&lt;class 'str'&gt;</td>\n",
       "      <td>object</td>\n",
       "    </tr>\n",
       "    <tr>\n",
       "      <th>type</th>\n",
       "      <td>string</td>\n",
       "      <td>NaN</td>\n",
       "      <td></td>\n",
       "      <td>Placeholder for generator type. Not yet implem...</td>\n",
       "      <td>Input (optional)</td>\n",
       "      <td>True</td>\n",
       "      <td>False</td>\n",
       "      <td>&lt;class 'str'&gt;</td>\n",
       "      <td>object</td>\n",
       "    </tr>\n",
       "    <tr>\n",
       "      <th>p_nom</th>\n",
       "      <td>float</td>\n",
       "      <td>MW</td>\n",
       "      <td>0.0</td>\n",
       "      <td>Nominal power for limits in optimization.</td>\n",
       "      <td>Input (optional)</td>\n",
       "      <td>True</td>\n",
       "      <td>False</td>\n",
       "      <td>&lt;class 'float'&gt;</td>\n",
       "      <td>float64</td>\n",
       "    </tr>\n",
       "    <tr>\n",
       "      <th>p_nom_mod</th>\n",
       "      <td>float</td>\n",
       "      <td>MW</td>\n",
       "      <td>0.0</td>\n",
       "      <td>Nominal power of the generator module.</td>\n",
       "      <td>Input (optional)</td>\n",
       "      <td>True</td>\n",
       "      <td>False</td>\n",
       "      <td>&lt;class 'float'&gt;</td>\n",
       "      <td>float64</td>\n",
       "    </tr>\n",
       "    <tr>\n",
       "      <th>p_nom_extendable</th>\n",
       "      <td>boolean</td>\n",
       "      <td>NaN</td>\n",
       "      <td>False</td>\n",
       "      <td>Switch to allow capacity p_nom to be extended ...</td>\n",
       "      <td>Input (optional)</td>\n",
       "      <td>True</td>\n",
       "      <td>False</td>\n",
       "      <td>&lt;class 'bool'&gt;</td>\n",
       "      <td>bool</td>\n",
       "    </tr>\n",
       "    <tr>\n",
       "      <th>p_nom_min</th>\n",
       "      <td>float</td>\n",
       "      <td>MW</td>\n",
       "      <td>0.0</td>\n",
       "      <td>If p_nom is extendable in optimization, set it...</td>\n",
       "      <td>Input (optional)</td>\n",
       "      <td>True</td>\n",
       "      <td>False</td>\n",
       "      <td>&lt;class 'float'&gt;</td>\n",
       "      <td>float64</td>\n",
       "    </tr>\n",
       "    <tr>\n",
       "      <th>p_nom_max</th>\n",
       "      <td>float</td>\n",
       "      <td>MW</td>\n",
       "      <td>inf</td>\n",
       "      <td>If p_nom is extendable in optimization, set it...</td>\n",
       "      <td>Input (optional)</td>\n",
       "      <td>True</td>\n",
       "      <td>False</td>\n",
       "      <td>&lt;class 'float'&gt;</td>\n",
       "      <td>float64</td>\n",
       "    </tr>\n",
       "    <tr>\n",
       "      <th>p_min_pu</th>\n",
       "      <td>static or series</td>\n",
       "      <td>per unit</td>\n",
       "      <td>0.0</td>\n",
       "      <td>The minimum output for each snapshot per unit ...</td>\n",
       "      <td>Input (optional)</td>\n",
       "      <td>True</td>\n",
       "      <td>True</td>\n",
       "      <td>&lt;class 'float'&gt;</td>\n",
       "      <td>float64</td>\n",
       "    </tr>\n",
       "    <tr>\n",
       "      <th>p_max_pu</th>\n",
       "      <td>static or series</td>\n",
       "      <td>per unit</td>\n",
       "      <td>1.0</td>\n",
       "      <td>The maximum output for each snapshot per unit ...</td>\n",
       "      <td>Input (optional)</td>\n",
       "      <td>True</td>\n",
       "      <td>True</td>\n",
       "      <td>&lt;class 'float'&gt;</td>\n",
       "      <td>float64</td>\n",
       "    </tr>\n",
       "    <tr>\n",
       "      <th>p_set</th>\n",
       "      <td>static or series</td>\n",
       "      <td>MW</td>\n",
       "      <td>0.0</td>\n",
       "      <td>active power set point (for PF)</td>\n",
       "      <td>Input (optional)</td>\n",
       "      <td>True</td>\n",
       "      <td>True</td>\n",
       "      <td>&lt;class 'float'&gt;</td>\n",
       "      <td>float64</td>\n",
       "    </tr>\n",
       "    <tr>\n",
       "      <th>e_sum_min</th>\n",
       "      <td>float</td>\n",
       "      <td>MWh</td>\n",
       "      <td>-inf</td>\n",
       "      <td>The minimum total energy produced during a sin...</td>\n",
       "      <td>Input (optional)</td>\n",
       "      <td>True</td>\n",
       "      <td>False</td>\n",
       "      <td>&lt;class 'float'&gt;</td>\n",
       "      <td>float64</td>\n",
       "    </tr>\n",
       "    <tr>\n",
       "      <th>e_sum_max</th>\n",
       "      <td>float</td>\n",
       "      <td>MWh</td>\n",
       "      <td>inf</td>\n",
       "      <td>The maximum total energy produced during a sin...</td>\n",
       "      <td>Input (optional)</td>\n",
       "      <td>True</td>\n",
       "      <td>False</td>\n",
       "      <td>&lt;class 'float'&gt;</td>\n",
       "      <td>float64</td>\n",
       "    </tr>\n",
       "    <tr>\n",
       "      <th>q_set</th>\n",
       "      <td>static or series</td>\n",
       "      <td>MVar</td>\n",
       "      <td>0.0</td>\n",
       "      <td>reactive power set point (for PF)</td>\n",
       "      <td>Input (optional)</td>\n",
       "      <td>True</td>\n",
       "      <td>True</td>\n",
       "      <td>&lt;class 'float'&gt;</td>\n",
       "      <td>float64</td>\n",
       "    </tr>\n",
       "    <tr>\n",
       "      <th>sign</th>\n",
       "      <td>float</td>\n",
       "      <td>NaN</td>\n",
       "      <td>1.0</td>\n",
       "      <td>power sign</td>\n",
       "      <td>Input (optional)</td>\n",
       "      <td>True</td>\n",
       "      <td>False</td>\n",
       "      <td>&lt;class 'float'&gt;</td>\n",
       "      <td>float64</td>\n",
       "    </tr>\n",
       "    <tr>\n",
       "      <th>carrier</th>\n",
       "      <td>string</td>\n",
       "      <td>NaN</td>\n",
       "      <td></td>\n",
       "      <td>Prime mover energy carrier (e.g. coal, gas, wi...</td>\n",
       "      <td>Input (optional)</td>\n",
       "      <td>True</td>\n",
       "      <td>False</td>\n",
       "      <td>&lt;class 'str'&gt;</td>\n",
       "      <td>object</td>\n",
       "    </tr>\n",
       "    <tr>\n",
       "      <th>marginal_cost</th>\n",
       "      <td>static or series</td>\n",
       "      <td>currency/MWh</td>\n",
       "      <td>0.0</td>\n",
       "      <td>Marginal cost of production of 1 MWh.</td>\n",
       "      <td>Input (optional)</td>\n",
       "      <td>True</td>\n",
       "      <td>True</td>\n",
       "      <td>&lt;class 'float'&gt;</td>\n",
       "      <td>float64</td>\n",
       "    </tr>\n",
       "    <tr>\n",
       "      <th>marginal_cost_quadratic</th>\n",
       "      <td>static or series</td>\n",
       "      <td>currency/MWh</td>\n",
       "      <td>0.0</td>\n",
       "      <td>Quadratic marginal cost of production of 1 MWh.</td>\n",
       "      <td>Input (optional)</td>\n",
       "      <td>True</td>\n",
       "      <td>True</td>\n",
       "      <td>&lt;class 'float'&gt;</td>\n",
       "      <td>float64</td>\n",
       "    </tr>\n",
       "    <tr>\n",
       "      <th>active</th>\n",
       "      <td>boolean</td>\n",
       "      <td>NaN</td>\n",
       "      <td>True</td>\n",
       "      <td>Whether to consider the component in basic fun...</td>\n",
       "      <td>Input (optional)</td>\n",
       "      <td>True</td>\n",
       "      <td>False</td>\n",
       "      <td>&lt;class 'bool'&gt;</td>\n",
       "      <td>bool</td>\n",
       "    </tr>\n",
       "    <tr>\n",
       "      <th>build_year</th>\n",
       "      <td>int</td>\n",
       "      <td>year</td>\n",
       "      <td>0</td>\n",
       "      <td>build year</td>\n",
       "      <td>Input (optional)</td>\n",
       "      <td>True</td>\n",
       "      <td>False</td>\n",
       "      <td>&lt;class 'int'&gt;</td>\n",
       "      <td>int32</td>\n",
       "    </tr>\n",
       "    <tr>\n",
       "      <th>lifetime</th>\n",
       "      <td>float</td>\n",
       "      <td>years</td>\n",
       "      <td>inf</td>\n",
       "      <td>lifetime</td>\n",
       "      <td>Input (optional)</td>\n",
       "      <td>True</td>\n",
       "      <td>False</td>\n",
       "      <td>&lt;class 'float'&gt;</td>\n",
       "      <td>float64</td>\n",
       "    </tr>\n",
       "    <tr>\n",
       "      <th>capital_cost</th>\n",
       "      <td>float</td>\n",
       "      <td>currency/MW</td>\n",
       "      <td>0.0</td>\n",
       "      <td>Fixed period costs of extending p_nom by 1 MW,...</td>\n",
       "      <td>Input (optional)</td>\n",
       "      <td>True</td>\n",
       "      <td>False</td>\n",
       "      <td>&lt;class 'float'&gt;</td>\n",
       "      <td>float64</td>\n",
       "    </tr>\n",
       "    <tr>\n",
       "      <th>efficiency</th>\n",
       "      <td>static or series</td>\n",
       "      <td>per unit</td>\n",
       "      <td>1.0</td>\n",
       "      <td>Ratio between primary energy and electrical en...</td>\n",
       "      <td>Input (optional)</td>\n",
       "      <td>True</td>\n",
       "      <td>True</td>\n",
       "      <td>&lt;class 'float'&gt;</td>\n",
       "      <td>float64</td>\n",
       "    </tr>\n",
       "    <tr>\n",
       "      <th>committable</th>\n",
       "      <td>boolean</td>\n",
       "      <td>NaN</td>\n",
       "      <td>False</td>\n",
       "      <td>Use unit commitment (only possible if p_nom is...</td>\n",
       "      <td>Input (optional)</td>\n",
       "      <td>True</td>\n",
       "      <td>False</td>\n",
       "      <td>&lt;class 'bool'&gt;</td>\n",
       "      <td>bool</td>\n",
       "    </tr>\n",
       "    <tr>\n",
       "      <th>start_up_cost</th>\n",
       "      <td>float</td>\n",
       "      <td>currency</td>\n",
       "      <td>0.0</td>\n",
       "      <td>Cost to start up the generator. Only read if c...</td>\n",
       "      <td>Input (optional)</td>\n",
       "      <td>True</td>\n",
       "      <td>False</td>\n",
       "      <td>&lt;class 'float'&gt;</td>\n",
       "      <td>float64</td>\n",
       "    </tr>\n",
       "    <tr>\n",
       "      <th>shut_down_cost</th>\n",
       "      <td>float</td>\n",
       "      <td>currency</td>\n",
       "      <td>0.0</td>\n",
       "      <td>Cost to shut down the generator. Only read if ...</td>\n",
       "      <td>Input (optional)</td>\n",
       "      <td>True</td>\n",
       "      <td>False</td>\n",
       "      <td>&lt;class 'float'&gt;</td>\n",
       "      <td>float64</td>\n",
       "    </tr>\n",
       "    <tr>\n",
       "      <th>stand_by_cost</th>\n",
       "      <td>static or series</td>\n",
       "      <td>currency/h</td>\n",
       "      <td>0.0</td>\n",
       "      <td>Stand-by cost for operating the generator at n...</td>\n",
       "      <td>Input (optional)</td>\n",
       "      <td>True</td>\n",
       "      <td>True</td>\n",
       "      <td>&lt;class 'float'&gt;</td>\n",
       "      <td>float64</td>\n",
       "    </tr>\n",
       "    <tr>\n",
       "      <th>min_up_time</th>\n",
       "      <td>int</td>\n",
       "      <td>snapshots</td>\n",
       "      <td>0</td>\n",
       "      <td>Minimum number of snapshots for status to be 1...</td>\n",
       "      <td>Input (optional)</td>\n",
       "      <td>True</td>\n",
       "      <td>False</td>\n",
       "      <td>&lt;class 'int'&gt;</td>\n",
       "      <td>int32</td>\n",
       "    </tr>\n",
       "    <tr>\n",
       "      <th>min_down_time</th>\n",
       "      <td>int</td>\n",
       "      <td>snapshots</td>\n",
       "      <td>0</td>\n",
       "      <td>Minimum number of snapshots for status to be 0...</td>\n",
       "      <td>Input (optional)</td>\n",
       "      <td>True</td>\n",
       "      <td>False</td>\n",
       "      <td>&lt;class 'int'&gt;</td>\n",
       "      <td>int32</td>\n",
       "    </tr>\n",
       "    <tr>\n",
       "      <th>up_time_before</th>\n",
       "      <td>int</td>\n",
       "      <td>snapshots</td>\n",
       "      <td>1</td>\n",
       "      <td>Number of snapshots that the generator was onl...</td>\n",
       "      <td>Input (optional)</td>\n",
       "      <td>True</td>\n",
       "      <td>False</td>\n",
       "      <td>&lt;class 'int'&gt;</td>\n",
       "      <td>int32</td>\n",
       "    </tr>\n",
       "    <tr>\n",
       "      <th>down_time_before</th>\n",
       "      <td>int</td>\n",
       "      <td>snapshots</td>\n",
       "      <td>0</td>\n",
       "      <td>Number of snapshots that the generator was off...</td>\n",
       "      <td>Input (optional)</td>\n",
       "      <td>True</td>\n",
       "      <td>False</td>\n",
       "      <td>&lt;class 'int'&gt;</td>\n",
       "      <td>int32</td>\n",
       "    </tr>\n",
       "    <tr>\n",
       "      <th>ramp_limit_up</th>\n",
       "      <td>static or series</td>\n",
       "      <td>per unit</td>\n",
       "      <td>NaN</td>\n",
       "      <td>Maximum active power increase from one snapsho...</td>\n",
       "      <td>Input (optional)</td>\n",
       "      <td>True</td>\n",
       "      <td>True</td>\n",
       "      <td>&lt;class 'float'&gt;</td>\n",
       "      <td>float64</td>\n",
       "    </tr>\n",
       "    <tr>\n",
       "      <th>ramp_limit_down</th>\n",
       "      <td>static or series</td>\n",
       "      <td>per unit</td>\n",
       "      <td>NaN</td>\n",
       "      <td>Maximum active power decrease from one snapsho...</td>\n",
       "      <td>Input (optional)</td>\n",
       "      <td>True</td>\n",
       "      <td>True</td>\n",
       "      <td>&lt;class 'float'&gt;</td>\n",
       "      <td>float64</td>\n",
       "    </tr>\n",
       "    <tr>\n",
       "      <th>ramp_limit_start_up</th>\n",
       "      <td>float</td>\n",
       "      <td>per unit</td>\n",
       "      <td>1.0</td>\n",
       "      <td>Maximum active power increase at start up, per...</td>\n",
       "      <td>Input (optional)</td>\n",
       "      <td>True</td>\n",
       "      <td>False</td>\n",
       "      <td>&lt;class 'float'&gt;</td>\n",
       "      <td>float64</td>\n",
       "    </tr>\n",
       "    <tr>\n",
       "      <th>ramp_limit_shut_down</th>\n",
       "      <td>float</td>\n",
       "      <td>per unit</td>\n",
       "      <td>1.0</td>\n",
       "      <td>Maximum active power decrease at shut down, pe...</td>\n",
       "      <td>Input (optional)</td>\n",
       "      <td>True</td>\n",
       "      <td>False</td>\n",
       "      <td>&lt;class 'float'&gt;</td>\n",
       "      <td>float64</td>\n",
       "    </tr>\n",
       "    <tr>\n",
       "      <th>weight</th>\n",
       "      <td>float</td>\n",
       "      <td>NaN</td>\n",
       "      <td>1.0</td>\n",
       "      <td>Weighting of a generator. Only used for networ...</td>\n",
       "      <td>Input (optional)</td>\n",
       "      <td>True</td>\n",
       "      <td>False</td>\n",
       "      <td>&lt;class 'float'&gt;</td>\n",
       "      <td>float64</td>\n",
       "    </tr>\n",
       "    <tr>\n",
       "      <th>p</th>\n",
       "      <td>series</td>\n",
       "      <td>MW</td>\n",
       "      <td>0.0</td>\n",
       "      <td>active power at bus (positive if net generation)</td>\n",
       "      <td>Output</td>\n",
       "      <td>False</td>\n",
       "      <td>True</td>\n",
       "      <td>&lt;class 'float'&gt;</td>\n",
       "      <td>float64</td>\n",
       "    </tr>\n",
       "    <tr>\n",
       "      <th>q</th>\n",
       "      <td>series</td>\n",
       "      <td>MVar</td>\n",
       "      <td>0.0</td>\n",
       "      <td>reactive power (positive if net generation)</td>\n",
       "      <td>Output</td>\n",
       "      <td>False</td>\n",
       "      <td>True</td>\n",
       "      <td>&lt;class 'float'&gt;</td>\n",
       "      <td>float64</td>\n",
       "    </tr>\n",
       "    <tr>\n",
       "      <th>p_nom_opt</th>\n",
       "      <td>float</td>\n",
       "      <td>MW</td>\n",
       "      <td>0.0</td>\n",
       "      <td>Optimised nominal power.</td>\n",
       "      <td>Output</td>\n",
       "      <td>True</td>\n",
       "      <td>False</td>\n",
       "      <td>&lt;class 'float'&gt;</td>\n",
       "      <td>float64</td>\n",
       "    </tr>\n",
       "    <tr>\n",
       "      <th>status</th>\n",
       "      <td>series</td>\n",
       "      <td>NaN</td>\n",
       "      <td>1.0</td>\n",
       "      <td>Status (1 is on, 0 is off). Only outputted if ...</td>\n",
       "      <td>Output</td>\n",
       "      <td>False</td>\n",
       "      <td>True</td>\n",
       "      <td>&lt;class 'float'&gt;</td>\n",
       "      <td>float64</td>\n",
       "    </tr>\n",
       "    <tr>\n",
       "      <th>mu_upper</th>\n",
       "      <td>series</td>\n",
       "      <td>currency/MWh</td>\n",
       "      <td>0.0</td>\n",
       "      <td>Shadow price of upper p_nom limit</td>\n",
       "      <td>Output</td>\n",
       "      <td>False</td>\n",
       "      <td>True</td>\n",
       "      <td>&lt;class 'float'&gt;</td>\n",
       "      <td>float64</td>\n",
       "    </tr>\n",
       "    <tr>\n",
       "      <th>mu_lower</th>\n",
       "      <td>series</td>\n",
       "      <td>currency/MWh</td>\n",
       "      <td>0.0</td>\n",
       "      <td>Shadow price of lower p_nom limit</td>\n",
       "      <td>Output</td>\n",
       "      <td>False</td>\n",
       "      <td>True</td>\n",
       "      <td>&lt;class 'float'&gt;</td>\n",
       "      <td>float64</td>\n",
       "    </tr>\n",
       "    <tr>\n",
       "      <th>mu_p_set</th>\n",
       "      <td>series</td>\n",
       "      <td>currency/MWh</td>\n",
       "      <td>0.0</td>\n",
       "      <td>Shadow price of fixed power generation p_set</td>\n",
       "      <td>Output</td>\n",
       "      <td>False</td>\n",
       "      <td>True</td>\n",
       "      <td>&lt;class 'float'&gt;</td>\n",
       "      <td>float64</td>\n",
       "    </tr>\n",
       "    <tr>\n",
       "      <th>mu_ramp_limit_up</th>\n",
       "      <td>series</td>\n",
       "      <td>currency/MWh</td>\n",
       "      <td>0.0</td>\n",
       "      <td>Shadow price of upper ramp up limit</td>\n",
       "      <td>Output</td>\n",
       "      <td>False</td>\n",
       "      <td>True</td>\n",
       "      <td>&lt;class 'float'&gt;</td>\n",
       "      <td>float64</td>\n",
       "    </tr>\n",
       "    <tr>\n",
       "      <th>mu_ramp_limit_down</th>\n",
       "      <td>series</td>\n",
       "      <td>currency/MWh</td>\n",
       "      <td>0.0</td>\n",
       "      <td>Shadow price of lower ramp down limit</td>\n",
       "      <td>Output</td>\n",
       "      <td>False</td>\n",
       "      <td>True</td>\n",
       "      <td>&lt;class 'float'&gt;</td>\n",
       "      <td>float64</td>\n",
       "    </tr>\n",
       "  </tbody>\n",
       "</table>\n",
       "</div>"
      ],
      "text/plain": [
       "                                     type          unit default  \\\n",
       "attribute                                                         \n",
       "name                               string           NaN           \n",
       "bus                                string           NaN           \n",
       "control                            string           NaN      PQ   \n",
       "type                               string           NaN           \n",
       "p_nom                               float            MW     0.0   \n",
       "p_nom_mod                           float            MW     0.0   \n",
       "p_nom_extendable                  boolean           NaN   False   \n",
       "p_nom_min                           float            MW     0.0   \n",
       "p_nom_max                           float            MW     inf   \n",
       "p_min_pu                 static or series      per unit     0.0   \n",
       "p_max_pu                 static or series      per unit     1.0   \n",
       "p_set                    static or series            MW     0.0   \n",
       "e_sum_min                           float           MWh    -inf   \n",
       "e_sum_max                           float           MWh     inf   \n",
       "q_set                    static or series          MVar     0.0   \n",
       "sign                                float           NaN     1.0   \n",
       "carrier                            string           NaN           \n",
       "marginal_cost            static or series  currency/MWh     0.0   \n",
       "marginal_cost_quadratic  static or series  currency/MWh     0.0   \n",
       "active                            boolean           NaN    True   \n",
       "build_year                            int          year       0   \n",
       "lifetime                            float         years     inf   \n",
       "capital_cost                        float   currency/MW     0.0   \n",
       "efficiency               static or series      per unit     1.0   \n",
       "committable                       boolean           NaN   False   \n",
       "start_up_cost                       float      currency     0.0   \n",
       "shut_down_cost                      float      currency     0.0   \n",
       "stand_by_cost            static or series    currency/h     0.0   \n",
       "min_up_time                           int     snapshots       0   \n",
       "min_down_time                         int     snapshots       0   \n",
       "up_time_before                        int     snapshots       1   \n",
       "down_time_before                      int     snapshots       0   \n",
       "ramp_limit_up            static or series      per unit     NaN   \n",
       "ramp_limit_down          static or series      per unit     NaN   \n",
       "ramp_limit_start_up                 float      per unit     1.0   \n",
       "ramp_limit_shut_down                float      per unit     1.0   \n",
       "weight                              float           NaN     1.0   \n",
       "p                                  series            MW     0.0   \n",
       "q                                  series          MVar     0.0   \n",
       "p_nom_opt                           float            MW     0.0   \n",
       "status                             series           NaN     1.0   \n",
       "mu_upper                           series  currency/MWh     0.0   \n",
       "mu_lower                           series  currency/MWh     0.0   \n",
       "mu_p_set                           series  currency/MWh     0.0   \n",
       "mu_ramp_limit_up                   series  currency/MWh     0.0   \n",
       "mu_ramp_limit_down                 series  currency/MWh     0.0   \n",
       "\n",
       "                                                               description  \\\n",
       "attribute                                                                    \n",
       "name                                                           Unique name   \n",
       "bus                             name of bus to which generator is attached   \n",
       "control                  P,Q,V control strategy for PF, must be \"PQ\", \"...   \n",
       "type                     Placeholder for generator type. Not yet implem...   \n",
       "p_nom                            Nominal power for limits in optimization.   \n",
       "p_nom_mod                           Nominal power of the generator module.   \n",
       "p_nom_extendable         Switch to allow capacity p_nom to be extended ...   \n",
       "p_nom_min                If p_nom is extendable in optimization, set it...   \n",
       "p_nom_max                If p_nom is extendable in optimization, set it...   \n",
       "p_min_pu                 The minimum output for each snapshot per unit ...   \n",
       "p_max_pu                 The maximum output for each snapshot per unit ...   \n",
       "p_set                                      active power set point (for PF)   \n",
       "e_sum_min                The minimum total energy produced during a sin...   \n",
       "e_sum_max                The maximum total energy produced during a sin...   \n",
       "q_set                                    reactive power set point (for PF)   \n",
       "sign                                                            power sign   \n",
       "carrier                  Prime mover energy carrier (e.g. coal, gas, wi...   \n",
       "marginal_cost                        Marginal cost of production of 1 MWh.   \n",
       "marginal_cost_quadratic    Quadratic marginal cost of production of 1 MWh.   \n",
       "active                   Whether to consider the component in basic fun...   \n",
       "build_year                                                      build year   \n",
       "lifetime                                                          lifetime   \n",
       "capital_cost             Fixed period costs of extending p_nom by 1 MW,...   \n",
       "efficiency               Ratio between primary energy and electrical en...   \n",
       "committable              Use unit commitment (only possible if p_nom is...   \n",
       "start_up_cost            Cost to start up the generator. Only read if c...   \n",
       "shut_down_cost           Cost to shut down the generator. Only read if ...   \n",
       "stand_by_cost            Stand-by cost for operating the generator at n...   \n",
       "min_up_time              Minimum number of snapshots for status to be 1...   \n",
       "min_down_time            Minimum number of snapshots for status to be 0...   \n",
       "up_time_before           Number of snapshots that the generator was onl...   \n",
       "down_time_before         Number of snapshots that the generator was off...   \n",
       "ramp_limit_up            Maximum active power increase from one snapsho...   \n",
       "ramp_limit_down          Maximum active power decrease from one snapsho...   \n",
       "ramp_limit_start_up      Maximum active power increase at start up, per...   \n",
       "ramp_limit_shut_down     Maximum active power decrease at shut down, pe...   \n",
       "weight                   Weighting of a generator. Only used for networ...   \n",
       "p                         active power at bus (positive if net generation)   \n",
       "q                              reactive power (positive if net generation)   \n",
       "p_nom_opt                                         Optimised nominal power.   \n",
       "status                   Status (1 is on, 0 is off). Only outputted if ...   \n",
       "mu_upper                                 Shadow price of upper p_nom limit   \n",
       "mu_lower                                 Shadow price of lower p_nom limit   \n",
       "mu_p_set                      Shadow price of fixed power generation p_set   \n",
       "mu_ramp_limit_up                       Shadow price of upper ramp up limit   \n",
       "mu_ramp_limit_down                   Shadow price of lower ramp down limit   \n",
       "\n",
       "                                   status  static  varying              typ  \\\n",
       "attribute                                                                     \n",
       "name                     Input (required)    True    False    <class 'str'>   \n",
       "bus                      Input (required)    True    False    <class 'str'>   \n",
       "control                  Input (optional)    True    False    <class 'str'>   \n",
       "type                     Input (optional)    True    False    <class 'str'>   \n",
       "p_nom                    Input (optional)    True    False  <class 'float'>   \n",
       "p_nom_mod                Input (optional)    True    False  <class 'float'>   \n",
       "p_nom_extendable         Input (optional)    True    False   <class 'bool'>   \n",
       "p_nom_min                Input (optional)    True    False  <class 'float'>   \n",
       "p_nom_max                Input (optional)    True    False  <class 'float'>   \n",
       "p_min_pu                 Input (optional)    True     True  <class 'float'>   \n",
       "p_max_pu                 Input (optional)    True     True  <class 'float'>   \n",
       "p_set                    Input (optional)    True     True  <class 'float'>   \n",
       "e_sum_min                Input (optional)    True    False  <class 'float'>   \n",
       "e_sum_max                Input (optional)    True    False  <class 'float'>   \n",
       "q_set                    Input (optional)    True     True  <class 'float'>   \n",
       "sign                     Input (optional)    True    False  <class 'float'>   \n",
       "carrier                  Input (optional)    True    False    <class 'str'>   \n",
       "marginal_cost            Input (optional)    True     True  <class 'float'>   \n",
       "marginal_cost_quadratic  Input (optional)    True     True  <class 'float'>   \n",
       "active                   Input (optional)    True    False   <class 'bool'>   \n",
       "build_year               Input (optional)    True    False    <class 'int'>   \n",
       "lifetime                 Input (optional)    True    False  <class 'float'>   \n",
       "capital_cost             Input (optional)    True    False  <class 'float'>   \n",
       "efficiency               Input (optional)    True     True  <class 'float'>   \n",
       "committable              Input (optional)    True    False   <class 'bool'>   \n",
       "start_up_cost            Input (optional)    True    False  <class 'float'>   \n",
       "shut_down_cost           Input (optional)    True    False  <class 'float'>   \n",
       "stand_by_cost            Input (optional)    True     True  <class 'float'>   \n",
       "min_up_time              Input (optional)    True    False    <class 'int'>   \n",
       "min_down_time            Input (optional)    True    False    <class 'int'>   \n",
       "up_time_before           Input (optional)    True    False    <class 'int'>   \n",
       "down_time_before         Input (optional)    True    False    <class 'int'>   \n",
       "ramp_limit_up            Input (optional)    True     True  <class 'float'>   \n",
       "ramp_limit_down          Input (optional)    True     True  <class 'float'>   \n",
       "ramp_limit_start_up      Input (optional)    True    False  <class 'float'>   \n",
       "ramp_limit_shut_down     Input (optional)    True    False  <class 'float'>   \n",
       "weight                   Input (optional)    True    False  <class 'float'>   \n",
       "p                                  Output   False     True  <class 'float'>   \n",
       "q                                  Output   False     True  <class 'float'>   \n",
       "p_nom_opt                          Output    True    False  <class 'float'>   \n",
       "status                             Output   False     True  <class 'float'>   \n",
       "mu_upper                           Output   False     True  <class 'float'>   \n",
       "mu_lower                           Output   False     True  <class 'float'>   \n",
       "mu_p_set                           Output   False     True  <class 'float'>   \n",
       "mu_ramp_limit_up                   Output   False     True  <class 'float'>   \n",
       "mu_ramp_limit_down                 Output   False     True  <class 'float'>   \n",
       "\n",
       "                           dtype  \n",
       "attribute                         \n",
       "name                      object  \n",
       "bus                       object  \n",
       "control                   object  \n",
       "type                      object  \n",
       "p_nom                    float64  \n",
       "p_nom_mod                float64  \n",
       "p_nom_extendable            bool  \n",
       "p_nom_min                float64  \n",
       "p_nom_max                float64  \n",
       "p_min_pu                 float64  \n",
       "p_max_pu                 float64  \n",
       "p_set                    float64  \n",
       "e_sum_min                float64  \n",
       "e_sum_max                float64  \n",
       "q_set                    float64  \n",
       "sign                     float64  \n",
       "carrier                   object  \n",
       "marginal_cost            float64  \n",
       "marginal_cost_quadratic  float64  \n",
       "active                      bool  \n",
       "build_year                 int32  \n",
       "lifetime                 float64  \n",
       "capital_cost             float64  \n",
       "efficiency               float64  \n",
       "committable                 bool  \n",
       "start_up_cost            float64  \n",
       "shut_down_cost           float64  \n",
       "stand_by_cost            float64  \n",
       "min_up_time                int32  \n",
       "min_down_time              int32  \n",
       "up_time_before             int32  \n",
       "down_time_before           int32  \n",
       "ramp_limit_up            float64  \n",
       "ramp_limit_down          float64  \n",
       "ramp_limit_start_up      float64  \n",
       "ramp_limit_shut_down     float64  \n",
       "weight                   float64  \n",
       "p                        float64  \n",
       "q                        float64  \n",
       "p_nom_opt                float64  \n",
       "status                   float64  \n",
       "mu_upper                 float64  \n",
       "mu_lower                 float64  \n",
       "mu_p_set                 float64  \n",
       "mu_ramp_limit_up         float64  \n",
       "mu_ramp_limit_down       float64  "
      ]
     },
     "execution_count": 60,
     "metadata": {},
     "output_type": "execute_result"
    }
   ],
   "source": [
    "network.component_attrs['Generator']"
   ]
  },
  {
   "cell_type": "markdown",
   "metadata": {},
   "source": [
    "Each component is also given a label `list_name` which is the label used to access the dataset. "
   ]
  },
  {
   "cell_type": "code",
   "execution_count": 61,
   "metadata": {},
   "outputs": [
    {
     "data": {
      "text/plain": [
       "PyPSA Components Store\n",
       "======================\n",
       "- PyPSA 'SubNetwork' Components\n",
       "- PyPSA 'Bus' Components\n",
       "- PyPSA 'Carrier' Components\n",
       "- PyPSA 'GlobalConstraint' Components\n",
       "- PyPSA 'Line' Components\n",
       "- PyPSA 'LineType' Components\n",
       "- PyPSA 'Transformer' Components\n",
       "- PyPSA 'TransformerType' Components\n",
       "- PyPSA 'Link' Components\n",
       "- PyPSA 'Load' Components\n",
       "- PyPSA 'Generator' Components\n",
       "- PyPSA 'StorageUnit' Components\n",
       "- PyPSA 'Store' Components\n",
       "- PyPSA 'ShuntImpedance' Components\n",
       "- PyPSA 'Shape' Components"
      ]
     },
     "execution_count": 61,
     "metadata": {},
     "output_type": "execute_result"
    }
   ],
   "source": [
    "network.components"
   ]
  },
  {
   "cell_type": "code",
   "execution_count": 62,
   "metadata": {},
   "outputs": [
    {
     "name": "stdout",
     "output_type": "stream",
     "text": [
      "SubNetwork           sub_networks\n",
      "Bus                  buses\n",
      "Carrier              carriers\n",
      "GlobalConstraint     global_constraints\n",
      "Line                 lines\n",
      "LineType             line_types\n",
      "Transformer          transformers\n",
      "TransformerType      transformer_types\n",
      "Link                 links\n",
      "Load                 loads\n",
      "Generator            generators\n",
      "StorageUnit          storage_units\n",
      "Store                stores\n",
      "ShuntImpedance       shunt_impedances\n",
      "Shape                shapes\n"
     ]
    }
   ],
   "source": [
    "for key in network.component_attrs:\n",
    "    print(f'{key.ljust(20)} {network.components[key][\"list_name\"]}')\n"
   ]
  },
  {
   "cell_type": "markdown",
   "metadata": {},
   "source": [
    "To access the dataset: "
   ]
  },
  {
   "cell_type": "code",
   "execution_count": 63,
   "metadata": {},
   "outputs": [
    {
     "data": {
      "text/html": [
       "<div>\n",
       "<style scoped>\n",
       "    .dataframe tbody tr th:only-of-type {\n",
       "        vertical-align: middle;\n",
       "    }\n",
       "\n",
       "    .dataframe tbody tr th {\n",
       "        vertical-align: top;\n",
       "    }\n",
       "\n",
       "    .dataframe thead th {\n",
       "        text-align: right;\n",
       "    }\n",
       "</style>\n",
       "<table border=\"1\" class=\"dataframe\">\n",
       "  <thead>\n",
       "    <tr style=\"text-align: right;\">\n",
       "      <th>attribute</th>\n",
       "      <th>v_nom</th>\n",
       "      <th>type</th>\n",
       "      <th>x</th>\n",
       "      <th>y</th>\n",
       "      <th>carrier</th>\n",
       "      <th>unit</th>\n",
       "      <th>v_mag_pu_set</th>\n",
       "      <th>v_mag_pu_min</th>\n",
       "      <th>v_mag_pu_max</th>\n",
       "      <th>control</th>\n",
       "      <th>generator</th>\n",
       "      <th>sub_network</th>\n",
       "    </tr>\n",
       "    <tr>\n",
       "      <th>Bus</th>\n",
       "      <th></th>\n",
       "      <th></th>\n",
       "      <th></th>\n",
       "      <th></th>\n",
       "      <th></th>\n",
       "      <th></th>\n",
       "      <th></th>\n",
       "      <th></th>\n",
       "      <th></th>\n",
       "      <th></th>\n",
       "      <th></th>\n",
       "      <th></th>\n",
       "    </tr>\n",
       "  </thead>\n",
       "  <tbody>\n",
       "  </tbody>\n",
       "</table>\n",
       "</div>"
      ],
      "text/plain": [
       "Empty DataFrame\n",
       "Columns: [v_nom, type, x, y, carrier, unit, v_mag_pu_set, v_mag_pu_min, v_mag_pu_max, control, generator, sub_network]\n",
       "Index: []"
      ]
     },
     "execution_count": 63,
     "metadata": {},
     "output_type": "execute_result"
    }
   ],
   "source": [
    "network.buses"
   ]
  },
  {
   "cell_type": "code",
   "execution_count": 64,
   "metadata": {},
   "outputs": [
    {
     "data": {
      "text/html": [
       "<div>\n",
       "<style scoped>\n",
       "    .dataframe tbody tr th:only-of-type {\n",
       "        vertical-align: middle;\n",
       "    }\n",
       "\n",
       "    .dataframe tbody tr th {\n",
       "        vertical-align: top;\n",
       "    }\n",
       "\n",
       "    .dataframe thead th {\n",
       "        text-align: right;\n",
       "    }\n",
       "</style>\n",
       "<table border=\"1\" class=\"dataframe\">\n",
       "  <thead>\n",
       "    <tr style=\"text-align: right;\">\n",
       "      <th>attribute</th>\n",
       "      <th>bus</th>\n",
       "      <th>control</th>\n",
       "      <th>type</th>\n",
       "      <th>p_nom</th>\n",
       "      <th>p_nom_mod</th>\n",
       "      <th>p_nom_extendable</th>\n",
       "      <th>p_nom_min</th>\n",
       "      <th>p_nom_max</th>\n",
       "      <th>p_min_pu</th>\n",
       "      <th>p_max_pu</th>\n",
       "      <th>...</th>\n",
       "      <th>min_up_time</th>\n",
       "      <th>min_down_time</th>\n",
       "      <th>up_time_before</th>\n",
       "      <th>down_time_before</th>\n",
       "      <th>ramp_limit_up</th>\n",
       "      <th>ramp_limit_down</th>\n",
       "      <th>ramp_limit_start_up</th>\n",
       "      <th>ramp_limit_shut_down</th>\n",
       "      <th>weight</th>\n",
       "      <th>p_nom_opt</th>\n",
       "    </tr>\n",
       "    <tr>\n",
       "      <th>Generator</th>\n",
       "      <th></th>\n",
       "      <th></th>\n",
       "      <th></th>\n",
       "      <th></th>\n",
       "      <th></th>\n",
       "      <th></th>\n",
       "      <th></th>\n",
       "      <th></th>\n",
       "      <th></th>\n",
       "      <th></th>\n",
       "      <th></th>\n",
       "      <th></th>\n",
       "      <th></th>\n",
       "      <th></th>\n",
       "      <th></th>\n",
       "      <th></th>\n",
       "      <th></th>\n",
       "      <th></th>\n",
       "      <th></th>\n",
       "      <th></th>\n",
       "      <th></th>\n",
       "    </tr>\n",
       "  </thead>\n",
       "  <tbody>\n",
       "  </tbody>\n",
       "</table>\n",
       "<p>0 rows × 37 columns</p>\n",
       "</div>"
      ],
      "text/plain": [
       "Empty DataFrame\n",
       "Columns: [bus, control, type, p_nom, p_nom_mod, p_nom_extendable, p_nom_min, p_nom_max, p_min_pu, p_max_pu, p_set, e_sum_min, e_sum_max, q_set, sign, carrier, marginal_cost, marginal_cost_quadratic, active, build_year, lifetime, capital_cost, efficiency, committable, start_up_cost, shut_down_cost, stand_by_cost, min_up_time, min_down_time, up_time_before, down_time_before, ramp_limit_up, ramp_limit_down, ramp_limit_start_up, ramp_limit_shut_down, weight, p_nom_opt]\n",
       "Index: []\n",
       "\n",
       "[0 rows x 37 columns]"
      ]
     },
     "execution_count": 64,
     "metadata": {},
     "output_type": "execute_result"
    }
   ],
   "source": [
    "network.generators"
   ]
  },
  {
   "cell_type": "code",
   "execution_count": 65,
   "metadata": {},
   "outputs": [
    {
     "data": {
      "text/html": [
       "<div>\n",
       "<style scoped>\n",
       "    .dataframe tbody tr th:only-of-type {\n",
       "        vertical-align: middle;\n",
       "    }\n",
       "\n",
       "    .dataframe tbody tr th {\n",
       "        vertical-align: top;\n",
       "    }\n",
       "\n",
       "    .dataframe thead th {\n",
       "        text-align: right;\n",
       "    }\n",
       "</style>\n",
       "<table border=\"1\" class=\"dataframe\">\n",
       "  <thead>\n",
       "    <tr style=\"text-align: right;\">\n",
       "      <th>attribute</th>\n",
       "      <th>bus0</th>\n",
       "      <th>bus1</th>\n",
       "      <th>type</th>\n",
       "      <th>carrier</th>\n",
       "      <th>efficiency</th>\n",
       "      <th>active</th>\n",
       "      <th>build_year</th>\n",
       "      <th>lifetime</th>\n",
       "      <th>p_nom</th>\n",
       "      <th>p_nom_mod</th>\n",
       "      <th>...</th>\n",
       "      <th>shut_down_cost</th>\n",
       "      <th>min_up_time</th>\n",
       "      <th>min_down_time</th>\n",
       "      <th>up_time_before</th>\n",
       "      <th>down_time_before</th>\n",
       "      <th>ramp_limit_up</th>\n",
       "      <th>ramp_limit_down</th>\n",
       "      <th>ramp_limit_start_up</th>\n",
       "      <th>ramp_limit_shut_down</th>\n",
       "      <th>p_nom_opt</th>\n",
       "    </tr>\n",
       "    <tr>\n",
       "      <th>Link</th>\n",
       "      <th></th>\n",
       "      <th></th>\n",
       "      <th></th>\n",
       "      <th></th>\n",
       "      <th></th>\n",
       "      <th></th>\n",
       "      <th></th>\n",
       "      <th></th>\n",
       "      <th></th>\n",
       "      <th></th>\n",
       "      <th></th>\n",
       "      <th></th>\n",
       "      <th></th>\n",
       "      <th></th>\n",
       "      <th></th>\n",
       "      <th></th>\n",
       "      <th></th>\n",
       "      <th></th>\n",
       "      <th></th>\n",
       "      <th></th>\n",
       "      <th></th>\n",
       "    </tr>\n",
       "  </thead>\n",
       "  <tbody>\n",
       "  </tbody>\n",
       "</table>\n",
       "<p>0 rows × 34 columns</p>\n",
       "</div>"
      ],
      "text/plain": [
       "Empty DataFrame\n",
       "Columns: [bus0, bus1, type, carrier, efficiency, active, build_year, lifetime, p_nom, p_nom_mod, p_nom_extendable, p_nom_min, p_nom_max, p_set, p_min_pu, p_max_pu, capital_cost, marginal_cost, marginal_cost_quadratic, stand_by_cost, length, terrain_factor, committable, start_up_cost, shut_down_cost, min_up_time, min_down_time, up_time_before, down_time_before, ramp_limit_up, ramp_limit_down, ramp_limit_start_up, ramp_limit_shut_down, p_nom_opt]\n",
       "Index: []\n",
       "\n",
       "[0 rows x 34 columns]"
      ]
     },
     "execution_count": 65,
     "metadata": {},
     "output_type": "execute_result"
    }
   ],
   "source": [
    "network.links"
   ]
  },
  {
   "cell_type": "code",
   "execution_count": 66,
   "metadata": {},
   "outputs": [
    {
     "data": {
      "text/html": [
       "<div>\n",
       "<style scoped>\n",
       "    .dataframe tbody tr th:only-of-type {\n",
       "        vertical-align: middle;\n",
       "    }\n",
       "\n",
       "    .dataframe tbody tr th {\n",
       "        vertical-align: top;\n",
       "    }\n",
       "\n",
       "    .dataframe thead th {\n",
       "        text-align: right;\n",
       "    }\n",
       "</style>\n",
       "<table border=\"1\" class=\"dataframe\">\n",
       "  <thead>\n",
       "    <tr style=\"text-align: right;\">\n",
       "      <th>attribute</th>\n",
       "      <th>bus</th>\n",
       "      <th>carrier</th>\n",
       "      <th>type</th>\n",
       "      <th>p_set</th>\n",
       "      <th>q_set</th>\n",
       "      <th>sign</th>\n",
       "      <th>active</th>\n",
       "    </tr>\n",
       "    <tr>\n",
       "      <th>Load</th>\n",
       "      <th></th>\n",
       "      <th></th>\n",
       "      <th></th>\n",
       "      <th></th>\n",
       "      <th></th>\n",
       "      <th></th>\n",
       "      <th></th>\n",
       "    </tr>\n",
       "  </thead>\n",
       "  <tbody>\n",
       "  </tbody>\n",
       "</table>\n",
       "</div>"
      ],
      "text/plain": [
       "Empty DataFrame\n",
       "Columns: [bus, carrier, type, p_set, q_set, sign, active]\n",
       "Index: []"
      ]
     },
     "execution_count": 66,
     "metadata": {},
     "output_type": "execute_result"
    }
   ],
   "source": [
    "network.loads"
   ]
  },
  {
   "cell_type": "markdown",
   "metadata": {},
   "source": [
    "#### 📂 Data Structure Guidelines  "
   ]
  },
  {
   "cell_type": "markdown",
   "metadata": {},
   "source": [
    "\n",
    "\n",
    "✅ **Static Data:**  \n",
    "- The Excel file should be configured using the `list_name` as the `sheet name`.  \n",
    "- Use ``variables`` in the header.  \n",
    "\n",
    "✅ **Time-Series Data:**  \n",
    "- Follow the naming convention:  `[list]-[variable name]`\n",
    "- Example: `loads-p_set` for the set loads.\n",
    "\n",
    "---\n"
   ]
  },
  {
   "cell_type": "code",
   "execution_count": 67,
   "metadata": {},
   "outputs": [
    {
     "data": {
      "text/html": [
       "<div>\n",
       "<style scoped>\n",
       "    .dataframe tbody tr th:only-of-type {\n",
       "        vertical-align: middle;\n",
       "    }\n",
       "\n",
       "    .dataframe tbody tr th {\n",
       "        vertical-align: top;\n",
       "    }\n",
       "\n",
       "    .dataframe thead th {\n",
       "        text-align: right;\n",
       "    }\n",
       "</style>\n",
       "<table border=\"1\" class=\"dataframe\">\n",
       "  <thead>\n",
       "    <tr style=\"text-align: right;\">\n",
       "      <th>Generator</th>\n",
       "    </tr>\n",
       "    <tr>\n",
       "      <th>snapshot</th>\n",
       "    </tr>\n",
       "  </thead>\n",
       "  <tbody>\n",
       "    <tr>\n",
       "      <th>now</th>\n",
       "    </tr>\n",
       "  </tbody>\n",
       "</table>\n",
       "</div>"
      ],
      "text/plain": [
       "Empty DataFrame\n",
       "Columns: []\n",
       "Index: [now]"
      ]
     },
     "execution_count": 67,
     "metadata": {},
     "output_type": "execute_result"
    }
   ],
   "source": [
    "network.generators_t.p_max_pu"
   ]
  },
  {
   "cell_type": "code",
   "execution_count": null,
   "metadata": {},
   "outputs": [],
   "source": []
  },
  {
   "cell_type": "code",
   "execution_count": null,
   "metadata": {},
   "outputs": [],
   "source": []
  },
  {
   "cell_type": "markdown",
   "metadata": {},
   "source": []
  },
  {
   "cell_type": "markdown",
   "metadata": {},
   "source": [
    "---\n",
    "### 🐍 Add data to the network"
   ]
  },
  {
   "cell_type": "markdown",
   "metadata": {},
   "source": [
    "#### ⏳ **Set up the simulation timeseries**\n"
   ]
  },
  {
   "cell_type": "markdown",
   "metadata": {},
   "source": [
    "A `snapshot` represents a specific point in time for which the network is simulated.  \n",
    "- Snapshots can be single timestamps (e.g., `2025-01-01 00:00`) or time series covering hours, days, weeks, or years.  \n",
    "- They allow modeling of dynamic power system behavior over different time periods.  \n",
    "\n",
    "📆 **Selecting the Simulation Period**\n",
    "\n",
    "To define the simulation period, we assign snapshots to the network using a `start_time` and `end time`."
   ]
  },
  {
   "cell_type": "code",
   "execution_count": 68,
   "metadata": {},
   "outputs": [],
   "source": [
    "# Define your start and end date\n",
    "start_date = '2025-01-01 00:00'\n",
    "end_date = '2025-01-01 23:00'  # inclusive\n",
    "\n",
    "# Generate hourly snapshots and set the snapshots\n",
    "snapshots = pd.date_range(start=start_date, end=end_date, freq='4h')\n",
    "network.set_snapshots(snapshots)\n"
   ]
  },
  {
   "cell_type": "code",
   "execution_count": 69,
   "metadata": {},
   "outputs": [
    {
     "data": {
      "text/plain": [
       "DatetimeIndex(['2025-01-01 00:00:00', '2025-01-01 04:00:00',\n",
       "               '2025-01-01 08:00:00', '2025-01-01 12:00:00',\n",
       "               '2025-01-01 16:00:00', '2025-01-01 20:00:00'],\n",
       "              dtype='datetime64[ns]', name='snapshot', freq='4h')"
      ]
     },
     "execution_count": 69,
     "metadata": {},
     "output_type": "execute_result"
    }
   ],
   "source": [
    "network.snapshots"
   ]
  },
  {
   "cell_type": "markdown",
   "metadata": {},
   "source": [
    "#### **🛠️🏗️ Adding Components to a PyPSA Network**\n",
    "\n",
    "In PyPSA, the `network.add()` method is used to add components (such as buses, generators, lines, etc.) to the network. The general syntax follows:\n",
    "\n",
    "```python\n",
    "network.add(component, **attributes)\n",
    "```\n",
    "\n",
    "**Parameters**\n",
    "- `component` *(str)*: The type of component to add (e.g., `\"Bus\"`, `\"Generator\"`, `\"Load\"`, `\"Line\"`, `\"Link\"`, etc.).\n",
    "- `attributes` *(dict)*: A set of keyword arguments specifying the properties of the component.\n",
    "\n"
   ]
  },
  {
   "cell_type": "markdown",
   "metadata": {},
   "source": [
    "**Adding a Carrier**\n",
    "To add carriers to the network. \n",
    "\n",
    "```python\n",
    "network.add(\"Carrier\", name=['carrier x','carrier y','carrier z'])  \n",
    "```\n",
    "\n",
    "_Exercise: Add the following carriers_\n",
    "* _AC_\n",
    "* _coal_\n",
    "* _gas_\n",
    "* _solar_\n",
    "* _wind_"
   ]
  },
  {
   "cell_type": "code",
   "execution_count": 70,
   "metadata": {},
   "outputs": [
    {
     "data": {
      "text/plain": [
       "Index(['AC', 'coal', 'gas', 'solar', 'wind'], dtype='object')"
      ]
     },
     "execution_count": 70,
     "metadata": {},
     "output_type": "execute_result"
    }
   ],
   "source": [
    "network.add(\"Carrier\",name = [\"AC\",\"coal\",\"gas\",\"solar\",\"wind\"])"
   ]
  },
  {
   "cell_type": "code",
   "execution_count": 71,
   "metadata": {},
   "outputs": [
    {
     "data": {
      "text/html": [
       "<div>\n",
       "<style scoped>\n",
       "    .dataframe tbody tr th:only-of-type {\n",
       "        vertical-align: middle;\n",
       "    }\n",
       "\n",
       "    .dataframe tbody tr th {\n",
       "        vertical-align: top;\n",
       "    }\n",
       "\n",
       "    .dataframe thead th {\n",
       "        text-align: right;\n",
       "    }\n",
       "</style>\n",
       "<table border=\"1\" class=\"dataframe\">\n",
       "  <thead>\n",
       "    <tr style=\"text-align: right;\">\n",
       "      <th></th>\n",
       "      <th>co2_emissions</th>\n",
       "      <th>color</th>\n",
       "      <th>nice_name</th>\n",
       "      <th>max_growth</th>\n",
       "      <th>max_relative_growth</th>\n",
       "    </tr>\n",
       "    <tr>\n",
       "      <th>Carrier</th>\n",
       "      <th></th>\n",
       "      <th></th>\n",
       "      <th></th>\n",
       "      <th></th>\n",
       "      <th></th>\n",
       "    </tr>\n",
       "  </thead>\n",
       "  <tbody>\n",
       "    <tr>\n",
       "      <th>AC</th>\n",
       "      <td>0.0</td>\n",
       "      <td></td>\n",
       "      <td></td>\n",
       "      <td>inf</td>\n",
       "      <td>0.0</td>\n",
       "    </tr>\n",
       "    <tr>\n",
       "      <th>coal</th>\n",
       "      <td>0.0</td>\n",
       "      <td></td>\n",
       "      <td></td>\n",
       "      <td>inf</td>\n",
       "      <td>0.0</td>\n",
       "    </tr>\n",
       "    <tr>\n",
       "      <th>gas</th>\n",
       "      <td>0.0</td>\n",
       "      <td></td>\n",
       "      <td></td>\n",
       "      <td>inf</td>\n",
       "      <td>0.0</td>\n",
       "    </tr>\n",
       "    <tr>\n",
       "      <th>solar</th>\n",
       "      <td>0.0</td>\n",
       "      <td></td>\n",
       "      <td></td>\n",
       "      <td>inf</td>\n",
       "      <td>0.0</td>\n",
       "    </tr>\n",
       "    <tr>\n",
       "      <th>wind</th>\n",
       "      <td>0.0</td>\n",
       "      <td></td>\n",
       "      <td></td>\n",
       "      <td>inf</td>\n",
       "      <td>0.0</td>\n",
       "    </tr>\n",
       "  </tbody>\n",
       "</table>\n",
       "</div>"
      ],
      "text/plain": [
       "         co2_emissions color nice_name  max_growth  max_relative_growth\n",
       "Carrier                                                                \n",
       "AC                 0.0                         inf                  0.0\n",
       "coal               0.0                         inf                  0.0\n",
       "gas                0.0                         inf                  0.0\n",
       "solar              0.0                         inf                  0.0\n",
       "wind               0.0                         inf                  0.0"
      ]
     },
     "execution_count": 71,
     "metadata": {},
     "output_type": "execute_result"
    }
   ],
   "source": [
    "network.carriers"
   ]
  },
  {
   "cell_type": "markdown",
   "metadata": {},
   "source": [
    "**Adding a Bus**\n",
    "To add a new bus to the network:\n",
    "\n",
    "```python\n",
    "network.add(\"Bus\", name=\"bus1\")  # Adding a bus named 'bus1'\n",
    "```\n",
    "\n",
    "_Exercise: Add the following bus_\n",
    "* _ZA_"
   ]
  },
  {
   "cell_type": "code",
   "execution_count": 72,
   "metadata": {},
   "outputs": [
    {
     "data": {
      "text/plain": [
       "Index(['ZA'], dtype='object')"
      ]
     },
     "execution_count": 72,
     "metadata": {},
     "output_type": "execute_result"
    }
   ],
   "source": [
    "# Add bus\n",
    "network.add(\"Bus\",name = \"ZA\")\n"
   ]
  },
  {
   "cell_type": "code",
   "execution_count": 73,
   "metadata": {},
   "outputs": [
    {
     "data": {
      "text/html": [
       "<div>\n",
       "<style scoped>\n",
       "    .dataframe tbody tr th:only-of-type {\n",
       "        vertical-align: middle;\n",
       "    }\n",
       "\n",
       "    .dataframe tbody tr th {\n",
       "        vertical-align: top;\n",
       "    }\n",
       "\n",
       "    .dataframe thead th {\n",
       "        text-align: right;\n",
       "    }\n",
       "</style>\n",
       "<table border=\"1\" class=\"dataframe\">\n",
       "  <thead>\n",
       "    <tr style=\"text-align: right;\">\n",
       "      <th></th>\n",
       "      <th>v_nom</th>\n",
       "      <th>type</th>\n",
       "      <th>x</th>\n",
       "      <th>y</th>\n",
       "      <th>carrier</th>\n",
       "      <th>unit</th>\n",
       "      <th>v_mag_pu_set</th>\n",
       "      <th>v_mag_pu_min</th>\n",
       "      <th>v_mag_pu_max</th>\n",
       "      <th>control</th>\n",
       "      <th>generator</th>\n",
       "      <th>sub_network</th>\n",
       "    </tr>\n",
       "    <tr>\n",
       "      <th>Bus</th>\n",
       "      <th></th>\n",
       "      <th></th>\n",
       "      <th></th>\n",
       "      <th></th>\n",
       "      <th></th>\n",
       "      <th></th>\n",
       "      <th></th>\n",
       "      <th></th>\n",
       "      <th></th>\n",
       "      <th></th>\n",
       "      <th></th>\n",
       "      <th></th>\n",
       "    </tr>\n",
       "  </thead>\n",
       "  <tbody>\n",
       "    <tr>\n",
       "      <th>ZA</th>\n",
       "      <td>1.0</td>\n",
       "      <td></td>\n",
       "      <td>0.0</td>\n",
       "      <td>0.0</td>\n",
       "      <td>AC</td>\n",
       "      <td></td>\n",
       "      <td>1.0</td>\n",
       "      <td>0.0</td>\n",
       "      <td>inf</td>\n",
       "      <td>PQ</td>\n",
       "      <td></td>\n",
       "      <td></td>\n",
       "    </tr>\n",
       "  </tbody>\n",
       "</table>\n",
       "</div>"
      ],
      "text/plain": [
       "     v_nom type    x    y carrier unit  v_mag_pu_set  v_mag_pu_min  \\\n",
       "Bus                                                                  \n",
       "ZA     1.0       0.0  0.0      AC                1.0           0.0   \n",
       "\n",
       "     v_mag_pu_max control generator sub_network  \n",
       "Bus                                              \n",
       "ZA            inf      PQ                        "
      ]
     },
     "execution_count": 73,
     "metadata": {},
     "output_type": "execute_result"
    }
   ],
   "source": [
    "network.buses"
   ]
  },
  {
   "cell_type": "markdown",
   "metadata": {},
   "source": [
    "**⚡ Generators**\n",
    "\n",
    "Generators attach to a single bus, converting energy from their `carrier` to the bus `carrier`.  \n",
    "\n",
    "* Their power output is constrained by `p_nom * p_max_pu` and `p_nom * p_min_pu`.  \n",
    "\n",
    "* Static limits define dispatchable generators, while time-varying limits model renewables.  \n",
    "\n",
    "* Time series `p_max_pu` and `p_min_pu` determine availability per snapshot.  \n",
    "\n",
    "* For unit commitment constraints, refer to the PyPSA documentation. \n",
    "\n",
    "Some key variables relevant to this model are given below. \n",
    "\n",
    "\n",
    "| Attribute              | Type            | Unit           | Default | Description | Constraint |\n",
    "|------------------------|----------------|---------------|---------|-------------|------------------|\n",
    "| `name`              | string         | n/a           | n/a     | Unique name |  |\n",
    "| `bus`               | string         | n/a           | n/a     | Name of bus to which generator is attached |  |\n",
    "| `p_nom`            | float          | MW            | 0       | Nominal power for limits in optimization. |  |\n",
    "| `p_nom_extendable` | boolean        |           | False   | Switch to allow capacity p_nom to be extended in optimization. | |\n",
    "| `p_min_pu`        | static/series  | per unit      | n/a     | Minimum output per unit of p_nom. | $p_t \\geq p_{nom}\\times p_{min,pu,t}$ |\n",
    "| `p_max_pu`        | static/series  | per unit      | 1       | Maximum output per unit of p_nom. | $p_t \\leq p_{nom}\\times p_{max,pu,t}$ |\n",
    "| `p_set`           | static/series  | MW            | n/a     | Active power set point (for PF). | $p_t = p_{set}$  |\n",
    "| `e_sum_min`       | float          | MWh           | -inf    | Minimum total energy produced during optimization horizon. | $\\sum p_t \\cdot \\delta t \\leq e_{\\max}$\n",
    "| `e_sum_max`       | float          | MWh           | inf     | Maximum total energy produced during optimization horizon. | $\\sum p_t \\cdot \\delta t \\leq e_{\\max}$\n",
    "| `marginal_cost`   | static/series  | currency/MWh  | n/a     | Marginal cost of production of 1 MWh. | |\n",
    "\n"
   ]
  },
  {
   "cell_type": "markdown",
   "metadata": {},
   "source": [
    "**Adding Generators**\n",
    "\n",
    "To add a generator connected to a bus:\n",
    "\n",
    "```python\n",
    "network.add(\"Generator\", name=\"gen1\", bus=\"bus1\", p_nom=100, marginal_cost=50)\n",
    "```\n",
    "Here:\n",
    "- `bus=\"bus1\"` specifies the bus the generator is connected to.\n",
    "- `p_nom=100` sets the nominal power capacity in MW.\n",
    "- `marginal_cost=50` sets the generation cost per MWh.\n",
    "\n",
    "_Exercise: Add the following generator_\n",
    "* _name = \"CFPP\"_\n",
    "* _bus =\"ZA\"_\n",
    "* _p_nom =27000_ # MW\n",
    "* _marginal_cost =500_ #R/MWh\n",
    "* _carrier = \"coal\"_\n"
   ]
  },
  {
   "cell_type": "code",
   "execution_count": 74,
   "metadata": {},
   "outputs": [
    {
     "data": {
      "text/plain": [
       "Index(['CFPP'], dtype='object')"
      ]
     },
     "execution_count": 74,
     "metadata": {},
     "output_type": "execute_result"
    }
   ],
   "source": [
    "# Add Generator\n",
    "\n",
    "network.add(\"Generator\",name = \"CFPP\",bus = \"ZA\", p_nom = 27000,marginal_cost = 500,carrier = 'coal')"
   ]
  },
  {
   "cell_type": "markdown",
   "metadata": {},
   "source": [
    "_Exercise: Add the following generators using lists as inputs._\n",
    "name = [\"OCGT\", \"Solar PV\", \"Onshore Wind\"]\n",
    "bus = [\"ZA\", \"ZA\", \"ZA\"]\n",
    "p_nom = [8000, 5000, 4000] # MW\n",
    "marginal_cost = [1200, 0, 0] #R/MWh"
   ]
  },
  {
   "cell_type": "code",
   "execution_count": 75,
   "metadata": {},
   "outputs": [
    {
     "data": {
      "text/plain": [
       "Index(['OCGT', 'Solar PV', 'Onshore Wind'], dtype='object')"
      ]
     },
     "execution_count": 75,
     "metadata": {},
     "output_type": "execute_result"
    }
   ],
   "source": [
    "\n",
    "\n",
    "name = [\"OCGT\", \"Solar PV\", \"Onshore Wind\"]\n",
    "bus = [\"ZA\", \"ZA\", \"ZA\"]\n",
    "p_nom = [8000, 5000, 4000] # MW\n",
    "marginal_cost = [1200, 0, 0] #R/MWh\n",
    "carriers = ['gas','solar','wind']\n",
    "\n",
    "\n",
    "network.add(\"Generator\",name = name,bus = bus, p_nom = p_nom,marginal_cost = marginal_cost)"
   ]
  },
  {
   "cell_type": "code",
   "execution_count": 76,
   "metadata": {},
   "outputs": [
    {
     "data": {
      "text/html": [
       "<div>\n",
       "<style scoped>\n",
       "    .dataframe tbody tr th:only-of-type {\n",
       "        vertical-align: middle;\n",
       "    }\n",
       "\n",
       "    .dataframe tbody tr th {\n",
       "        vertical-align: top;\n",
       "    }\n",
       "\n",
       "    .dataframe thead th {\n",
       "        text-align: right;\n",
       "    }\n",
       "</style>\n",
       "<table border=\"1\" class=\"dataframe\">\n",
       "  <thead>\n",
       "    <tr style=\"text-align: right;\">\n",
       "      <th></th>\n",
       "      <th>bus</th>\n",
       "      <th>control</th>\n",
       "      <th>type</th>\n",
       "      <th>p_nom</th>\n",
       "      <th>p_nom_mod</th>\n",
       "      <th>p_nom_extendable</th>\n",
       "      <th>p_nom_min</th>\n",
       "      <th>p_nom_max</th>\n",
       "      <th>p_min_pu</th>\n",
       "      <th>p_max_pu</th>\n",
       "      <th>...</th>\n",
       "      <th>min_up_time</th>\n",
       "      <th>min_down_time</th>\n",
       "      <th>up_time_before</th>\n",
       "      <th>down_time_before</th>\n",
       "      <th>ramp_limit_up</th>\n",
       "      <th>ramp_limit_down</th>\n",
       "      <th>ramp_limit_start_up</th>\n",
       "      <th>ramp_limit_shut_down</th>\n",
       "      <th>weight</th>\n",
       "      <th>p_nom_opt</th>\n",
       "    </tr>\n",
       "    <tr>\n",
       "      <th>Generator</th>\n",
       "      <th></th>\n",
       "      <th></th>\n",
       "      <th></th>\n",
       "      <th></th>\n",
       "      <th></th>\n",
       "      <th></th>\n",
       "      <th></th>\n",
       "      <th></th>\n",
       "      <th></th>\n",
       "      <th></th>\n",
       "      <th></th>\n",
       "      <th></th>\n",
       "      <th></th>\n",
       "      <th></th>\n",
       "      <th></th>\n",
       "      <th></th>\n",
       "      <th></th>\n",
       "      <th></th>\n",
       "      <th></th>\n",
       "      <th></th>\n",
       "      <th></th>\n",
       "    </tr>\n",
       "  </thead>\n",
       "  <tbody>\n",
       "    <tr>\n",
       "      <th>CFPP</th>\n",
       "      <td>ZA</td>\n",
       "      <td>PQ</td>\n",
       "      <td></td>\n",
       "      <td>27000.0</td>\n",
       "      <td>0.0</td>\n",
       "      <td>False</td>\n",
       "      <td>0.0</td>\n",
       "      <td>inf</td>\n",
       "      <td>0.0</td>\n",
       "      <td>1.0</td>\n",
       "      <td>...</td>\n",
       "      <td>0</td>\n",
       "      <td>0</td>\n",
       "      <td>1</td>\n",
       "      <td>0</td>\n",
       "      <td>NaN</td>\n",
       "      <td>NaN</td>\n",
       "      <td>1.0</td>\n",
       "      <td>1.0</td>\n",
       "      <td>1.0</td>\n",
       "      <td>0.0</td>\n",
       "    </tr>\n",
       "    <tr>\n",
       "      <th>OCGT</th>\n",
       "      <td>ZA</td>\n",
       "      <td>PQ</td>\n",
       "      <td></td>\n",
       "      <td>8000.0</td>\n",
       "      <td>0.0</td>\n",
       "      <td>False</td>\n",
       "      <td>0.0</td>\n",
       "      <td>inf</td>\n",
       "      <td>0.0</td>\n",
       "      <td>1.0</td>\n",
       "      <td>...</td>\n",
       "      <td>0</td>\n",
       "      <td>0</td>\n",
       "      <td>1</td>\n",
       "      <td>0</td>\n",
       "      <td>NaN</td>\n",
       "      <td>NaN</td>\n",
       "      <td>1.0</td>\n",
       "      <td>1.0</td>\n",
       "      <td>1.0</td>\n",
       "      <td>0.0</td>\n",
       "    </tr>\n",
       "    <tr>\n",
       "      <th>Solar PV</th>\n",
       "      <td>ZA</td>\n",
       "      <td>PQ</td>\n",
       "      <td></td>\n",
       "      <td>5000.0</td>\n",
       "      <td>0.0</td>\n",
       "      <td>False</td>\n",
       "      <td>0.0</td>\n",
       "      <td>inf</td>\n",
       "      <td>0.0</td>\n",
       "      <td>1.0</td>\n",
       "      <td>...</td>\n",
       "      <td>0</td>\n",
       "      <td>0</td>\n",
       "      <td>1</td>\n",
       "      <td>0</td>\n",
       "      <td>NaN</td>\n",
       "      <td>NaN</td>\n",
       "      <td>1.0</td>\n",
       "      <td>1.0</td>\n",
       "      <td>1.0</td>\n",
       "      <td>0.0</td>\n",
       "    </tr>\n",
       "    <tr>\n",
       "      <th>Onshore Wind</th>\n",
       "      <td>ZA</td>\n",
       "      <td>PQ</td>\n",
       "      <td></td>\n",
       "      <td>4000.0</td>\n",
       "      <td>0.0</td>\n",
       "      <td>False</td>\n",
       "      <td>0.0</td>\n",
       "      <td>inf</td>\n",
       "      <td>0.0</td>\n",
       "      <td>1.0</td>\n",
       "      <td>...</td>\n",
       "      <td>0</td>\n",
       "      <td>0</td>\n",
       "      <td>1</td>\n",
       "      <td>0</td>\n",
       "      <td>NaN</td>\n",
       "      <td>NaN</td>\n",
       "      <td>1.0</td>\n",
       "      <td>1.0</td>\n",
       "      <td>1.0</td>\n",
       "      <td>0.0</td>\n",
       "    </tr>\n",
       "  </tbody>\n",
       "</table>\n",
       "<p>4 rows × 37 columns</p>\n",
       "</div>"
      ],
      "text/plain": [
       "             bus control type    p_nom  p_nom_mod  p_nom_extendable  \\\n",
       "Generator                                                             \n",
       "CFPP          ZA      PQ       27000.0        0.0             False   \n",
       "OCGT          ZA      PQ        8000.0        0.0             False   \n",
       "Solar PV      ZA      PQ        5000.0        0.0             False   \n",
       "Onshore Wind  ZA      PQ        4000.0        0.0             False   \n",
       "\n",
       "              p_nom_min  p_nom_max  p_min_pu  p_max_pu  ...  min_up_time  \\\n",
       "Generator                                               ...                \n",
       "CFPP                0.0        inf       0.0       1.0  ...            0   \n",
       "OCGT                0.0        inf       0.0       1.0  ...            0   \n",
       "Solar PV            0.0        inf       0.0       1.0  ...            0   \n",
       "Onshore Wind        0.0        inf       0.0       1.0  ...            0   \n",
       "\n",
       "              min_down_time  up_time_before  down_time_before  ramp_limit_up  \\\n",
       "Generator                                                                      \n",
       "CFPP                      0               1                 0            NaN   \n",
       "OCGT                      0               1                 0            NaN   \n",
       "Solar PV                  0               1                 0            NaN   \n",
       "Onshore Wind              0               1                 0            NaN   \n",
       "\n",
       "             ramp_limit_down  ramp_limit_start_up  ramp_limit_shut_down  \\\n",
       "Generator                                                                 \n",
       "CFPP                     NaN                  1.0                   1.0   \n",
       "OCGT                     NaN                  1.0                   1.0   \n",
       "Solar PV                 NaN                  1.0                   1.0   \n",
       "Onshore Wind             NaN                  1.0                   1.0   \n",
       "\n",
       "              weight  p_nom_opt  \n",
       "Generator                        \n",
       "CFPP             1.0        0.0  \n",
       "OCGT             1.0        0.0  \n",
       "Solar PV         1.0        0.0  \n",
       "Onshore Wind     1.0        0.0  \n",
       "\n",
       "[4 rows x 37 columns]"
      ]
     },
     "execution_count": 76,
     "metadata": {},
     "output_type": "execute_result"
    }
   ],
   "source": [
    "network.generators"
   ]
  },
  {
   "cell_type": "markdown",
   "metadata": {},
   "source": [
    "**_Slack Generator_**\n",
    "\n",
    "A slack generator in PyPSA acts as a last-resort mechanism to ensure supply and demand balance when available generation cannot meet demand. Instead of representing actual generation, it simulates unserved demand, effectively quantifying how much load is shed to maintain system feasibility. \n",
    "\n",
    "By assigning a very high marginal cost, the model is strongly discouraged from using it unless absolutely necessary, making it a useful proxy for system reliability and flexibility shortfalls.\n",
    "\n",
    "A slack generator is useful in modelling because it ensures the optimization always finds a feasible solution, even under extreme conditions where supply cannot meet demand. This allows the model to continue running rather than failing due to infeasibility, providing valuable insights into when, where, and how often shortfalls occur. By tracking the amount and cost of unserved energy, planners and system operators can identify weak points in generation capacity, flexibility, or transmission infrastructure, helping to guide investment decisions and resilience planning in future system development.\n",
    "\n",
    "We will name the slack generator as `Loadshedding Generator`.\n",
    "\n",
    "_Exercise: Add a slack generator._\n",
    "\n",
    "_Exercise: Add the following generator_\n",
    "* _name = \"Loadshedding Generator\"_\n",
    "* _bus =\"ZA\"_\n",
    "* _p_nom = 1_ # MW\n",
    "* _marginal_cost =500_ #R/MWh\n",
    "* _carrier = \"loadshedding\"_\n",
    "* _p_nom_extendable_ = True_"
   ]
  },
  {
   "cell_type": "code",
   "execution_count": 77,
   "metadata": {},
   "outputs": [
    {
     "data": {
      "text/plain": [
       "Index(['Loadshedding Generator'], dtype='object')"
      ]
     },
     "execution_count": 77,
     "metadata": {},
     "output_type": "execute_result"
    }
   ],
   "source": [
    "network.add(\"Generator\",name=\"Loadshedding Generator\",bus = \"ZA\" ,p_nom_extendable = True, marginal_cost = 5000)"
   ]
  },
  {
   "cell_type": "code",
   "execution_count": 78,
   "metadata": {},
   "outputs": [
    {
     "data": {
      "text/plain": [
       "Generator\n",
       "CFPP                       500.0\n",
       "OCGT                      1200.0\n",
       "Solar PV                     0.0\n",
       "Onshore Wind                 0.0\n",
       "Loadshedding Generator    5000.0\n",
       "Name: marginal_cost, dtype: float64"
      ]
     },
     "execution_count": 78,
     "metadata": {},
     "output_type": "execute_result"
    }
   ],
   "source": [
    "network.generators['marginal_cost']"
   ]
  },
  {
   "cell_type": "markdown",
   "metadata": {},
   "source": [
    "🌞 **Applying `p_max_pu` Constraint on VRE Generators**  \n",
    "\n",
    "* Variable Renewable Energy (VRE) generators, such as solar and wind, have time-dependent availability limits.  \n",
    "* The `p_max_pu` constraint, imported as a time-series dataset, determines the maximum power output at each snapshot on a per unit basis.  \n",
    "\n",
    "\n",
    "Check the number of snapshots using the `len` function.\n",
    "```\n",
    "len(network.snapshots)\n",
    "```"
   ]
  },
  {
   "cell_type": "code",
   "execution_count": 79,
   "metadata": {},
   "outputs": [
    {
     "data": {
      "text/plain": [
       "6"
      ]
     },
     "execution_count": 79,
     "metadata": {},
     "output_type": "execute_result"
    }
   ],
   "source": [
    "len(network.snapshots)"
   ]
  },
  {
   "cell_type": "code",
   "execution_count": 80,
   "metadata": {},
   "outputs": [
    {
     "data": {
      "text/plain": [
       "DatetimeIndex(['2025-01-01 00:00:00', '2025-01-01 04:00:00',\n",
       "               '2025-01-01 08:00:00', '2025-01-01 12:00:00',\n",
       "               '2025-01-01 16:00:00', '2025-01-01 20:00:00'],\n",
       "              dtype='datetime64[ns]', name='snapshot', freq='4h')"
      ]
     },
     "execution_count": 80,
     "metadata": {},
     "output_type": "execute_result"
    }
   ],
   "source": [
    "network.snapshots"
   ]
  },
  {
   "cell_type": "markdown",
   "metadata": {},
   "source": [
    "Create a set of timeseries data into a dictionary and add it into a dataframe. \n",
    "\n",
    "```\n",
    "solar_p_max_pu = [0.0, 0.0, 0.2, 0.6, 0.3, 0] \n",
    "wind_p_max_pu = [0.6, 0.4, 0.2, 0.3, 0.1, 0.15]\n",
    "\n",
    "p_max_pu_dict = {\"Solar PV\": solar_p_max_pu, \"Onshore Wind\": wind_p_max_pu}\n",
    "\n",
    "# Combine into DataFrame\n",
    "p_max_pu_df = pd.DataFrame(p_max_pu_dict, index=snapshots)\n",
    "\n",
    "network.generators_t.p_max_pu = p_max_pu_df\n",
    "```"
   ]
  },
  {
   "cell_type": "code",
   "execution_count": 81,
   "metadata": {},
   "outputs": [],
   "source": [
    "solar_p_max_pu = [0.0, 0.0, 0.2, 0.6, 0.3, 0] \n",
    "wind_p_max_pu = [0.6, 0.4, 0.2, 0.3, 0.1, 0.15]\n",
    "\n",
    "p_max_pu_dict = {\"Solar PV\": solar_p_max_pu, \"Onshore Wind\": wind_p_max_pu}\n",
    "\n",
    "# Combine into DataFrame\n",
    "p_max_pu_df = pd.DataFrame(p_max_pu_dict, index=snapshots)\n",
    "\n",
    "network.generators_t.p_max_pu = p_max_pu_df"
   ]
  },
  {
   "cell_type": "code",
   "execution_count": 82,
   "metadata": {},
   "outputs": [
    {
     "name": "stderr",
     "output_type": "stream",
     "text": [
      "c:\\Users\\gosai\\anaconda3\\envs\\flex_training_env\\lib\\site-packages\\_plotly_utils\\basevalidators.py:2596: DeprecationWarning:\n",
      "\n",
      "*scattermapbox* is deprecated! Use *scattermap* instead. Learn more at: https://plotly.com/python/mapbox-to-maplibre/\n",
      "\n"
     ]
    },
    {
     "data": {
      "application/vnd.plotly.v1+json": {
       "config": {
        "plotlyServerURL": "https://plot.ly"
       },
       "data": [
        {
         "hovertemplate": "variable=Solar PV<br>index=%{x}<br>value=%{y}<extra></extra>",
         "legendgroup": "Solar PV",
         "marker": {
          "color": "#636efa",
          "pattern": {
           "shape": ""
          }
         },
         "name": "Solar PV",
         "orientation": "v",
         "showlegend": true,
         "textposition": "auto",
         "type": "bar",
         "x": [
          "2025-01-01T00:00:00.000000000",
          "2025-01-01T04:00:00.000000000",
          "2025-01-01T08:00:00.000000000",
          "2025-01-01T12:00:00.000000000",
          "2025-01-01T16:00:00.000000000",
          "2025-01-01T20:00:00.000000000"
         ],
         "xaxis": "x",
         "y": {
          "bdata": "AAAAAAAAAAAAAAAAAAAAAJqZmZmZmck/MzMzMzMz4z8zMzMzMzPTPwAAAAAAAAAA",
          "dtype": "f8"
         },
         "yaxis": "y"
        },
        {
         "hovertemplate": "variable=Onshore Wind<br>index=%{x}<br>value=%{y}<extra></extra>",
         "legendgroup": "Onshore Wind",
         "marker": {
          "color": "#EF553B",
          "pattern": {
           "shape": ""
          }
         },
         "name": "Onshore Wind",
         "orientation": "v",
         "showlegend": true,
         "textposition": "auto",
         "type": "bar",
         "x": [
          "2025-01-01T00:00:00.000000000",
          "2025-01-01T04:00:00.000000000",
          "2025-01-01T08:00:00.000000000",
          "2025-01-01T12:00:00.000000000",
          "2025-01-01T16:00:00.000000000",
          "2025-01-01T20:00:00.000000000"
         ],
         "xaxis": "x",
         "y": {
          "bdata": "MzMzMzMz4z+amZmZmZnZP5qZmZmZmck/MzMzMzMz0z+amZmZmZm5PzMzMzMzM8M/",
          "dtype": "f8"
         },
         "yaxis": "y"
        }
       ],
       "layout": {
        "barmode": "relative",
        "legend": {
         "title": {
          "text": "variable"
         },
         "tracegroupgap": 0
        },
        "margin": {
         "t": 60
        },
        "template": {
         "data": {
          "bar": [
           {
            "error_x": {
             "color": "#2a3f5f"
            },
            "error_y": {
             "color": "#2a3f5f"
            },
            "marker": {
             "line": {
              "color": "#E5ECF6",
              "width": 0.5
             },
             "pattern": {
              "fillmode": "overlay",
              "size": 10,
              "solidity": 0.2
             }
            },
            "type": "bar"
           }
          ],
          "barpolar": [
           {
            "marker": {
             "line": {
              "color": "#E5ECF6",
              "width": 0.5
             },
             "pattern": {
              "fillmode": "overlay",
              "size": 10,
              "solidity": 0.2
             }
            },
            "type": "barpolar"
           }
          ],
          "carpet": [
           {
            "aaxis": {
             "endlinecolor": "#2a3f5f",
             "gridcolor": "white",
             "linecolor": "white",
             "minorgridcolor": "white",
             "startlinecolor": "#2a3f5f"
            },
            "baxis": {
             "endlinecolor": "#2a3f5f",
             "gridcolor": "white",
             "linecolor": "white",
             "minorgridcolor": "white",
             "startlinecolor": "#2a3f5f"
            },
            "type": "carpet"
           }
          ],
          "choropleth": [
           {
            "colorbar": {
             "outlinewidth": 0,
             "ticks": ""
            },
            "type": "choropleth"
           }
          ],
          "contour": [
           {
            "colorbar": {
             "outlinewidth": 0,
             "ticks": ""
            },
            "colorscale": [
             [
              0,
              "#0d0887"
             ],
             [
              0.1111111111111111,
              "#46039f"
             ],
             [
              0.2222222222222222,
              "#7201a8"
             ],
             [
              0.3333333333333333,
              "#9c179e"
             ],
             [
              0.4444444444444444,
              "#bd3786"
             ],
             [
              0.5555555555555556,
              "#d8576b"
             ],
             [
              0.6666666666666666,
              "#ed7953"
             ],
             [
              0.7777777777777778,
              "#fb9f3a"
             ],
             [
              0.8888888888888888,
              "#fdca26"
             ],
             [
              1,
              "#f0f921"
             ]
            ],
            "type": "contour"
           }
          ],
          "contourcarpet": [
           {
            "colorbar": {
             "outlinewidth": 0,
             "ticks": ""
            },
            "type": "contourcarpet"
           }
          ],
          "heatmap": [
           {
            "colorbar": {
             "outlinewidth": 0,
             "ticks": ""
            },
            "colorscale": [
             [
              0,
              "#0d0887"
             ],
             [
              0.1111111111111111,
              "#46039f"
             ],
             [
              0.2222222222222222,
              "#7201a8"
             ],
             [
              0.3333333333333333,
              "#9c179e"
             ],
             [
              0.4444444444444444,
              "#bd3786"
             ],
             [
              0.5555555555555556,
              "#d8576b"
             ],
             [
              0.6666666666666666,
              "#ed7953"
             ],
             [
              0.7777777777777778,
              "#fb9f3a"
             ],
             [
              0.8888888888888888,
              "#fdca26"
             ],
             [
              1,
              "#f0f921"
             ]
            ],
            "type": "heatmap"
           }
          ],
          "histogram": [
           {
            "marker": {
             "pattern": {
              "fillmode": "overlay",
              "size": 10,
              "solidity": 0.2
             }
            },
            "type": "histogram"
           }
          ],
          "histogram2d": [
           {
            "colorbar": {
             "outlinewidth": 0,
             "ticks": ""
            },
            "colorscale": [
             [
              0,
              "#0d0887"
             ],
             [
              0.1111111111111111,
              "#46039f"
             ],
             [
              0.2222222222222222,
              "#7201a8"
             ],
             [
              0.3333333333333333,
              "#9c179e"
             ],
             [
              0.4444444444444444,
              "#bd3786"
             ],
             [
              0.5555555555555556,
              "#d8576b"
             ],
             [
              0.6666666666666666,
              "#ed7953"
             ],
             [
              0.7777777777777778,
              "#fb9f3a"
             ],
             [
              0.8888888888888888,
              "#fdca26"
             ],
             [
              1,
              "#f0f921"
             ]
            ],
            "type": "histogram2d"
           }
          ],
          "histogram2dcontour": [
           {
            "colorbar": {
             "outlinewidth": 0,
             "ticks": ""
            },
            "colorscale": [
             [
              0,
              "#0d0887"
             ],
             [
              0.1111111111111111,
              "#46039f"
             ],
             [
              0.2222222222222222,
              "#7201a8"
             ],
             [
              0.3333333333333333,
              "#9c179e"
             ],
             [
              0.4444444444444444,
              "#bd3786"
             ],
             [
              0.5555555555555556,
              "#d8576b"
             ],
             [
              0.6666666666666666,
              "#ed7953"
             ],
             [
              0.7777777777777778,
              "#fb9f3a"
             ],
             [
              0.8888888888888888,
              "#fdca26"
             ],
             [
              1,
              "#f0f921"
             ]
            ],
            "type": "histogram2dcontour"
           }
          ],
          "mesh3d": [
           {
            "colorbar": {
             "outlinewidth": 0,
             "ticks": ""
            },
            "type": "mesh3d"
           }
          ],
          "parcoords": [
           {
            "line": {
             "colorbar": {
              "outlinewidth": 0,
              "ticks": ""
             }
            },
            "type": "parcoords"
           }
          ],
          "pie": [
           {
            "automargin": true,
            "type": "pie"
           }
          ],
          "scatter": [
           {
            "fillpattern": {
             "fillmode": "overlay",
             "size": 10,
             "solidity": 0.2
            },
            "type": "scatter"
           }
          ],
          "scatter3d": [
           {
            "line": {
             "colorbar": {
              "outlinewidth": 0,
              "ticks": ""
             }
            },
            "marker": {
             "colorbar": {
              "outlinewidth": 0,
              "ticks": ""
             }
            },
            "type": "scatter3d"
           }
          ],
          "scattercarpet": [
           {
            "marker": {
             "colorbar": {
              "outlinewidth": 0,
              "ticks": ""
             }
            },
            "type": "scattercarpet"
           }
          ],
          "scattergeo": [
           {
            "marker": {
             "colorbar": {
              "outlinewidth": 0,
              "ticks": ""
             }
            },
            "type": "scattergeo"
           }
          ],
          "scattergl": [
           {
            "marker": {
             "colorbar": {
              "outlinewidth": 0,
              "ticks": ""
             }
            },
            "type": "scattergl"
           }
          ],
          "scattermap": [
           {
            "marker": {
             "colorbar": {
              "outlinewidth": 0,
              "ticks": ""
             }
            },
            "type": "scattermap"
           }
          ],
          "scattermapbox": [
           {
            "marker": {
             "colorbar": {
              "outlinewidth": 0,
              "ticks": ""
             }
            },
            "type": "scattermapbox"
           }
          ],
          "scatterpolar": [
           {
            "marker": {
             "colorbar": {
              "outlinewidth": 0,
              "ticks": ""
             }
            },
            "type": "scatterpolar"
           }
          ],
          "scatterpolargl": [
           {
            "marker": {
             "colorbar": {
              "outlinewidth": 0,
              "ticks": ""
             }
            },
            "type": "scatterpolargl"
           }
          ],
          "scatterternary": [
           {
            "marker": {
             "colorbar": {
              "outlinewidth": 0,
              "ticks": ""
             }
            },
            "type": "scatterternary"
           }
          ],
          "surface": [
           {
            "colorbar": {
             "outlinewidth": 0,
             "ticks": ""
            },
            "colorscale": [
             [
              0,
              "#0d0887"
             ],
             [
              0.1111111111111111,
              "#46039f"
             ],
             [
              0.2222222222222222,
              "#7201a8"
             ],
             [
              0.3333333333333333,
              "#9c179e"
             ],
             [
              0.4444444444444444,
              "#bd3786"
             ],
             [
              0.5555555555555556,
              "#d8576b"
             ],
             [
              0.6666666666666666,
              "#ed7953"
             ],
             [
              0.7777777777777778,
              "#fb9f3a"
             ],
             [
              0.8888888888888888,
              "#fdca26"
             ],
             [
              1,
              "#f0f921"
             ]
            ],
            "type": "surface"
           }
          ],
          "table": [
           {
            "cells": {
             "fill": {
              "color": "#EBF0F8"
             },
             "line": {
              "color": "white"
             }
            },
            "header": {
             "fill": {
              "color": "#C8D4E3"
             },
             "line": {
              "color": "white"
             }
            },
            "type": "table"
           }
          ]
         },
         "layout": {
          "annotationdefaults": {
           "arrowcolor": "#2a3f5f",
           "arrowhead": 0,
           "arrowwidth": 1
          },
          "autotypenumbers": "strict",
          "coloraxis": {
           "colorbar": {
            "outlinewidth": 0,
            "ticks": ""
           }
          },
          "colorscale": {
           "diverging": [
            [
             0,
             "#8e0152"
            ],
            [
             0.1,
             "#c51b7d"
            ],
            [
             0.2,
             "#de77ae"
            ],
            [
             0.3,
             "#f1b6da"
            ],
            [
             0.4,
             "#fde0ef"
            ],
            [
             0.5,
             "#f7f7f7"
            ],
            [
             0.6,
             "#e6f5d0"
            ],
            [
             0.7,
             "#b8e186"
            ],
            [
             0.8,
             "#7fbc41"
            ],
            [
             0.9,
             "#4d9221"
            ],
            [
             1,
             "#276419"
            ]
           ],
           "sequential": [
            [
             0,
             "#0d0887"
            ],
            [
             0.1111111111111111,
             "#46039f"
            ],
            [
             0.2222222222222222,
             "#7201a8"
            ],
            [
             0.3333333333333333,
             "#9c179e"
            ],
            [
             0.4444444444444444,
             "#bd3786"
            ],
            [
             0.5555555555555556,
             "#d8576b"
            ],
            [
             0.6666666666666666,
             "#ed7953"
            ],
            [
             0.7777777777777778,
             "#fb9f3a"
            ],
            [
             0.8888888888888888,
             "#fdca26"
            ],
            [
             1,
             "#f0f921"
            ]
           ],
           "sequentialminus": [
            [
             0,
             "#0d0887"
            ],
            [
             0.1111111111111111,
             "#46039f"
            ],
            [
             0.2222222222222222,
             "#7201a8"
            ],
            [
             0.3333333333333333,
             "#9c179e"
            ],
            [
             0.4444444444444444,
             "#bd3786"
            ],
            [
             0.5555555555555556,
             "#d8576b"
            ],
            [
             0.6666666666666666,
             "#ed7953"
            ],
            [
             0.7777777777777778,
             "#fb9f3a"
            ],
            [
             0.8888888888888888,
             "#fdca26"
            ],
            [
             1,
             "#f0f921"
            ]
           ]
          },
          "colorway": [
           "#636efa",
           "#EF553B",
           "#00cc96",
           "#ab63fa",
           "#FFA15A",
           "#19d3f3",
           "#FF6692",
           "#B6E880",
           "#FF97FF",
           "#FECB52"
          ],
          "font": {
           "color": "#2a3f5f"
          },
          "geo": {
           "bgcolor": "white",
           "lakecolor": "white",
           "landcolor": "#E5ECF6",
           "showlakes": true,
           "showland": true,
           "subunitcolor": "white"
          },
          "hoverlabel": {
           "align": "left"
          },
          "hovermode": "closest",
          "mapbox": {
           "style": "light"
          },
          "paper_bgcolor": "white",
          "plot_bgcolor": "#E5ECF6",
          "polar": {
           "angularaxis": {
            "gridcolor": "white",
            "linecolor": "white",
            "ticks": ""
           },
           "bgcolor": "#E5ECF6",
           "radialaxis": {
            "gridcolor": "white",
            "linecolor": "white",
            "ticks": ""
           }
          },
          "scene": {
           "xaxis": {
            "backgroundcolor": "#E5ECF6",
            "gridcolor": "white",
            "gridwidth": 2,
            "linecolor": "white",
            "showbackground": true,
            "ticks": "",
            "zerolinecolor": "white"
           },
           "yaxis": {
            "backgroundcolor": "#E5ECF6",
            "gridcolor": "white",
            "gridwidth": 2,
            "linecolor": "white",
            "showbackground": true,
            "ticks": "",
            "zerolinecolor": "white"
           },
           "zaxis": {
            "backgroundcolor": "#E5ECF6",
            "gridcolor": "white",
            "gridwidth": 2,
            "linecolor": "white",
            "showbackground": true,
            "ticks": "",
            "zerolinecolor": "white"
           }
          },
          "shapedefaults": {
           "line": {
            "color": "#2a3f5f"
           }
          },
          "ternary": {
           "aaxis": {
            "gridcolor": "white",
            "linecolor": "white",
            "ticks": ""
           },
           "baxis": {
            "gridcolor": "white",
            "linecolor": "white",
            "ticks": ""
           },
           "bgcolor": "#E5ECF6",
           "caxis": {
            "gridcolor": "white",
            "linecolor": "white",
            "ticks": ""
           }
          },
          "title": {
           "x": 0.05
          },
          "xaxis": {
           "automargin": true,
           "gridcolor": "white",
           "linecolor": "white",
           "ticks": "",
           "title": {
            "standoff": 15
           },
           "zerolinecolor": "white",
           "zerolinewidth": 2
          },
          "yaxis": {
           "automargin": true,
           "gridcolor": "white",
           "linecolor": "white",
           "ticks": "",
           "title": {
            "standoff": 15
           },
           "zerolinecolor": "white",
           "zerolinewidth": 2
          }
         }
        },
        "xaxis": {
         "anchor": "y",
         "domain": [
          0,
          1
         ],
         "title": {
          "text": "index"
         }
        },
        "yaxis": {
         "anchor": "x",
         "domain": [
          0,
          1
         ],
         "title": {
          "text": "value"
         }
        }
       }
      }
     },
     "metadata": {},
     "output_type": "display_data"
    }
   ],
   "source": [
    "network.generators_t.p_max_pu.plot(kind = 'bar')"
   ]
  },
  {
   "cell_type": "markdown",
   "metadata": {},
   "source": [
    " 🔌 **Loads**\n",
    "\n",
    "* A load connects to a single bus and consumes power.  \n",
    "* It can represent electricity demand or other types of loads like hydrogen or heat.  \n",
    "* If active power is consumed, the load draws from the bus.  \n",
    "* If reactive power is consumed, the load behaves like an inductor.  \n",
    "* Loads are essential for demand modeling in power system simulations. ⚡🏠  \n",
    "\n",
    "\n",
    "To add a load connected to a bus:\n",
    "\n",
    "```python\n",
    "network.add(\"Load\", name=\"Load 1\", bus=\"bus1\", p_set=100)\n",
    "```\n",
    "Here:\n",
    "- `bus=\"bus1\"` specifies the bus the generator is connected to.\n",
    "- `p_set=100` sets the nominal power capacity in MW sets a constant load for all snapshots\n"
   ]
  },
  {
   "cell_type": "code",
   "execution_count": 83,
   "metadata": {},
   "outputs": [
    {
     "data": {
      "text/plain": [
       "Index(['SA Load'], dtype='object')"
      ]
     },
     "execution_count": 83,
     "metadata": {},
     "output_type": "execute_result"
    }
   ],
   "source": [
    "network.add('Load', name = \"SA Load\",bus = \"ZA\",p_set = 1000)"
   ]
  },
  {
   "cell_type": "markdown",
   "metadata": {},
   "source": [
    "**Check if the network is working**\n",
    "\n",
    "`network.optimize(solver_name = highs)`"
   ]
  },
  {
   "cell_type": "code",
   "execution_count": 85,
   "metadata": {},
   "outputs": [
    {
     "name": "stderr",
     "output_type": "stream",
     "text": [
      "INFO:linopy.model: Solve problem using Highs solver\n",
      "INFO:linopy.io: Writing time: 0.04s\n",
      "INFO:linopy.constants: Optimization successful: \n",
      "Status: ok\n",
      "Termination condition: optimal\n",
      "Solution: 31 primals, 67 duals\n",
      "Objective: 2.00e+05\n",
      "Solver model: available\n",
      "Solver message: optimal\n",
      "\n",
      "INFO:pypsa.optimization.optimize:The shadow-prices of the constraints Generator-fix-p-lower, Generator-fix-p-upper, Generator-ext-p-lower, Generator-ext-p-upper were not assigned to the network.\n"
     ]
    },
    {
     "data": {
      "text/plain": [
       "('ok', 'optimal')"
      ]
     },
     "execution_count": 85,
     "metadata": {},
     "output_type": "execute_result"
    }
   ],
   "source": [
    "network.optimize()"
   ]
  },
  {
   "cell_type": "code",
   "execution_count": 86,
   "metadata": {},
   "outputs": [
    {
     "data": {
      "text/plain": [
       "Linopy LP model\n",
       "===============\n",
       "\n",
       "Variables:\n",
       "----------\n",
       " * Generator-p_nom (Generator-ext)\n",
       " * Generator-p (snapshot, Generator)\n",
       "\n",
       "Constraints:\n",
       "------------\n",
       " * Generator-ext-p_nom-lower (Generator-ext)\n",
       " * Generator-ext-p_nom-upper (Generator-ext)\n",
       " * Generator-fix-p-lower (snapshot, Generator-fix)\n",
       " * Generator-fix-p-upper (snapshot, Generator-fix)\n",
       " * Generator-ext-p-lower (snapshot, Generator-ext)\n",
       " * Generator-ext-p-upper (snapshot, Generator-ext)\n",
       " * Bus-nodal_balance (Bus, snapshot)\n",
       "\n",
       "Status:\n",
       "-------\n",
       "ok"
      ]
     },
     "execution_count": 86,
     "metadata": {},
     "output_type": "execute_result"
    }
   ],
   "source": [
    "network.model"
   ]
  },
  {
   "cell_type": "code",
   "execution_count": null,
   "metadata": {},
   "outputs": [],
   "source": []
  },
  {
   "cell_type": "code",
   "execution_count": 87,
   "metadata": {},
   "outputs": [
    {
     "name": "stderr",
     "output_type": "stream",
     "text": [
      "c:\\Users\\gosai\\anaconda3\\envs\\flex_training_env\\lib\\site-packages\\_plotly_utils\\basevalidators.py:2596: DeprecationWarning:\n",
      "\n",
      "*scattermapbox* is deprecated! Use *scattermap* instead. Learn more at: https://plotly.com/python/mapbox-to-maplibre/\n",
      "\n"
     ]
    },
    {
     "data": {
      "application/vnd.plotly.v1+json": {
       "config": {
        "plotlyServerURL": "https://plot.ly"
       },
       "data": [
        {
         "hovertemplate": "Generator=CFPP<br>snapshot=%{x}<br>value=%{y}<extra></extra>",
         "legendgroup": "CFPP",
         "line": {
          "color": "#636efa",
          "dash": "solid"
         },
         "marker": {
          "symbol": "circle"
         },
         "mode": "lines",
         "name": "CFPP",
         "orientation": "v",
         "showlegend": true,
         "type": "scatter",
         "x": [
          "2025-01-01T00:00:00.000000000",
          "2025-01-01T04:00:00.000000000",
          "2025-01-01T08:00:00.000000000",
          "2025-01-01T12:00:00.000000000",
          "2025-01-01T16:00:00.000000000",
          "2025-01-01T20:00:00.000000000"
         ],
         "xaxis": "x",
         "y": {
          "bdata": "AAAAAAAAAIAAAAAAAAAAgAAAAAAAAACAAAAAAAAAAIAAAAAAAAAAgAAAAAAAAHlA",
          "dtype": "f8"
         },
         "yaxis": "y"
        },
        {
         "hovertemplate": "Generator=OCGT<br>snapshot=%{x}<br>value=%{y}<extra></extra>",
         "legendgroup": "OCGT",
         "line": {
          "color": "#EF553B",
          "dash": "solid"
         },
         "marker": {
          "symbol": "circle"
         },
         "mode": "lines",
         "name": "OCGT",
         "orientation": "v",
         "showlegend": true,
         "type": "scatter",
         "x": [
          "2025-01-01T00:00:00.000000000",
          "2025-01-01T04:00:00.000000000",
          "2025-01-01T08:00:00.000000000",
          "2025-01-01T12:00:00.000000000",
          "2025-01-01T16:00:00.000000000",
          "2025-01-01T20:00:00.000000000"
         ],
         "xaxis": "x",
         "y": {
          "bdata": "AAAAAAAAAIAAAAAAAAAAgAAAAAAAAACAAAAAAAAAAIAAAAAAAAAAgAAAAAAAAACA",
          "dtype": "f8"
         },
         "yaxis": "y"
        },
        {
         "hovertemplate": "Generator=Solar PV<br>snapshot=%{x}<br>value=%{y}<extra></extra>",
         "legendgroup": "Solar PV",
         "line": {
          "color": "#00cc96",
          "dash": "solid"
         },
         "marker": {
          "symbol": "circle"
         },
         "mode": "lines",
         "name": "Solar PV",
         "orientation": "v",
         "showlegend": true,
         "type": "scatter",
         "x": [
          "2025-01-01T00:00:00.000000000",
          "2025-01-01T04:00:00.000000000",
          "2025-01-01T08:00:00.000000000",
          "2025-01-01T12:00:00.000000000",
          "2025-01-01T16:00:00.000000000",
          "2025-01-01T20:00:00.000000000"
         ],
         "xaxis": "x",
         "y": {
          "bdata": "AAAAAAAAAIAAAAAAAAAAgAAAAAAAQI9AAAAAAABAj0AAAAAAAECPQAAAAAAAAACA",
          "dtype": "f8"
         },
         "yaxis": "y"
        },
        {
         "hovertemplate": "Generator=Onshore Wind<br>snapshot=%{x}<br>value=%{y}<extra></extra>",
         "legendgroup": "Onshore Wind",
         "line": {
          "color": "#ab63fa",
          "dash": "solid"
         },
         "marker": {
          "symbol": "circle"
         },
         "mode": "lines",
         "name": "Onshore Wind",
         "orientation": "v",
         "showlegend": true,
         "type": "scatter",
         "x": [
          "2025-01-01T00:00:00.000000000",
          "2025-01-01T04:00:00.000000000",
          "2025-01-01T08:00:00.000000000",
          "2025-01-01T12:00:00.000000000",
          "2025-01-01T16:00:00.000000000",
          "2025-01-01T20:00:00.000000000"
         ],
         "xaxis": "x",
         "y": {
          "bdata": "AAAAAABAj0AAAAAAAECPQAAAAAAAAACAAAAAAAAAAIAAAAAAAAAAgAAAAAAAwIJA",
          "dtype": "f8"
         },
         "yaxis": "y"
        },
        {
         "hovertemplate": "Generator=Loadshedding Generator<br>snapshot=%{x}<br>value=%{y}<extra></extra>",
         "legendgroup": "Loadshedding Generator",
         "line": {
          "color": "#FFA15A",
          "dash": "solid"
         },
         "marker": {
          "symbol": "circle"
         },
         "mode": "lines",
         "name": "Loadshedding Generator",
         "orientation": "v",
         "showlegend": true,
         "type": "scatter",
         "x": [
          "2025-01-01T00:00:00.000000000",
          "2025-01-01T04:00:00.000000000",
          "2025-01-01T08:00:00.000000000",
          "2025-01-01T12:00:00.000000000",
          "2025-01-01T16:00:00.000000000",
          "2025-01-01T20:00:00.000000000"
         ],
         "xaxis": "x",
         "y": {
          "bdata": "AAAAAAAAAIAAAAAAAAAAgAAAAAAAAACAAAAAAAAAAIAAAAAAAAAAgAAAAAAAAACA",
          "dtype": "f8"
         },
         "yaxis": "y"
        }
       ],
       "layout": {
        "legend": {
         "title": {
          "text": "Generator"
         },
         "tracegroupgap": 0
        },
        "margin": {
         "t": 60
        },
        "template": {
         "data": {
          "bar": [
           {
            "error_x": {
             "color": "#2a3f5f"
            },
            "error_y": {
             "color": "#2a3f5f"
            },
            "marker": {
             "line": {
              "color": "#E5ECF6",
              "width": 0.5
             },
             "pattern": {
              "fillmode": "overlay",
              "size": 10,
              "solidity": 0.2
             }
            },
            "type": "bar"
           }
          ],
          "barpolar": [
           {
            "marker": {
             "line": {
              "color": "#E5ECF6",
              "width": 0.5
             },
             "pattern": {
              "fillmode": "overlay",
              "size": 10,
              "solidity": 0.2
             }
            },
            "type": "barpolar"
           }
          ],
          "carpet": [
           {
            "aaxis": {
             "endlinecolor": "#2a3f5f",
             "gridcolor": "white",
             "linecolor": "white",
             "minorgridcolor": "white",
             "startlinecolor": "#2a3f5f"
            },
            "baxis": {
             "endlinecolor": "#2a3f5f",
             "gridcolor": "white",
             "linecolor": "white",
             "minorgridcolor": "white",
             "startlinecolor": "#2a3f5f"
            },
            "type": "carpet"
           }
          ],
          "choropleth": [
           {
            "colorbar": {
             "outlinewidth": 0,
             "ticks": ""
            },
            "type": "choropleth"
           }
          ],
          "contour": [
           {
            "colorbar": {
             "outlinewidth": 0,
             "ticks": ""
            },
            "colorscale": [
             [
              0,
              "#0d0887"
             ],
             [
              0.1111111111111111,
              "#46039f"
             ],
             [
              0.2222222222222222,
              "#7201a8"
             ],
             [
              0.3333333333333333,
              "#9c179e"
             ],
             [
              0.4444444444444444,
              "#bd3786"
             ],
             [
              0.5555555555555556,
              "#d8576b"
             ],
             [
              0.6666666666666666,
              "#ed7953"
             ],
             [
              0.7777777777777778,
              "#fb9f3a"
             ],
             [
              0.8888888888888888,
              "#fdca26"
             ],
             [
              1,
              "#f0f921"
             ]
            ],
            "type": "contour"
           }
          ],
          "contourcarpet": [
           {
            "colorbar": {
             "outlinewidth": 0,
             "ticks": ""
            },
            "type": "contourcarpet"
           }
          ],
          "heatmap": [
           {
            "colorbar": {
             "outlinewidth": 0,
             "ticks": ""
            },
            "colorscale": [
             [
              0,
              "#0d0887"
             ],
             [
              0.1111111111111111,
              "#46039f"
             ],
             [
              0.2222222222222222,
              "#7201a8"
             ],
             [
              0.3333333333333333,
              "#9c179e"
             ],
             [
              0.4444444444444444,
              "#bd3786"
             ],
             [
              0.5555555555555556,
              "#d8576b"
             ],
             [
              0.6666666666666666,
              "#ed7953"
             ],
             [
              0.7777777777777778,
              "#fb9f3a"
             ],
             [
              0.8888888888888888,
              "#fdca26"
             ],
             [
              1,
              "#f0f921"
             ]
            ],
            "type": "heatmap"
           }
          ],
          "histogram": [
           {
            "marker": {
             "pattern": {
              "fillmode": "overlay",
              "size": 10,
              "solidity": 0.2
             }
            },
            "type": "histogram"
           }
          ],
          "histogram2d": [
           {
            "colorbar": {
             "outlinewidth": 0,
             "ticks": ""
            },
            "colorscale": [
             [
              0,
              "#0d0887"
             ],
             [
              0.1111111111111111,
              "#46039f"
             ],
             [
              0.2222222222222222,
              "#7201a8"
             ],
             [
              0.3333333333333333,
              "#9c179e"
             ],
             [
              0.4444444444444444,
              "#bd3786"
             ],
             [
              0.5555555555555556,
              "#d8576b"
             ],
             [
              0.6666666666666666,
              "#ed7953"
             ],
             [
              0.7777777777777778,
              "#fb9f3a"
             ],
             [
              0.8888888888888888,
              "#fdca26"
             ],
             [
              1,
              "#f0f921"
             ]
            ],
            "type": "histogram2d"
           }
          ],
          "histogram2dcontour": [
           {
            "colorbar": {
             "outlinewidth": 0,
             "ticks": ""
            },
            "colorscale": [
             [
              0,
              "#0d0887"
             ],
             [
              0.1111111111111111,
              "#46039f"
             ],
             [
              0.2222222222222222,
              "#7201a8"
             ],
             [
              0.3333333333333333,
              "#9c179e"
             ],
             [
              0.4444444444444444,
              "#bd3786"
             ],
             [
              0.5555555555555556,
              "#d8576b"
             ],
             [
              0.6666666666666666,
              "#ed7953"
             ],
             [
              0.7777777777777778,
              "#fb9f3a"
             ],
             [
              0.8888888888888888,
              "#fdca26"
             ],
             [
              1,
              "#f0f921"
             ]
            ],
            "type": "histogram2dcontour"
           }
          ],
          "mesh3d": [
           {
            "colorbar": {
             "outlinewidth": 0,
             "ticks": ""
            },
            "type": "mesh3d"
           }
          ],
          "parcoords": [
           {
            "line": {
             "colorbar": {
              "outlinewidth": 0,
              "ticks": ""
             }
            },
            "type": "parcoords"
           }
          ],
          "pie": [
           {
            "automargin": true,
            "type": "pie"
           }
          ],
          "scatter": [
           {
            "fillpattern": {
             "fillmode": "overlay",
             "size": 10,
             "solidity": 0.2
            },
            "type": "scatter"
           }
          ],
          "scatter3d": [
           {
            "line": {
             "colorbar": {
              "outlinewidth": 0,
              "ticks": ""
             }
            },
            "marker": {
             "colorbar": {
              "outlinewidth": 0,
              "ticks": ""
             }
            },
            "type": "scatter3d"
           }
          ],
          "scattercarpet": [
           {
            "marker": {
             "colorbar": {
              "outlinewidth": 0,
              "ticks": ""
             }
            },
            "type": "scattercarpet"
           }
          ],
          "scattergeo": [
           {
            "marker": {
             "colorbar": {
              "outlinewidth": 0,
              "ticks": ""
             }
            },
            "type": "scattergeo"
           }
          ],
          "scattergl": [
           {
            "marker": {
             "colorbar": {
              "outlinewidth": 0,
              "ticks": ""
             }
            },
            "type": "scattergl"
           }
          ],
          "scattermap": [
           {
            "marker": {
             "colorbar": {
              "outlinewidth": 0,
              "ticks": ""
             }
            },
            "type": "scattermap"
           }
          ],
          "scattermapbox": [
           {
            "marker": {
             "colorbar": {
              "outlinewidth": 0,
              "ticks": ""
             }
            },
            "type": "scattermapbox"
           }
          ],
          "scatterpolar": [
           {
            "marker": {
             "colorbar": {
              "outlinewidth": 0,
              "ticks": ""
             }
            },
            "type": "scatterpolar"
           }
          ],
          "scatterpolargl": [
           {
            "marker": {
             "colorbar": {
              "outlinewidth": 0,
              "ticks": ""
             }
            },
            "type": "scatterpolargl"
           }
          ],
          "scatterternary": [
           {
            "marker": {
             "colorbar": {
              "outlinewidth": 0,
              "ticks": ""
             }
            },
            "type": "scatterternary"
           }
          ],
          "surface": [
           {
            "colorbar": {
             "outlinewidth": 0,
             "ticks": ""
            },
            "colorscale": [
             [
              0,
              "#0d0887"
             ],
             [
              0.1111111111111111,
              "#46039f"
             ],
             [
              0.2222222222222222,
              "#7201a8"
             ],
             [
              0.3333333333333333,
              "#9c179e"
             ],
             [
              0.4444444444444444,
              "#bd3786"
             ],
             [
              0.5555555555555556,
              "#d8576b"
             ],
             [
              0.6666666666666666,
              "#ed7953"
             ],
             [
              0.7777777777777778,
              "#fb9f3a"
             ],
             [
              0.8888888888888888,
              "#fdca26"
             ],
             [
              1,
              "#f0f921"
             ]
            ],
            "type": "surface"
           }
          ],
          "table": [
           {
            "cells": {
             "fill": {
              "color": "#EBF0F8"
             },
             "line": {
              "color": "white"
             }
            },
            "header": {
             "fill": {
              "color": "#C8D4E3"
             },
             "line": {
              "color": "white"
             }
            },
            "type": "table"
           }
          ]
         },
         "layout": {
          "annotationdefaults": {
           "arrowcolor": "#2a3f5f",
           "arrowhead": 0,
           "arrowwidth": 1
          },
          "autotypenumbers": "strict",
          "coloraxis": {
           "colorbar": {
            "outlinewidth": 0,
            "ticks": ""
           }
          },
          "colorscale": {
           "diverging": [
            [
             0,
             "#8e0152"
            ],
            [
             0.1,
             "#c51b7d"
            ],
            [
             0.2,
             "#de77ae"
            ],
            [
             0.3,
             "#f1b6da"
            ],
            [
             0.4,
             "#fde0ef"
            ],
            [
             0.5,
             "#f7f7f7"
            ],
            [
             0.6,
             "#e6f5d0"
            ],
            [
             0.7,
             "#b8e186"
            ],
            [
             0.8,
             "#7fbc41"
            ],
            [
             0.9,
             "#4d9221"
            ],
            [
             1,
             "#276419"
            ]
           ],
           "sequential": [
            [
             0,
             "#0d0887"
            ],
            [
             0.1111111111111111,
             "#46039f"
            ],
            [
             0.2222222222222222,
             "#7201a8"
            ],
            [
             0.3333333333333333,
             "#9c179e"
            ],
            [
             0.4444444444444444,
             "#bd3786"
            ],
            [
             0.5555555555555556,
             "#d8576b"
            ],
            [
             0.6666666666666666,
             "#ed7953"
            ],
            [
             0.7777777777777778,
             "#fb9f3a"
            ],
            [
             0.8888888888888888,
             "#fdca26"
            ],
            [
             1,
             "#f0f921"
            ]
           ],
           "sequentialminus": [
            [
             0,
             "#0d0887"
            ],
            [
             0.1111111111111111,
             "#46039f"
            ],
            [
             0.2222222222222222,
             "#7201a8"
            ],
            [
             0.3333333333333333,
             "#9c179e"
            ],
            [
             0.4444444444444444,
             "#bd3786"
            ],
            [
             0.5555555555555556,
             "#d8576b"
            ],
            [
             0.6666666666666666,
             "#ed7953"
            ],
            [
             0.7777777777777778,
             "#fb9f3a"
            ],
            [
             0.8888888888888888,
             "#fdca26"
            ],
            [
             1,
             "#f0f921"
            ]
           ]
          },
          "colorway": [
           "#636efa",
           "#EF553B",
           "#00cc96",
           "#ab63fa",
           "#FFA15A",
           "#19d3f3",
           "#FF6692",
           "#B6E880",
           "#FF97FF",
           "#FECB52"
          ],
          "font": {
           "color": "#2a3f5f"
          },
          "geo": {
           "bgcolor": "white",
           "lakecolor": "white",
           "landcolor": "#E5ECF6",
           "showlakes": true,
           "showland": true,
           "subunitcolor": "white"
          },
          "hoverlabel": {
           "align": "left"
          },
          "hovermode": "closest",
          "mapbox": {
           "style": "light"
          },
          "paper_bgcolor": "white",
          "plot_bgcolor": "#E5ECF6",
          "polar": {
           "angularaxis": {
            "gridcolor": "white",
            "linecolor": "white",
            "ticks": ""
           },
           "bgcolor": "#E5ECF6",
           "radialaxis": {
            "gridcolor": "white",
            "linecolor": "white",
            "ticks": ""
           }
          },
          "scene": {
           "xaxis": {
            "backgroundcolor": "#E5ECF6",
            "gridcolor": "white",
            "gridwidth": 2,
            "linecolor": "white",
            "showbackground": true,
            "ticks": "",
            "zerolinecolor": "white"
           },
           "yaxis": {
            "backgroundcolor": "#E5ECF6",
            "gridcolor": "white",
            "gridwidth": 2,
            "linecolor": "white",
            "showbackground": true,
            "ticks": "",
            "zerolinecolor": "white"
           },
           "zaxis": {
            "backgroundcolor": "#E5ECF6",
            "gridcolor": "white",
            "gridwidth": 2,
            "linecolor": "white",
            "showbackground": true,
            "ticks": "",
            "zerolinecolor": "white"
           }
          },
          "shapedefaults": {
           "line": {
            "color": "#2a3f5f"
           }
          },
          "ternary": {
           "aaxis": {
            "gridcolor": "white",
            "linecolor": "white",
            "ticks": ""
           },
           "baxis": {
            "gridcolor": "white",
            "linecolor": "white",
            "ticks": ""
           },
           "bgcolor": "#E5ECF6",
           "caxis": {
            "gridcolor": "white",
            "linecolor": "white",
            "ticks": ""
           }
          },
          "title": {
           "x": 0.05
          },
          "xaxis": {
           "automargin": true,
           "gridcolor": "white",
           "linecolor": "white",
           "ticks": "",
           "title": {
            "standoff": 15
           },
           "zerolinecolor": "white",
           "zerolinewidth": 2
          },
          "yaxis": {
           "automargin": true,
           "gridcolor": "white",
           "linecolor": "white",
           "ticks": "",
           "title": {
            "standoff": 15
           },
           "zerolinecolor": "white",
           "zerolinewidth": 2
          }
         }
        },
        "xaxis": {
         "anchor": "y",
         "domain": [
          0,
          1
         ],
         "title": {
          "text": "snapshot"
         }
        },
        "yaxis": {
         "anchor": "x",
         "domain": [
          0,
          1
         ],
         "title": {
          "text": "value"
         }
        }
       }
      }
     },
     "metadata": {},
     "output_type": "display_data"
    }
   ],
   "source": [
    "network.generators_t.p.plot()"
   ]
  },
  {
   "cell_type": "markdown",
   "metadata": {},
   "source": [
    "\n",
    "**Adding a Battery as a `storage_unit`**\n",
    "```python\n",
    "network.add(\"StoageUnit\", name=\"StorageUnit1\", bus0=\"bus1\",  p_nom=100 , ...)\n",
    "```\n",
    "Here:\n",
    "- `bus0=\"bus1\"` and `bus1=\"bus2\"` define the buses the line connects.\n",
    "- `p_nom=100` sets the nominal power in MW."
   ]
  },
  {
   "cell_type": "code",
   "execution_count": null,
   "metadata": {},
   "outputs": [],
   "source": []
  },
  {
   "cell_type": "markdown",
   "metadata": {},
   "source": [
    "**🔋Batteries**\n",
    "\n",
    "There are two components for energy storage in PyPSA: Storage Units and Stores.  \n",
    "\n",
    "* ⚡ Storage Unit  \n",
    "   * Attaches to a single bus and is used for inter-temporal power shifting with a time-varying state of charge.  \n",
    "   * The energy capacity is defined as `max_hours * nominal power (MW)`, and it includes charging/discharging efficiencies.  \n",
    "\n",
    "* 🏭 Store  \n",
    "   * Connects to a single bus and acts as a fundamental energy storage component without energy conversion.  \n",
    "   * Controls and optimizes energy capacity size, but power output must be controlled using Link components.  \n",
    "\n",
    "🔄 Key Differences  \n",
    "| Feature           | Storage Unit | Store |\n",
    "|------------------|-------------|-------|\n",
    "| Power Control | Directly defined | Requires Links |\n",
    "| Energy Capacity | Fixed as `max_hours * MW` | Optimized independently |\n",
    "| Marginal Cost | Applies only to discharging | Applies to both charging & discharging |\n",
    "| Energy Carrier Conversion| Possible | Not possible (inherits from bus) |\n",
    "\n",
    "Stores are more flexible but require Links for power control, while Storage Units offer a simpler implementation for direct energy storage modeling. ⚙️🔄  \n",
    "\n",
    "⚡ **Storage Unit**\n",
    "\n",
    "\n",
    "| Attribute              | Type            | Unit           | Default | Description |\n",
    "|------------------------|----------------|---------------|---------|-------------|\n",
    "| `name`              | string         | n/a           | n/a     | Unique name | \n",
    "| `bus`               | string         | n/a           | n/a     | Name of bus to which generator is attached |\n",
    "| `p_nom`            | float          | MW            | 0       | Nominal power for limits in optimization. | \n",
    "| `marginal_cost`   | static/series  | currency/MWh  | n/a     | Marginal cost of production of 1 MWh. | \n",
    "| `max_hours` | float | h | 1 | Maximum state of charge capacity in terms of hours at full output capacity `p_nom` |  \n",
    "|`state_of_charge_initial`| float | MWh | 0  | State of charge before the snapshots in the OPF. | \n",
    "|`efficiency_store`  | static/series | per unit | 1 | Efficiency of storage on the way into the storage. | \n",
    "|`efficiency_dispatch`| static/series | per unit | 1 | Efficiency of storage on the way out of the storage. | \n",
    "| `standing_loss`| static/series | per unit | 0 | Losses per hour to state of charge. | \n",
    "| `inflow`| static/series | MW | 0 | Inflow to the state of charge, e.g. due to river inflow in hydro reservoir. |\n"
   ]
  },
  {
   "cell_type": "markdown",
   "metadata": {},
   "source": [
    "```python\n",
    "network.add(\"StoageUnit\", name=\"StorageUnit1\", bus=\"bus1\",  p_nom=100 , ...)\n",
    "```\n",
    "\n",
    "_Exercise_\n",
    "* _name = \"BESS\"_\n",
    "*  _bus = \"ZA\"_\n",
    "* _p_nom = 1000_\n",
    "* _marginal_cost = 100_\n",
    "* _state_of_charge_initial = 3000_\n",
    "* _max_hours = 5_\n",
    "\n"
   ]
  },
  {
   "cell_type": "code",
   "execution_count": 88,
   "metadata": {},
   "outputs": [
    {
     "data": {
      "text/plain": [
       "Index(['BESS'], dtype='object')"
      ]
     },
     "execution_count": 88,
     "metadata": {},
     "output_type": "execute_result"
    }
   ],
   "source": [
    "network.add('StorageUnit', name = \"BESS\",bus = \"ZA\",p_nom = 1000, state_of_charge_initial = 300, max_hours = 5)"
   ]
  },
  {
   "cell_type": "markdown",
   "metadata": {},
   "source": [
    "🔗 **Links**\n",
    "\n",
    "* Links enable controllable, directed power flow between two buses (`bus0 → bus1`).  \n",
    "* They can have efficiency losses and marginal costs, restricting default flow to one direction.  \n",
    "* For bidirectional, lossless operation, set `efficiency = 1`, `marginal_cost = 0`, and `p_min_pu = -1`.  \n",
    "* Links model HVDC interconnections, converters, heat pumps, electrolysers, and other controllable power flows.  \n",
    "* ⚠️ In the actual model, lines will be used instead of links for passive AC/DC transmission.  \n",
    "\n",
    "**Adding a Transmission Line as a `link`**\n",
    "```python\n",
    "network.add(\"Link\", name=\"link1\", bus0=\"bus1\", bus1=\"bus2\", p_nom=100)\n",
    "```\n",
    "Here:\n",
    "- `bus0=\"bus1\"` and `bus1=\"bus2\"` define the buses the line connects.\n",
    "- `p_nom=100` sets the nominal power in MW.\n",
    "\n",
    "_Exercise: Set up a bus in Lesotho (LS) with a constant load of 80 MW and connect Lesotho to South Africa (ZA) a 100MW link wit_\n",
    "\n"
   ]
  },
  {
   "cell_type": "code",
   "execution_count": 89,
   "metadata": {},
   "outputs": [
    {
     "data": {
      "text/plain": [
       "Index(['Lesotho Demand'], dtype='object')"
      ]
     },
     "execution_count": 89,
     "metadata": {},
     "output_type": "execute_result"
    }
   ],
   "source": [
    "network.add(\"Bus\",name = \"LS\")\n",
    "network.add(\"Link\",name = \"friendship\", bus0 = \"ZA\", bus1 = \"LS\", p_nom = 100)\n",
    "network.add(\"Load\",name = \"Lesotho Demand\", bus = \"LS\", p_set = 80)"
   ]
  },
  {
   "cell_type": "markdown",
   "metadata": {},
   "source": [
    "---\n",
    "### 🌐 Working with the `network` object"
   ]
  },
  {
   "cell_type": "markdown",
   "metadata": {},
   "source": [
    "The network contains functions, such as: \n",
    "\n",
    "- 📥 Adding data: `network.add()` or `network.import_from_csv()` - As described before.\n",
    "- :tick `network.consistency_check()` to check network consistency\n",
    "- 🔍 Optimization: `network.optimize()` – Runs the optimization process.  \n",
    "   * Supports multiple solvers including GLPK, Gurobi, CPLEX, and HiGHS. \n",
    "- 📊 Statistics: `network.statistics()` – Generates system-wide statistics.  \n",
    "- 🗺️ Visualization: `network.plot()` – Plots the network layout.  \n"
   ]
  },
  {
   "cell_type": "markdown",
   "metadata": {},
   "source": [
    "**Review Input Data**"
   ]
  },
  {
   "cell_type": "markdown",
   "metadata": {},
   "source": [
    "# network | component {_t} | attribute | {Pandas}"
   ]
  },
  {
   "cell_type": "code",
   "execution_count": null,
   "metadata": {},
   "outputs": [],
   "source": []
  },
  {
   "cell_type": "code",
   "execution_count": 91,
   "metadata": {},
   "outputs": [
    {
     "data": {
      "text/html": [
       "<div>\n",
       "<style scoped>\n",
       "    .dataframe tbody tr th:only-of-type {\n",
       "        vertical-align: middle;\n",
       "    }\n",
       "\n",
       "    .dataframe tbody tr th {\n",
       "        vertical-align: top;\n",
       "    }\n",
       "\n",
       "    .dataframe thead th {\n",
       "        text-align: right;\n",
       "    }\n",
       "</style>\n",
       "<table border=\"1\" class=\"dataframe\">\n",
       "  <thead>\n",
       "    <tr style=\"text-align: right;\">\n",
       "      <th></th>\n",
       "      <th>Solar PV</th>\n",
       "      <th>Onshore Wind</th>\n",
       "    </tr>\n",
       "  </thead>\n",
       "  <tbody>\n",
       "    <tr>\n",
       "      <th>2025-01-01 00:00:00</th>\n",
       "      <td>0.0</td>\n",
       "      <td>0.6</td>\n",
       "    </tr>\n",
       "    <tr>\n",
       "      <th>2025-01-01 04:00:00</th>\n",
       "      <td>0.0</td>\n",
       "      <td>0.4</td>\n",
       "    </tr>\n",
       "    <tr>\n",
       "      <th>2025-01-01 08:00:00</th>\n",
       "      <td>0.2</td>\n",
       "      <td>0.2</td>\n",
       "    </tr>\n",
       "  </tbody>\n",
       "</table>\n",
       "</div>"
      ],
      "text/plain": [
       "                     Solar PV  Onshore Wind\n",
       "2025-01-01 00:00:00       0.0           0.6\n",
       "2025-01-01 04:00:00       0.0           0.4\n",
       "2025-01-01 08:00:00       0.2           0.2"
      ]
     },
     "execution_count": 91,
     "metadata": {},
     "output_type": "execute_result"
    }
   ],
   "source": [
    "network.generators_t.p_max_pu.head(3)"
   ]
  },
  {
   "cell_type": "code",
   "execution_count": 92,
   "metadata": {},
   "outputs": [
    {
     "data": {
      "text/html": [
       "<div>\n",
       "<style scoped>\n",
       "    .dataframe tbody tr th:only-of-type {\n",
       "        vertical-align: middle;\n",
       "    }\n",
       "\n",
       "    .dataframe tbody tr th {\n",
       "        vertical-align: top;\n",
       "    }\n",
       "\n",
       "    .dataframe thead th {\n",
       "        text-align: right;\n",
       "    }\n",
       "</style>\n",
       "<table border=\"1\" class=\"dataframe\">\n",
       "  <thead>\n",
       "    <tr style=\"text-align: right;\">\n",
       "      <th>Load</th>\n",
       "    </tr>\n",
       "    <tr>\n",
       "      <th>snapshot</th>\n",
       "    </tr>\n",
       "  </thead>\n",
       "  <tbody>\n",
       "    <tr>\n",
       "      <th>2025-01-01 00:00:00</th>\n",
       "    </tr>\n",
       "    <tr>\n",
       "      <th>2025-01-01 04:00:00</th>\n",
       "    </tr>\n",
       "    <tr>\n",
       "      <th>2025-01-01 08:00:00</th>\n",
       "    </tr>\n",
       "    <tr>\n",
       "      <th>2025-01-01 12:00:00</th>\n",
       "    </tr>\n",
       "    <tr>\n",
       "      <th>2025-01-01 16:00:00</th>\n",
       "    </tr>\n",
       "  </tbody>\n",
       "</table>\n",
       "</div>"
      ],
      "text/plain": [
       "Empty DataFrame\n",
       "Columns: []\n",
       "Index: [2025-01-01 00:00:00, 2025-01-01 04:00:00, 2025-01-01 08:00:00, 2025-01-01 12:00:00, 2025-01-01 16:00:00]"
      ]
     },
     "execution_count": 92,
     "metadata": {},
     "output_type": "execute_result"
    }
   ],
   "source": [
    "network.loads_t.p_set.head()"
   ]
  },
  {
   "cell_type": "code",
   "execution_count": 93,
   "metadata": {},
   "outputs": [
    {
     "data": {
      "text/html": [
       "<div>\n",
       "<style scoped>\n",
       "    .dataframe tbody tr th:only-of-type {\n",
       "        vertical-align: middle;\n",
       "    }\n",
       "\n",
       "    .dataframe tbody tr th {\n",
       "        vertical-align: top;\n",
       "    }\n",
       "\n",
       "    .dataframe thead th {\n",
       "        text-align: right;\n",
       "    }\n",
       "</style>\n",
       "<table border=\"1\" class=\"dataframe\">\n",
       "  <thead>\n",
       "    <tr style=\"text-align: right;\">\n",
       "      <th></th>\n",
       "      <th>bus</th>\n",
       "      <th>carrier</th>\n",
       "      <th>type</th>\n",
       "      <th>p_set</th>\n",
       "      <th>q_set</th>\n",
       "      <th>sign</th>\n",
       "      <th>active</th>\n",
       "    </tr>\n",
       "    <tr>\n",
       "      <th>Load</th>\n",
       "      <th></th>\n",
       "      <th></th>\n",
       "      <th></th>\n",
       "      <th></th>\n",
       "      <th></th>\n",
       "      <th></th>\n",
       "      <th></th>\n",
       "    </tr>\n",
       "  </thead>\n",
       "  <tbody>\n",
       "    <tr>\n",
       "      <th>SA Load</th>\n",
       "      <td>ZA</td>\n",
       "      <td></td>\n",
       "      <td></td>\n",
       "      <td>1000.0</td>\n",
       "      <td>0.0</td>\n",
       "      <td>-1.0</td>\n",
       "      <td>True</td>\n",
       "    </tr>\n",
       "    <tr>\n",
       "      <th>Lesotho Demand</th>\n",
       "      <td>LS</td>\n",
       "      <td></td>\n",
       "      <td></td>\n",
       "      <td>80.0</td>\n",
       "      <td>0.0</td>\n",
       "      <td>-1.0</td>\n",
       "      <td>True</td>\n",
       "    </tr>\n",
       "  </tbody>\n",
       "</table>\n",
       "</div>"
      ],
      "text/plain": [
       "               bus carrier type   p_set  q_set  sign  active\n",
       "Load                                                        \n",
       "SA Load         ZA               1000.0    0.0  -1.0    True\n",
       "Lesotho Demand  LS                 80.0    0.0  -1.0    True"
      ]
     },
     "execution_count": 93,
     "metadata": {},
     "output_type": "execute_result"
    }
   ],
   "source": [
    "network.loads"
   ]
  },
  {
   "cell_type": "code",
   "execution_count": null,
   "metadata": {},
   "outputs": [],
   "source": [
    "network.links.head()"
   ]
  },
  {
   "cell_type": "code",
   "execution_count": 94,
   "metadata": {},
   "outputs": [],
   "source": [
    "network.consistency_check()"
   ]
  },
  {
   "cell_type": "markdown",
   "metadata": {},
   "source": [
    "**Solve Model**"
   ]
  },
  {
   "cell_type": "code",
   "execution_count": 95,
   "metadata": {},
   "outputs": [
    {
     "name": "stderr",
     "output_type": "stream",
     "text": [
      "INFO:linopy.model: Solve problem using Highs solver\n",
      "INFO:linopy.io: Writing time: 0.08s\n",
      "INFO:linopy.constants: Optimization successful: \n",
      "Status: ok\n",
      "Termination condition: optimal\n",
      "Solution: 55 primals, 127 duals\n",
      "Objective: 0.00e+00\n",
      "Solver model: available\n",
      "Solver message: optimal\n",
      "\n",
      "INFO:pypsa.optimization.optimize:The shadow-prices of the constraints Generator-fix-p-lower, Generator-fix-p-upper, Generator-ext-p-lower, Generator-ext-p-upper, Link-fix-p-lower, Link-fix-p-upper, StorageUnit-fix-p_dispatch-lower, StorageUnit-fix-p_dispatch-upper, StorageUnit-fix-p_store-lower, StorageUnit-fix-p_store-upper, StorageUnit-fix-state_of_charge-lower, StorageUnit-fix-state_of_charge-upper, StorageUnit-energy_balance were not assigned to the network.\n"
     ]
    },
    {
     "data": {
      "text/plain": [
       "('ok', 'optimal')"
      ]
     },
     "execution_count": 95,
     "metadata": {},
     "output_type": "execute_result"
    }
   ],
   "source": [
    "network.optimize(solver_name='highs')"
   ]
  },
  {
   "cell_type": "markdown",
   "metadata": {},
   "source": [
    "**Results**"
   ]
  },
  {
   "cell_type": "code",
   "execution_count": null,
   "metadata": {},
   "outputs": [],
   "source": [
    "network.generators_t.p.head() # or .plot()"
   ]
  },
  {
   "cell_type": "code",
   "execution_count": null,
   "metadata": {},
   "outputs": [],
   "source": [
    "network.storage_units_t.p.head() # or .plot()"
   ]
  },
  {
   "cell_type": "code",
   "execution_count": null,
   "metadata": {},
   "outputs": [],
   "source": []
  },
  {
   "cell_type": "code",
   "execution_count": null,
   "metadata": {},
   "outputs": [],
   "source": []
  },
  {
   "cell_type": "code",
   "execution_count": null,
   "metadata": {},
   "outputs": [],
   "source": []
  },
  {
   "cell_type": "code",
   "execution_count": null,
   "metadata": {},
   "outputs": [],
   "source": []
  },
  {
   "cell_type": "code",
   "execution_count": null,
   "metadata": {},
   "outputs": [],
   "source": []
  },
  {
   "cell_type": "code",
   "execution_count": null,
   "metadata": {},
   "outputs": [],
   "source": [
    "\n"
   ]
  },
  {
   "cell_type": "code",
   "execution_count": null,
   "metadata": {},
   "outputs": [],
   "source": []
  },
  {
   "cell_type": "code",
   "execution_count": null,
   "metadata": {},
   "outputs": [],
   "source": []
  },
  {
   "cell_type": "markdown",
   "metadata": {},
   "source": [
    "### \n",
    "---"
   ]
  }
 ],
 "metadata": {
  "kernelspec": {
   "display_name": "flex_training_env",
   "language": "python",
   "name": "python3"
  },
  "language_info": {
   "codemirror_mode": {
    "name": "ipython",
    "version": 3
   },
   "file_extension": ".py",
   "mimetype": "text/x-python",
   "name": "python",
   "nbconvert_exporter": "python",
   "pygments_lexer": "ipython3",
   "version": "3.10.16"
  }
 },
 "nbformat": 4,
 "nbformat_minor": 2
}
