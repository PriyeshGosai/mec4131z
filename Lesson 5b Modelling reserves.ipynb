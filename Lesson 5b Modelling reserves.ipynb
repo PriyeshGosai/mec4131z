{
 "cells": [
  {
   "cell_type": "markdown",
   "metadata": {},
   "source": [
    "### 📘 Lesson 5: Modelling reserves on 4 second resolution data"
   ]
  },
  {
   "cell_type": "markdown",
   "metadata": {},
   "source": [
    "<div style=\"display: flex; align-items: center; justify-content: space-between;\">\n",
    "  <div>\n",
    "    <h3>Course presenters</h3>\n",
    "    <ul>\n",
    "      <li><strong>Priyesh Gosai</strong> - Energy Systems Modeler and Training Coordinator</li>\n",
    "      <li><strong>Dr. Fabian Hofmann</strong> - Senior Optimization and Energy System Modelling Expert</li>\n",
    "    </ul>\n",
    "  </div>\n",
    "  <div>\n",
    "    <a href=\"https://openenergytransition.org/index.html\">\n",
    "      <img src=\"https://openenergytransition.org/assets/img/oet-logo-red-n-subtitle.png\" height=\"60\" alt=\"OET\">\n",
    "    </a>\n",
    "  </div>\n",
    "</div>\n"
   ]
  },
  {
   "cell_type": "markdown",
   "metadata": {},
   "source": [
    "##### 🎯 Learning Objectives  \n"
   ]
  },
  {
   "cell_type": "markdown",
   "metadata": {},
   "source": [
    "\n",
    "* Import a network. \n",
    "* Evaluate input data.\n",
    "* Add reserve generators. \n",
    "* Inspect the results. \n",
    "\n",
    "---"
   ]
  },
  {
   "cell_type": "markdown",
   "metadata": {},
   "source": [
    "#### 📥 **Importing Networks in PyPSA** "
   ]
  },
  {
   "cell_type": "code",
   "execution_count": null,
   "metadata": {},
   "outputs": [],
   "source": [
    "# Google Colab users\n",
    "# Remove the comments in the rows below to set up your notebook.\n",
    "\n",
    "# from google.colab import drive\n",
    "# import os\n",
    "\n",
    "# drive.mount('/content/drive')\n",
    "# os.chdir('/content/drive/MyDrive/psfo_2025/mec4131z/')"
   ]
  },
  {
   "cell_type": "code",
   "execution_count": null,
   "metadata": {},
   "outputs": [],
   "source": [
    "# from colab_scripts import install_colab_dependencies\n",
    "# install_colab_dependencies()"
   ]
  },
  {
   "cell_type": "code",
   "execution_count": null,
   "metadata": {},
   "outputs": [],
   "source": [
    "import pypsa\n",
    "import pandas as pd\n",
    "import numpy as np\n",
    "import plotly.graph_objects as go\n",
    "import matplotlib.pyplot as plt\n",
    "\n",
    "from training_scripts import *\n"
   ]
  },
  {
   "cell_type": "code",
   "execution_count": null,
   "metadata": {},
   "outputs": [],
   "source": [
    "input_file_name = 'data/Lesson5_Reserves.xlsx'\n",
    "path = convert_selected_sheets_to_csv(input_file_name, 'lesson5_csv_folder')\n",
    "network = pypsa.Network(path)"
   ]
  },
  {
   "cell_type": "markdown",
   "metadata": {},
   "source": [
    "Now analyse the model that has been set up without any reserves. \n",
    "\n",
    "* Add in reserves.\n",
    "* Observe the effects of adding reserves. \n",
    "* How does, `ramp_limit_up/down` and `marginal_cost` affect the solution? "
   ]
  },
  {
   "cell_type": "code",
   "execution_count": null,
   "metadata": {},
   "outputs": [],
   "source": [
    "# Define your start and end times\n",
    "\n",
    "start_time = pd.Timestamp(\"2023/09/18  00:00:00\")\n",
    "end_time = pd.Timestamp(\"2023/09/20  00:00:00\")\n",
    "\n",
    "# Update the snapshots attribute with the new time window\n",
    "network.snapshots = network.snapshots[(network.snapshots >= start_time) & (network.snapshots <= end_time)]"
   ]
  },
  {
   "cell_type": "code",
   "execution_count": null,
   "metadata": {},
   "outputs": [],
   "source": [
    "network.generators_t.p_max_pu.plot()"
   ]
  },
  {
   "cell_type": "code",
   "execution_count": null,
   "metadata": {},
   "outputs": [],
   "source": [
    "network.loads_t.p_set.plot()"
   ]
  },
  {
   "cell_type": "code",
   "execution_count": null,
   "metadata": {},
   "outputs": [],
   "source": [
    "network.optimize()"
   ]
  },
  {
   "cell_type": "code",
   "execution_count": null,
   "metadata": {},
   "outputs": [],
   "source": [
    "network.generators_t.p.plot(kind = 'area')"
   ]
  },
  {
   "cell_type": "code",
   "execution_count": null,
   "metadata": {},
   "outputs": [],
   "source": [
    "# Define variable renewable energy sources\n",
    "VRE = ['Solar', 'Wind']\n",
    "\n",
    "# Calculate the available power for VRE: nominal capacity multiplied by the max utilization factor\n",
    "available_power = network.generators['p_nom'][VRE] * network.generators_t.p_max_pu[VRE]\n",
    "\n",
    "# Get the actual power output\n",
    "actual_power = network.generators_t.p[VRE]\n",
    "\n",
    "\n",
    "\n",
    "df_curtailment = available_power - actual_power\n",
    "\n",
    "# Plot the result\n",
    "df_curtailment.plot()\n",
    "\n"
   ]
  },
  {
   "cell_type": "code",
   "execution_count": null,
   "metadata": {},
   "outputs": [],
   "source": [
    "df_curtailment.sum()"
   ]
  },
  {
   "cell_type": "code",
   "execution_count": null,
   "metadata": {},
   "outputs": [],
   "source": [
    "network.statistics.curtailment()"
   ]
  },
  {
   "cell_type": "code",
   "execution_count": null,
   "metadata": {},
   "outputs": [],
   "source": [
    "network.generators_t.p.describe()"
   ]
  },
  {
   "cell_type": "code",
   "execution_count": null,
   "metadata": {},
   "outputs": [],
   "source": [
    "network.loads_t.p_set.plot()"
   ]
  },
  {
   "cell_type": "code",
   "execution_count": null,
   "metadata": {},
   "outputs": [],
   "source": []
  },
  {
   "cell_type": "code",
   "execution_count": null,
   "metadata": {},
   "outputs": [],
   "source": []
  },
  {
   "cell_type": "code",
   "execution_count": null,
   "metadata": {},
   "outputs": [],
   "source": []
  },
  {
   "cell_type": "code",
   "execution_count": null,
   "metadata": {},
   "outputs": [],
   "source": []
  },
  {
   "cell_type": "code",
   "execution_count": null,
   "metadata": {},
   "outputs": [],
   "source": []
  },
  {
   "cell_type": "code",
   "execution_count": null,
   "metadata": {},
   "outputs": [],
   "source": []
  },
  {
   "cell_type": "markdown",
   "metadata": {},
   "source": [
    "### \n",
    "---"
   ]
  }
 ],
 "metadata": {
  "kernelspec": {
   "display_name": "flex_training_env",
   "language": "python",
   "name": "python3"
  },
  "language_info": {
   "codemirror_mode": {
    "name": "ipython",
    "version": 3
   },
   "file_extension": ".py",
   "mimetype": "text/x-python",
   "name": "python",
   "nbconvert_exporter": "python",
   "pygments_lexer": "ipython3",
   "version": "3.10.16"
  }
 },
 "nbformat": 4,
 "nbformat_minor": 2
}
