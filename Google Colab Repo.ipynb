{
 "cells": [
  {
   "cell_type": "markdown",
   "id": "5ed4cf09",
   "metadata": {},
   "source": [
    "## Setting up the repository for Google Colab\n",
    "\n",
    "This notebook is designed to help you set up a GitHub repository directly within Google Colab, allowing you to easily access, update, and work on your project files from Google Drive.\n",
    "\n",
    "The setup process involves creating a dedicated folder within your MyDrive directory in Google Drive, where the repository will be cloned and managed. The notebook includes the necessary commands to:\n",
    "\n",
    "* Mount the Drive\n",
    "* Clone the Repository\n",
    "* Fetch Updates\n",
    "* Pull Changes\n",
    "* Test pypsa"
   ]
  },
  {
   "cell_type": "markdown",
   "id": "303ad2c4",
   "metadata": {},
   "source": [
    "### Mount a Google Drive\n",
    "\n",
    "This cell mounts your Google Drive in your Colab environment. By doing so, it lets you access files stored on your Google Drive (for example, data files or project repositories) directly from Colab. Use this cell at the beginning of your notebook when you plan to work with files on your Drive.\n",
    "\n",
    "**Note: You will need to authorise access for your Google Drive to link to this notebook.**"
   ]
  },
  {
   "cell_type": "code",
   "execution_count": null,
   "id": "ffcdf934",
   "metadata": {},
   "outputs": [],
   "source": [
    "from google.colab import drive\n",
    "import os\n",
    "import subprocess\n",
    "\n",
    "\n",
    "drive.mount('/content/drive')\n",
    "\n",
    "# Change to the desired base directory\n",
    "os.chdir('/content/drive/MyDrive/')\n",
    "\n",
    "# Create the directory if it doesn't exist\n",
    "os.makedirs('psfo_2025', exist_ok=True)\n",
    "\n",
    "# Change to the new directory\n",
    "os.chdir('psfo_2025')\n",
    "\n",
    "# Clone the Git repository\n",
    "subprocess.run(['git', 'clone', 'https://github.com/PriyeshGosai/mec4131z'])\n",
    "\n"
   ]
  },
  {
   "cell_type": "code",
   "execution_count": null,
   "id": "0de47b7d",
   "metadata": {},
   "outputs": [],
   "source": [
    "drive.mount('/content/drive')\n",
    "\n",
    "# Change to the desired base directory\n",
    "os.chdir('/content/drive/MyDrive/')\n",
    "\n",
    "# Create the directory if it doesn't exist\n",
    "os.makedirs('psfo_2025', exist_ok=True)\n",
    "\n",
    "# Change to the new directory\n",
    "os.chdir('psfo_2025')\n",
    "\n",
    "# Clone the Git repository\n",
    "subprocess.run(['git', 'pull', 'https://github.com/PriyeshGosai/mec4131z'])\n"
   ]
  },
  {
   "cell_type": "markdown",
   "id": "6d7649d2",
   "metadata": {},
   "source": [
    "### Clone the repository\n",
    "\n",
    "This cell uses a bash command (using the `%%bash` magic) to perform a series of operations on your Google Drive:\n",
    "\n",
    "- **Navigate** to your `MyDrive` directory.\n",
    "- **Create** a directory called `mec4131z` if it does not already exist.\n",
    "- **Clone** the GitHub repository `mec4131z` from your GitHub account into that directory.\n",
    "\n",
    "Use this cell when you want to pull a repository from GitHub into your Drive for further work or analysis."
   ]
  },
  {
   "cell_type": "markdown",
   "id": "fc779111",
   "metadata": {},
   "source": [
    "### Pull the updates from the repository.\n",
    "\n",
    "This cell also uses a bash command to manage a Git repository stored in your Google Drive. It does the following:\n",
    "\n",
    "- **Navigates** to the `pg-dip-courses/mec4131z` directory in your Drive.\n",
    "- **Pulls** the latest changes from the remote repository.\n",
    "\n",
    "You would use this cell to update your local repository with the latest changes from GitHub, ensuring that your code is up-to-date."
   ]
  },
  {
   "cell_type": "markdown",
   "id": "6d11f18b",
   "metadata": {},
   "source": [
    "### Reset and Fetch the updates from the repository.\n",
    "\n",
    "**Warning, this will overwrite all data in the repo.**\n",
    "\n",
    "This cell also uses a bash command to manage a Git repository stored in your Google Drive. It does the following:\n",
    "\n",
    "- **Navigates** to the `pg-dip-courses/mec4131z` directory in your Drive.\n",
    "- **Fetches** the latest changes from the remote repository.\n",
    "- **Resets** your local copy to match the remote branch (`origin/main` or `origin/master`).\n",
    "\n",
    "You would use this cell to update your local repository with the latest changes from GitHub, ensuring that your code is up-to-date."
   ]
  },
  {
   "cell_type": "markdown",
   "id": "7a1212aa",
   "metadata": {},
   "source": [
    "### Check if Google Colab works"
   ]
  },
  {
   "cell_type": "code",
   "execution_count": null,
   "id": "dd21d923",
   "metadata": {},
   "outputs": [],
   "source": [
    "os.chdir('mec4131z')\n",
    "\n",
    "from training_scripts import install_colab_dependencies\n",
    "install_colab_dependencies()\n",
    "import pypsa \n",
    "\n",
    "network = pypsa.examples.ac_dc_meshed()\n",
    "network\n",
    "network.optimize()"
   ]
  }
 ],
 "metadata": {
  "kernelspec": {
   "display_name": "Python 3",
   "language": "python",
   "name": "python3"
  },
  "language_info": {
   "name": "python",
   "version": "3.x"
  }
 },
 "nbformat": 4,
 "nbformat_minor": 5
}
